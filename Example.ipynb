{
 "cells": [
  {
   "cell_type": "markdown",
   "source": [
    "# Import"
   ],
   "metadata": {}
  },
  {
   "cell_type": "code",
   "execution_count": 2,
   "source": [
    "import numpy as np\r\n",
    "import pandas as pd\r\n",
    "import seaborn as sns\r\n",
    "import matplotlib.pyplot as plt\r\n",
    "import plotly.graph_objects as ply_go\r\n",
    "from sklearn import metrics\r\n",
    "from sklearn import datasets\r\n",
    "from sklearn.ensemble import RandomForestClassifier\r\n",
    "from sklearn.model_selection import train_test_split\r\n",
    "from sklearn.model_selection import cross_val_score"
   ],
   "outputs": [],
   "metadata": {}
  },
  {
   "cell_type": "markdown",
   "source": [
    "# Load dataset"
   ],
   "metadata": {}
  },
  {
   "cell_type": "code",
   "execution_count": 5,
   "source": [
    "iris_data = datasets.load_iris()\r\n",
    "x = iris_data.data\r\n",
    "y = iris_data.target\r\n",
    "iris = pd.DataFrame([np.append(i,j) for i,j in zip(x,y)])\r\n",
    "feature = ['Sepal_Length', 'Sepal_Width', 'Petal_Length', 'Petal_Width']\r\n",
    "iris.columns = feature+ ['Label']\r\n",
    "iris"
   ],
   "outputs": [
    {
     "output_type": "execute_result",
     "data": {
      "text/plain": [
       "     Sepal_Length  Sepal_Width  Petal_Length  Petal_Width  Label\n",
       "0             5.1          3.5           1.4          0.2    0.0\n",
       "1             4.9          3.0           1.4          0.2    0.0\n",
       "2             4.7          3.2           1.3          0.2    0.0\n",
       "3             4.6          3.1           1.5          0.2    0.0\n",
       "4             5.0          3.6           1.4          0.2    0.0\n",
       "..            ...          ...           ...          ...    ...\n",
       "145           6.7          3.0           5.2          2.3    2.0\n",
       "146           6.3          2.5           5.0          1.9    2.0\n",
       "147           6.5          3.0           5.2          2.0    2.0\n",
       "148           6.2          3.4           5.4          2.3    2.0\n",
       "149           5.9          3.0           5.1          1.8    2.0\n",
       "\n",
       "[150 rows x 5 columns]"
      ],
      "text/html": [
       "<div>\n",
       "<style scoped>\n",
       "    .dataframe tbody tr th:only-of-type {\n",
       "        vertical-align: middle;\n",
       "    }\n",
       "\n",
       "    .dataframe tbody tr th {\n",
       "        vertical-align: top;\n",
       "    }\n",
       "\n",
       "    .dataframe thead th {\n",
       "        text-align: right;\n",
       "    }\n",
       "</style>\n",
       "<table border=\"1\" class=\"dataframe\">\n",
       "  <thead>\n",
       "    <tr style=\"text-align: right;\">\n",
       "      <th></th>\n",
       "      <th>Sepal_Length</th>\n",
       "      <th>Sepal_Width</th>\n",
       "      <th>Petal_Length</th>\n",
       "      <th>Petal_Width</th>\n",
       "      <th>Label</th>\n",
       "    </tr>\n",
       "  </thead>\n",
       "  <tbody>\n",
       "    <tr>\n",
       "      <th>0</th>\n",
       "      <td>5.1</td>\n",
       "      <td>3.5</td>\n",
       "      <td>1.4</td>\n",
       "      <td>0.2</td>\n",
       "      <td>0.0</td>\n",
       "    </tr>\n",
       "    <tr>\n",
       "      <th>1</th>\n",
       "      <td>4.9</td>\n",
       "      <td>3.0</td>\n",
       "      <td>1.4</td>\n",
       "      <td>0.2</td>\n",
       "      <td>0.0</td>\n",
       "    </tr>\n",
       "    <tr>\n",
       "      <th>2</th>\n",
       "      <td>4.7</td>\n",
       "      <td>3.2</td>\n",
       "      <td>1.3</td>\n",
       "      <td>0.2</td>\n",
       "      <td>0.0</td>\n",
       "    </tr>\n",
       "    <tr>\n",
       "      <th>3</th>\n",
       "      <td>4.6</td>\n",
       "      <td>3.1</td>\n",
       "      <td>1.5</td>\n",
       "      <td>0.2</td>\n",
       "      <td>0.0</td>\n",
       "    </tr>\n",
       "    <tr>\n",
       "      <th>4</th>\n",
       "      <td>5.0</td>\n",
       "      <td>3.6</td>\n",
       "      <td>1.4</td>\n",
       "      <td>0.2</td>\n",
       "      <td>0.0</td>\n",
       "    </tr>\n",
       "    <tr>\n",
       "      <th>...</th>\n",
       "      <td>...</td>\n",
       "      <td>...</td>\n",
       "      <td>...</td>\n",
       "      <td>...</td>\n",
       "      <td>...</td>\n",
       "    </tr>\n",
       "    <tr>\n",
       "      <th>145</th>\n",
       "      <td>6.7</td>\n",
       "      <td>3.0</td>\n",
       "      <td>5.2</td>\n",
       "      <td>2.3</td>\n",
       "      <td>2.0</td>\n",
       "    </tr>\n",
       "    <tr>\n",
       "      <th>146</th>\n",
       "      <td>6.3</td>\n",
       "      <td>2.5</td>\n",
       "      <td>5.0</td>\n",
       "      <td>1.9</td>\n",
       "      <td>2.0</td>\n",
       "    </tr>\n",
       "    <tr>\n",
       "      <th>147</th>\n",
       "      <td>6.5</td>\n",
       "      <td>3.0</td>\n",
       "      <td>5.2</td>\n",
       "      <td>2.0</td>\n",
       "      <td>2.0</td>\n",
       "    </tr>\n",
       "    <tr>\n",
       "      <th>148</th>\n",
       "      <td>6.2</td>\n",
       "      <td>3.4</td>\n",
       "      <td>5.4</td>\n",
       "      <td>2.3</td>\n",
       "      <td>2.0</td>\n",
       "    </tr>\n",
       "    <tr>\n",
       "      <th>149</th>\n",
       "      <td>5.9</td>\n",
       "      <td>3.0</td>\n",
       "      <td>5.1</td>\n",
       "      <td>1.8</td>\n",
       "      <td>2.0</td>\n",
       "    </tr>\n",
       "  </tbody>\n",
       "</table>\n",
       "<p>150 rows × 5 columns</p>\n",
       "</div>"
      ]
     },
     "metadata": {},
     "execution_count": 5
    }
   ],
   "metadata": {}
  },
  {
   "cell_type": "markdown",
   "source": [
    "# Analysis and visualization"
   ],
   "metadata": {}
  },
  {
   "cell_type": "code",
   "execution_count": 3,
   "source": [
    "# 统计每个品种有多少个样本\r\n",
    "iris[\"Label\"].value_counts()"
   ],
   "outputs": [
    {
     "output_type": "execute_result",
     "data": {
      "text/plain": [
       "2.0    50\n",
       "1.0    50\n",
       "0.0    50\n",
       "Name: Label, dtype: int64"
      ]
     },
     "metadata": {},
     "execution_count": 3
    }
   ],
   "metadata": {}
  },
  {
   "cell_type": "code",
   "execution_count": 16,
   "source": [
    "my_title_layout = dict({\"text\":\"my distribution\", 'xanchor':'center', 'x':0.5, 'y':0.9, 'font':{'size':24}})\r\n",
    "my_xaxis_layout = dict(title=dict(text=\"my x axis\", font={'size':16}))\r\n",
    "my_layout = dict(title=my_title_layout,\r\n",
    "                xaxis= my_xaxis_layout)\r\n",
    "\r\n",
    "DF = iris\r\n",
    "for c in iris.columns[:-1]:\r\n",
    "    hist_data = ply_go.Histogram(x=DF[c], name='Label', showlegend=False, xbins={'size':1})\r\n",
    "    fig = ply_go.Figure(data=[hist_data], layout=my_layout)\r\n",
    "    fig.update_layout(title={'text': c+' distribution'}, xaxis={\"title\":{\"text\":c}})\r\n",
    "    fig.show()"
   ],
   "outputs": [
    {
     "output_type": "display_data",
     "data": {
      "application/vnd.plotly.v1+json": {
       "config": {
        "plotlyServerURL": "https://plot.ly"
       },
       "data": [
        {
         "name": "Label",
         "showlegend": false,
         "type": "histogram",
         "x": [
          5.1,
          4.9,
          4.7,
          4.6,
          5,
          5.4,
          4.6,
          5,
          4.4,
          4.9,
          5.4,
          4.8,
          4.8,
          4.3,
          5.8,
          5.7,
          5.4,
          5.1,
          5.7,
          5.1,
          5.4,
          5.1,
          4.6,
          5.1,
          4.8,
          5,
          5,
          5.2,
          5.2,
          4.7,
          4.8,
          5.4,
          5.2,
          5.5,
          4.9,
          5,
          5.5,
          4.9,
          4.4,
          5.1,
          5,
          4.5,
          4.4,
          5,
          5.1,
          4.8,
          5.1,
          4.6,
          5.3,
          5,
          7,
          6.4,
          6.9,
          5.5,
          6.5,
          5.7,
          6.3,
          4.9,
          6.6,
          5.2,
          5,
          5.9,
          6,
          6.1,
          5.6,
          6.7,
          5.6,
          5.8,
          6.2,
          5.6,
          5.9,
          6.1,
          6.3,
          6.1,
          6.4,
          6.6,
          6.8,
          6.7,
          6,
          5.7,
          5.5,
          5.5,
          5.8,
          6,
          5.4,
          6,
          6.7,
          6.3,
          5.6,
          5.5,
          5.5,
          6.1,
          5.8,
          5,
          5.6,
          5.7,
          5.7,
          6.2,
          5.1,
          5.7,
          6.3,
          5.8,
          7.1,
          6.3,
          6.5,
          7.6,
          4.9,
          7.3,
          6.7,
          7.2,
          6.5,
          6.4,
          6.8,
          5.7,
          5.8,
          6.4,
          6.5,
          7.7,
          7.7,
          6,
          6.9,
          5.6,
          7.7,
          6.3,
          6.7,
          7.2,
          6.2,
          6.1,
          6.4,
          7.2,
          7.4,
          7.9,
          6.4,
          6.3,
          6.1,
          7.7,
          6.3,
          6.4,
          6,
          6.9,
          6.7,
          6.9,
          5.8,
          6.8,
          6.7,
          6.7,
          6.3,
          6.5,
          6.2,
          5.9
         ],
         "xbins": {
          "size": 1
         }
        }
       ],
       "layout": {
        "template": {
         "data": {
          "bar": [
           {
            "error_x": {
             "color": "#2a3f5f"
            },
            "error_y": {
             "color": "#2a3f5f"
            },
            "marker": {
             "line": {
              "color": "#E5ECF6",
              "width": 0.5
             },
             "pattern": {
              "fillmode": "overlay",
              "size": 10,
              "solidity": 0.2
             }
            },
            "type": "bar"
           }
          ],
          "barpolar": [
           {
            "marker": {
             "line": {
              "color": "#E5ECF6",
              "width": 0.5
             },
             "pattern": {
              "fillmode": "overlay",
              "size": 10,
              "solidity": 0.2
             }
            },
            "type": "barpolar"
           }
          ],
          "carpet": [
           {
            "aaxis": {
             "endlinecolor": "#2a3f5f",
             "gridcolor": "white",
             "linecolor": "white",
             "minorgridcolor": "white",
             "startlinecolor": "#2a3f5f"
            },
            "baxis": {
             "endlinecolor": "#2a3f5f",
             "gridcolor": "white",
             "linecolor": "white",
             "minorgridcolor": "white",
             "startlinecolor": "#2a3f5f"
            },
            "type": "carpet"
           }
          ],
          "choropleth": [
           {
            "colorbar": {
             "outlinewidth": 0,
             "ticks": ""
            },
            "type": "choropleth"
           }
          ],
          "contour": [
           {
            "colorbar": {
             "outlinewidth": 0,
             "ticks": ""
            },
            "colorscale": [
             [
              0,
              "#0d0887"
             ],
             [
              0.1111111111111111,
              "#46039f"
             ],
             [
              0.2222222222222222,
              "#7201a8"
             ],
             [
              0.3333333333333333,
              "#9c179e"
             ],
             [
              0.4444444444444444,
              "#bd3786"
             ],
             [
              0.5555555555555556,
              "#d8576b"
             ],
             [
              0.6666666666666666,
              "#ed7953"
             ],
             [
              0.7777777777777778,
              "#fb9f3a"
             ],
             [
              0.8888888888888888,
              "#fdca26"
             ],
             [
              1,
              "#f0f921"
             ]
            ],
            "type": "contour"
           }
          ],
          "contourcarpet": [
           {
            "colorbar": {
             "outlinewidth": 0,
             "ticks": ""
            },
            "type": "contourcarpet"
           }
          ],
          "heatmap": [
           {
            "colorbar": {
             "outlinewidth": 0,
             "ticks": ""
            },
            "colorscale": [
             [
              0,
              "#0d0887"
             ],
             [
              0.1111111111111111,
              "#46039f"
             ],
             [
              0.2222222222222222,
              "#7201a8"
             ],
             [
              0.3333333333333333,
              "#9c179e"
             ],
             [
              0.4444444444444444,
              "#bd3786"
             ],
             [
              0.5555555555555556,
              "#d8576b"
             ],
             [
              0.6666666666666666,
              "#ed7953"
             ],
             [
              0.7777777777777778,
              "#fb9f3a"
             ],
             [
              0.8888888888888888,
              "#fdca26"
             ],
             [
              1,
              "#f0f921"
             ]
            ],
            "type": "heatmap"
           }
          ],
          "heatmapgl": [
           {
            "colorbar": {
             "outlinewidth": 0,
             "ticks": ""
            },
            "colorscale": [
             [
              0,
              "#0d0887"
             ],
             [
              0.1111111111111111,
              "#46039f"
             ],
             [
              0.2222222222222222,
              "#7201a8"
             ],
             [
              0.3333333333333333,
              "#9c179e"
             ],
             [
              0.4444444444444444,
              "#bd3786"
             ],
             [
              0.5555555555555556,
              "#d8576b"
             ],
             [
              0.6666666666666666,
              "#ed7953"
             ],
             [
              0.7777777777777778,
              "#fb9f3a"
             ],
             [
              0.8888888888888888,
              "#fdca26"
             ],
             [
              1,
              "#f0f921"
             ]
            ],
            "type": "heatmapgl"
           }
          ],
          "histogram": [
           {
            "marker": {
             "pattern": {
              "fillmode": "overlay",
              "size": 10,
              "solidity": 0.2
             }
            },
            "type": "histogram"
           }
          ],
          "histogram2d": [
           {
            "colorbar": {
             "outlinewidth": 0,
             "ticks": ""
            },
            "colorscale": [
             [
              0,
              "#0d0887"
             ],
             [
              0.1111111111111111,
              "#46039f"
             ],
             [
              0.2222222222222222,
              "#7201a8"
             ],
             [
              0.3333333333333333,
              "#9c179e"
             ],
             [
              0.4444444444444444,
              "#bd3786"
             ],
             [
              0.5555555555555556,
              "#d8576b"
             ],
             [
              0.6666666666666666,
              "#ed7953"
             ],
             [
              0.7777777777777778,
              "#fb9f3a"
             ],
             [
              0.8888888888888888,
              "#fdca26"
             ],
             [
              1,
              "#f0f921"
             ]
            ],
            "type": "histogram2d"
           }
          ],
          "histogram2dcontour": [
           {
            "colorbar": {
             "outlinewidth": 0,
             "ticks": ""
            },
            "colorscale": [
             [
              0,
              "#0d0887"
             ],
             [
              0.1111111111111111,
              "#46039f"
             ],
             [
              0.2222222222222222,
              "#7201a8"
             ],
             [
              0.3333333333333333,
              "#9c179e"
             ],
             [
              0.4444444444444444,
              "#bd3786"
             ],
             [
              0.5555555555555556,
              "#d8576b"
             ],
             [
              0.6666666666666666,
              "#ed7953"
             ],
             [
              0.7777777777777778,
              "#fb9f3a"
             ],
             [
              0.8888888888888888,
              "#fdca26"
             ],
             [
              1,
              "#f0f921"
             ]
            ],
            "type": "histogram2dcontour"
           }
          ],
          "mesh3d": [
           {
            "colorbar": {
             "outlinewidth": 0,
             "ticks": ""
            },
            "type": "mesh3d"
           }
          ],
          "parcoords": [
           {
            "line": {
             "colorbar": {
              "outlinewidth": 0,
              "ticks": ""
             }
            },
            "type": "parcoords"
           }
          ],
          "pie": [
           {
            "automargin": true,
            "type": "pie"
           }
          ],
          "scatter": [
           {
            "marker": {
             "colorbar": {
              "outlinewidth": 0,
              "ticks": ""
             }
            },
            "type": "scatter"
           }
          ],
          "scatter3d": [
           {
            "line": {
             "colorbar": {
              "outlinewidth": 0,
              "ticks": ""
             }
            },
            "marker": {
             "colorbar": {
              "outlinewidth": 0,
              "ticks": ""
             }
            },
            "type": "scatter3d"
           }
          ],
          "scattercarpet": [
           {
            "marker": {
             "colorbar": {
              "outlinewidth": 0,
              "ticks": ""
             }
            },
            "type": "scattercarpet"
           }
          ],
          "scattergeo": [
           {
            "marker": {
             "colorbar": {
              "outlinewidth": 0,
              "ticks": ""
             }
            },
            "type": "scattergeo"
           }
          ],
          "scattergl": [
           {
            "marker": {
             "colorbar": {
              "outlinewidth": 0,
              "ticks": ""
             }
            },
            "type": "scattergl"
           }
          ],
          "scattermapbox": [
           {
            "marker": {
             "colorbar": {
              "outlinewidth": 0,
              "ticks": ""
             }
            },
            "type": "scattermapbox"
           }
          ],
          "scatterpolar": [
           {
            "marker": {
             "colorbar": {
              "outlinewidth": 0,
              "ticks": ""
             }
            },
            "type": "scatterpolar"
           }
          ],
          "scatterpolargl": [
           {
            "marker": {
             "colorbar": {
              "outlinewidth": 0,
              "ticks": ""
             }
            },
            "type": "scatterpolargl"
           }
          ],
          "scatterternary": [
           {
            "marker": {
             "colorbar": {
              "outlinewidth": 0,
              "ticks": ""
             }
            },
            "type": "scatterternary"
           }
          ],
          "surface": [
           {
            "colorbar": {
             "outlinewidth": 0,
             "ticks": ""
            },
            "colorscale": [
             [
              0,
              "#0d0887"
             ],
             [
              0.1111111111111111,
              "#46039f"
             ],
             [
              0.2222222222222222,
              "#7201a8"
             ],
             [
              0.3333333333333333,
              "#9c179e"
             ],
             [
              0.4444444444444444,
              "#bd3786"
             ],
             [
              0.5555555555555556,
              "#d8576b"
             ],
             [
              0.6666666666666666,
              "#ed7953"
             ],
             [
              0.7777777777777778,
              "#fb9f3a"
             ],
             [
              0.8888888888888888,
              "#fdca26"
             ],
             [
              1,
              "#f0f921"
             ]
            ],
            "type": "surface"
           }
          ],
          "table": [
           {
            "cells": {
             "fill": {
              "color": "#EBF0F8"
             },
             "line": {
              "color": "white"
             }
            },
            "header": {
             "fill": {
              "color": "#C8D4E3"
             },
             "line": {
              "color": "white"
             }
            },
            "type": "table"
           }
          ]
         },
         "layout": {
          "annotationdefaults": {
           "arrowcolor": "#2a3f5f",
           "arrowhead": 0,
           "arrowwidth": 1
          },
          "autotypenumbers": "strict",
          "coloraxis": {
           "colorbar": {
            "outlinewidth": 0,
            "ticks": ""
           }
          },
          "colorscale": {
           "diverging": [
            [
             0,
             "#8e0152"
            ],
            [
             0.1,
             "#c51b7d"
            ],
            [
             0.2,
             "#de77ae"
            ],
            [
             0.3,
             "#f1b6da"
            ],
            [
             0.4,
             "#fde0ef"
            ],
            [
             0.5,
             "#f7f7f7"
            ],
            [
             0.6,
             "#e6f5d0"
            ],
            [
             0.7,
             "#b8e186"
            ],
            [
             0.8,
             "#7fbc41"
            ],
            [
             0.9,
             "#4d9221"
            ],
            [
             1,
             "#276419"
            ]
           ],
           "sequential": [
            [
             0,
             "#0d0887"
            ],
            [
             0.1111111111111111,
             "#46039f"
            ],
            [
             0.2222222222222222,
             "#7201a8"
            ],
            [
             0.3333333333333333,
             "#9c179e"
            ],
            [
             0.4444444444444444,
             "#bd3786"
            ],
            [
             0.5555555555555556,
             "#d8576b"
            ],
            [
             0.6666666666666666,
             "#ed7953"
            ],
            [
             0.7777777777777778,
             "#fb9f3a"
            ],
            [
             0.8888888888888888,
             "#fdca26"
            ],
            [
             1,
             "#f0f921"
            ]
           ],
           "sequentialminus": [
            [
             0,
             "#0d0887"
            ],
            [
             0.1111111111111111,
             "#46039f"
            ],
            [
             0.2222222222222222,
             "#7201a8"
            ],
            [
             0.3333333333333333,
             "#9c179e"
            ],
            [
             0.4444444444444444,
             "#bd3786"
            ],
            [
             0.5555555555555556,
             "#d8576b"
            ],
            [
             0.6666666666666666,
             "#ed7953"
            ],
            [
             0.7777777777777778,
             "#fb9f3a"
            ],
            [
             0.8888888888888888,
             "#fdca26"
            ],
            [
             1,
             "#f0f921"
            ]
           ]
          },
          "colorway": [
           "#636efa",
           "#EF553B",
           "#00cc96",
           "#ab63fa",
           "#FFA15A",
           "#19d3f3",
           "#FF6692",
           "#B6E880",
           "#FF97FF",
           "#FECB52"
          ],
          "font": {
           "color": "#2a3f5f"
          },
          "geo": {
           "bgcolor": "white",
           "lakecolor": "white",
           "landcolor": "#E5ECF6",
           "showlakes": true,
           "showland": true,
           "subunitcolor": "white"
          },
          "hoverlabel": {
           "align": "left"
          },
          "hovermode": "closest",
          "mapbox": {
           "style": "light"
          },
          "paper_bgcolor": "white",
          "plot_bgcolor": "#E5ECF6",
          "polar": {
           "angularaxis": {
            "gridcolor": "white",
            "linecolor": "white",
            "ticks": ""
           },
           "bgcolor": "#E5ECF6",
           "radialaxis": {
            "gridcolor": "white",
            "linecolor": "white",
            "ticks": ""
           }
          },
          "scene": {
           "xaxis": {
            "backgroundcolor": "#E5ECF6",
            "gridcolor": "white",
            "gridwidth": 2,
            "linecolor": "white",
            "showbackground": true,
            "ticks": "",
            "zerolinecolor": "white"
           },
           "yaxis": {
            "backgroundcolor": "#E5ECF6",
            "gridcolor": "white",
            "gridwidth": 2,
            "linecolor": "white",
            "showbackground": true,
            "ticks": "",
            "zerolinecolor": "white"
           },
           "zaxis": {
            "backgroundcolor": "#E5ECF6",
            "gridcolor": "white",
            "gridwidth": 2,
            "linecolor": "white",
            "showbackground": true,
            "ticks": "",
            "zerolinecolor": "white"
           }
          },
          "shapedefaults": {
           "line": {
            "color": "#2a3f5f"
           }
          },
          "ternary": {
           "aaxis": {
            "gridcolor": "white",
            "linecolor": "white",
            "ticks": ""
           },
           "baxis": {
            "gridcolor": "white",
            "linecolor": "white",
            "ticks": ""
           },
           "bgcolor": "#E5ECF6",
           "caxis": {
            "gridcolor": "white",
            "linecolor": "white",
            "ticks": ""
           }
          },
          "title": {
           "x": 0.05
          },
          "xaxis": {
           "automargin": true,
           "gridcolor": "white",
           "linecolor": "white",
           "ticks": "",
           "title": {
            "standoff": 15
           },
           "zerolinecolor": "white",
           "zerolinewidth": 2
          },
          "yaxis": {
           "automargin": true,
           "gridcolor": "white",
           "linecolor": "white",
           "ticks": "",
           "title": {
            "standoff": 15
           },
           "zerolinecolor": "white",
           "zerolinewidth": 2
          }
         }
        },
        "title": {
         "font": {
          "size": 24
         },
         "text": "Sepal_Length distribution",
         "x": 0.5,
         "xanchor": "center",
         "y": 0.9
        },
        "xaxis": {
         "title": {
          "font": {
           "size": 16
          },
          "text": "Sepal_Length"
         }
        }
       }
      }
     },
     "metadata": {}
    },
    {
     "output_type": "display_data",
     "data": {
      "application/vnd.plotly.v1+json": {
       "config": {
        "plotlyServerURL": "https://plot.ly"
       },
       "data": [
        {
         "name": "Label",
         "showlegend": false,
         "type": "histogram",
         "x": [
          3.5,
          3,
          3.2,
          3.1,
          3.6,
          3.9,
          3.4,
          3.4,
          2.9,
          3.1,
          3.7,
          3.4,
          3,
          3,
          4,
          4.4,
          3.9,
          3.5,
          3.8,
          3.8,
          3.4,
          3.7,
          3.6,
          3.3,
          3.4,
          3,
          3.4,
          3.5,
          3.4,
          3.2,
          3.1,
          3.4,
          4.1,
          4.2,
          3.1,
          3.2,
          3.5,
          3.6,
          3,
          3.4,
          3.5,
          2.3,
          3.2,
          3.5,
          3.8,
          3,
          3.8,
          3.2,
          3.7,
          3.3,
          3.2,
          3.2,
          3.1,
          2.3,
          2.8,
          2.8,
          3.3,
          2.4,
          2.9,
          2.7,
          2,
          3,
          2.2,
          2.9,
          2.9,
          3.1,
          3,
          2.7,
          2.2,
          2.5,
          3.2,
          2.8,
          2.5,
          2.8,
          2.9,
          3,
          2.8,
          3,
          2.9,
          2.6,
          2.4,
          2.4,
          2.7,
          2.7,
          3,
          3.4,
          3.1,
          2.3,
          3,
          2.5,
          2.6,
          3,
          2.6,
          2.3,
          2.7,
          3,
          2.9,
          2.9,
          2.5,
          2.8,
          3.3,
          2.7,
          3,
          2.9,
          3,
          3,
          2.5,
          2.9,
          2.5,
          3.6,
          3.2,
          2.7,
          3,
          2.5,
          2.8,
          3.2,
          3,
          3.8,
          2.6,
          2.2,
          3.2,
          2.8,
          2.8,
          2.7,
          3.3,
          3.2,
          2.8,
          3,
          2.8,
          3,
          2.8,
          3.8,
          2.8,
          2.8,
          2.6,
          3,
          3.4,
          3.1,
          3,
          3.1,
          3.1,
          3.1,
          2.7,
          3.2,
          3.3,
          3,
          2.5,
          3,
          3.4,
          3
         ],
         "xbins": {
          "size": 1
         }
        }
       ],
       "layout": {
        "template": {
         "data": {
          "bar": [
           {
            "error_x": {
             "color": "#2a3f5f"
            },
            "error_y": {
             "color": "#2a3f5f"
            },
            "marker": {
             "line": {
              "color": "#E5ECF6",
              "width": 0.5
             },
             "pattern": {
              "fillmode": "overlay",
              "size": 10,
              "solidity": 0.2
             }
            },
            "type": "bar"
           }
          ],
          "barpolar": [
           {
            "marker": {
             "line": {
              "color": "#E5ECF6",
              "width": 0.5
             },
             "pattern": {
              "fillmode": "overlay",
              "size": 10,
              "solidity": 0.2
             }
            },
            "type": "barpolar"
           }
          ],
          "carpet": [
           {
            "aaxis": {
             "endlinecolor": "#2a3f5f",
             "gridcolor": "white",
             "linecolor": "white",
             "minorgridcolor": "white",
             "startlinecolor": "#2a3f5f"
            },
            "baxis": {
             "endlinecolor": "#2a3f5f",
             "gridcolor": "white",
             "linecolor": "white",
             "minorgridcolor": "white",
             "startlinecolor": "#2a3f5f"
            },
            "type": "carpet"
           }
          ],
          "choropleth": [
           {
            "colorbar": {
             "outlinewidth": 0,
             "ticks": ""
            },
            "type": "choropleth"
           }
          ],
          "contour": [
           {
            "colorbar": {
             "outlinewidth": 0,
             "ticks": ""
            },
            "colorscale": [
             [
              0,
              "#0d0887"
             ],
             [
              0.1111111111111111,
              "#46039f"
             ],
             [
              0.2222222222222222,
              "#7201a8"
             ],
             [
              0.3333333333333333,
              "#9c179e"
             ],
             [
              0.4444444444444444,
              "#bd3786"
             ],
             [
              0.5555555555555556,
              "#d8576b"
             ],
             [
              0.6666666666666666,
              "#ed7953"
             ],
             [
              0.7777777777777778,
              "#fb9f3a"
             ],
             [
              0.8888888888888888,
              "#fdca26"
             ],
             [
              1,
              "#f0f921"
             ]
            ],
            "type": "contour"
           }
          ],
          "contourcarpet": [
           {
            "colorbar": {
             "outlinewidth": 0,
             "ticks": ""
            },
            "type": "contourcarpet"
           }
          ],
          "heatmap": [
           {
            "colorbar": {
             "outlinewidth": 0,
             "ticks": ""
            },
            "colorscale": [
             [
              0,
              "#0d0887"
             ],
             [
              0.1111111111111111,
              "#46039f"
             ],
             [
              0.2222222222222222,
              "#7201a8"
             ],
             [
              0.3333333333333333,
              "#9c179e"
             ],
             [
              0.4444444444444444,
              "#bd3786"
             ],
             [
              0.5555555555555556,
              "#d8576b"
             ],
             [
              0.6666666666666666,
              "#ed7953"
             ],
             [
              0.7777777777777778,
              "#fb9f3a"
             ],
             [
              0.8888888888888888,
              "#fdca26"
             ],
             [
              1,
              "#f0f921"
             ]
            ],
            "type": "heatmap"
           }
          ],
          "heatmapgl": [
           {
            "colorbar": {
             "outlinewidth": 0,
             "ticks": ""
            },
            "colorscale": [
             [
              0,
              "#0d0887"
             ],
             [
              0.1111111111111111,
              "#46039f"
             ],
             [
              0.2222222222222222,
              "#7201a8"
             ],
             [
              0.3333333333333333,
              "#9c179e"
             ],
             [
              0.4444444444444444,
              "#bd3786"
             ],
             [
              0.5555555555555556,
              "#d8576b"
             ],
             [
              0.6666666666666666,
              "#ed7953"
             ],
             [
              0.7777777777777778,
              "#fb9f3a"
             ],
             [
              0.8888888888888888,
              "#fdca26"
             ],
             [
              1,
              "#f0f921"
             ]
            ],
            "type": "heatmapgl"
           }
          ],
          "histogram": [
           {
            "marker": {
             "pattern": {
              "fillmode": "overlay",
              "size": 10,
              "solidity": 0.2
             }
            },
            "type": "histogram"
           }
          ],
          "histogram2d": [
           {
            "colorbar": {
             "outlinewidth": 0,
             "ticks": ""
            },
            "colorscale": [
             [
              0,
              "#0d0887"
             ],
             [
              0.1111111111111111,
              "#46039f"
             ],
             [
              0.2222222222222222,
              "#7201a8"
             ],
             [
              0.3333333333333333,
              "#9c179e"
             ],
             [
              0.4444444444444444,
              "#bd3786"
             ],
             [
              0.5555555555555556,
              "#d8576b"
             ],
             [
              0.6666666666666666,
              "#ed7953"
             ],
             [
              0.7777777777777778,
              "#fb9f3a"
             ],
             [
              0.8888888888888888,
              "#fdca26"
             ],
             [
              1,
              "#f0f921"
             ]
            ],
            "type": "histogram2d"
           }
          ],
          "histogram2dcontour": [
           {
            "colorbar": {
             "outlinewidth": 0,
             "ticks": ""
            },
            "colorscale": [
             [
              0,
              "#0d0887"
             ],
             [
              0.1111111111111111,
              "#46039f"
             ],
             [
              0.2222222222222222,
              "#7201a8"
             ],
             [
              0.3333333333333333,
              "#9c179e"
             ],
             [
              0.4444444444444444,
              "#bd3786"
             ],
             [
              0.5555555555555556,
              "#d8576b"
             ],
             [
              0.6666666666666666,
              "#ed7953"
             ],
             [
              0.7777777777777778,
              "#fb9f3a"
             ],
             [
              0.8888888888888888,
              "#fdca26"
             ],
             [
              1,
              "#f0f921"
             ]
            ],
            "type": "histogram2dcontour"
           }
          ],
          "mesh3d": [
           {
            "colorbar": {
             "outlinewidth": 0,
             "ticks": ""
            },
            "type": "mesh3d"
           }
          ],
          "parcoords": [
           {
            "line": {
             "colorbar": {
              "outlinewidth": 0,
              "ticks": ""
             }
            },
            "type": "parcoords"
           }
          ],
          "pie": [
           {
            "automargin": true,
            "type": "pie"
           }
          ],
          "scatter": [
           {
            "marker": {
             "colorbar": {
              "outlinewidth": 0,
              "ticks": ""
             }
            },
            "type": "scatter"
           }
          ],
          "scatter3d": [
           {
            "line": {
             "colorbar": {
              "outlinewidth": 0,
              "ticks": ""
             }
            },
            "marker": {
             "colorbar": {
              "outlinewidth": 0,
              "ticks": ""
             }
            },
            "type": "scatter3d"
           }
          ],
          "scattercarpet": [
           {
            "marker": {
             "colorbar": {
              "outlinewidth": 0,
              "ticks": ""
             }
            },
            "type": "scattercarpet"
           }
          ],
          "scattergeo": [
           {
            "marker": {
             "colorbar": {
              "outlinewidth": 0,
              "ticks": ""
             }
            },
            "type": "scattergeo"
           }
          ],
          "scattergl": [
           {
            "marker": {
             "colorbar": {
              "outlinewidth": 0,
              "ticks": ""
             }
            },
            "type": "scattergl"
           }
          ],
          "scattermapbox": [
           {
            "marker": {
             "colorbar": {
              "outlinewidth": 0,
              "ticks": ""
             }
            },
            "type": "scattermapbox"
           }
          ],
          "scatterpolar": [
           {
            "marker": {
             "colorbar": {
              "outlinewidth": 0,
              "ticks": ""
             }
            },
            "type": "scatterpolar"
           }
          ],
          "scatterpolargl": [
           {
            "marker": {
             "colorbar": {
              "outlinewidth": 0,
              "ticks": ""
             }
            },
            "type": "scatterpolargl"
           }
          ],
          "scatterternary": [
           {
            "marker": {
             "colorbar": {
              "outlinewidth": 0,
              "ticks": ""
             }
            },
            "type": "scatterternary"
           }
          ],
          "surface": [
           {
            "colorbar": {
             "outlinewidth": 0,
             "ticks": ""
            },
            "colorscale": [
             [
              0,
              "#0d0887"
             ],
             [
              0.1111111111111111,
              "#46039f"
             ],
             [
              0.2222222222222222,
              "#7201a8"
             ],
             [
              0.3333333333333333,
              "#9c179e"
             ],
             [
              0.4444444444444444,
              "#bd3786"
             ],
             [
              0.5555555555555556,
              "#d8576b"
             ],
             [
              0.6666666666666666,
              "#ed7953"
             ],
             [
              0.7777777777777778,
              "#fb9f3a"
             ],
             [
              0.8888888888888888,
              "#fdca26"
             ],
             [
              1,
              "#f0f921"
             ]
            ],
            "type": "surface"
           }
          ],
          "table": [
           {
            "cells": {
             "fill": {
              "color": "#EBF0F8"
             },
             "line": {
              "color": "white"
             }
            },
            "header": {
             "fill": {
              "color": "#C8D4E3"
             },
             "line": {
              "color": "white"
             }
            },
            "type": "table"
           }
          ]
         },
         "layout": {
          "annotationdefaults": {
           "arrowcolor": "#2a3f5f",
           "arrowhead": 0,
           "arrowwidth": 1
          },
          "autotypenumbers": "strict",
          "coloraxis": {
           "colorbar": {
            "outlinewidth": 0,
            "ticks": ""
           }
          },
          "colorscale": {
           "diverging": [
            [
             0,
             "#8e0152"
            ],
            [
             0.1,
             "#c51b7d"
            ],
            [
             0.2,
             "#de77ae"
            ],
            [
             0.3,
             "#f1b6da"
            ],
            [
             0.4,
             "#fde0ef"
            ],
            [
             0.5,
             "#f7f7f7"
            ],
            [
             0.6,
             "#e6f5d0"
            ],
            [
             0.7,
             "#b8e186"
            ],
            [
             0.8,
             "#7fbc41"
            ],
            [
             0.9,
             "#4d9221"
            ],
            [
             1,
             "#276419"
            ]
           ],
           "sequential": [
            [
             0,
             "#0d0887"
            ],
            [
             0.1111111111111111,
             "#46039f"
            ],
            [
             0.2222222222222222,
             "#7201a8"
            ],
            [
             0.3333333333333333,
             "#9c179e"
            ],
            [
             0.4444444444444444,
             "#bd3786"
            ],
            [
             0.5555555555555556,
             "#d8576b"
            ],
            [
             0.6666666666666666,
             "#ed7953"
            ],
            [
             0.7777777777777778,
             "#fb9f3a"
            ],
            [
             0.8888888888888888,
             "#fdca26"
            ],
            [
             1,
             "#f0f921"
            ]
           ],
           "sequentialminus": [
            [
             0,
             "#0d0887"
            ],
            [
             0.1111111111111111,
             "#46039f"
            ],
            [
             0.2222222222222222,
             "#7201a8"
            ],
            [
             0.3333333333333333,
             "#9c179e"
            ],
            [
             0.4444444444444444,
             "#bd3786"
            ],
            [
             0.5555555555555556,
             "#d8576b"
            ],
            [
             0.6666666666666666,
             "#ed7953"
            ],
            [
             0.7777777777777778,
             "#fb9f3a"
            ],
            [
             0.8888888888888888,
             "#fdca26"
            ],
            [
             1,
             "#f0f921"
            ]
           ]
          },
          "colorway": [
           "#636efa",
           "#EF553B",
           "#00cc96",
           "#ab63fa",
           "#FFA15A",
           "#19d3f3",
           "#FF6692",
           "#B6E880",
           "#FF97FF",
           "#FECB52"
          ],
          "font": {
           "color": "#2a3f5f"
          },
          "geo": {
           "bgcolor": "white",
           "lakecolor": "white",
           "landcolor": "#E5ECF6",
           "showlakes": true,
           "showland": true,
           "subunitcolor": "white"
          },
          "hoverlabel": {
           "align": "left"
          },
          "hovermode": "closest",
          "mapbox": {
           "style": "light"
          },
          "paper_bgcolor": "white",
          "plot_bgcolor": "#E5ECF6",
          "polar": {
           "angularaxis": {
            "gridcolor": "white",
            "linecolor": "white",
            "ticks": ""
           },
           "bgcolor": "#E5ECF6",
           "radialaxis": {
            "gridcolor": "white",
            "linecolor": "white",
            "ticks": ""
           }
          },
          "scene": {
           "xaxis": {
            "backgroundcolor": "#E5ECF6",
            "gridcolor": "white",
            "gridwidth": 2,
            "linecolor": "white",
            "showbackground": true,
            "ticks": "",
            "zerolinecolor": "white"
           },
           "yaxis": {
            "backgroundcolor": "#E5ECF6",
            "gridcolor": "white",
            "gridwidth": 2,
            "linecolor": "white",
            "showbackground": true,
            "ticks": "",
            "zerolinecolor": "white"
           },
           "zaxis": {
            "backgroundcolor": "#E5ECF6",
            "gridcolor": "white",
            "gridwidth": 2,
            "linecolor": "white",
            "showbackground": true,
            "ticks": "",
            "zerolinecolor": "white"
           }
          },
          "shapedefaults": {
           "line": {
            "color": "#2a3f5f"
           }
          },
          "ternary": {
           "aaxis": {
            "gridcolor": "white",
            "linecolor": "white",
            "ticks": ""
           },
           "baxis": {
            "gridcolor": "white",
            "linecolor": "white",
            "ticks": ""
           },
           "bgcolor": "#E5ECF6",
           "caxis": {
            "gridcolor": "white",
            "linecolor": "white",
            "ticks": ""
           }
          },
          "title": {
           "x": 0.05
          },
          "xaxis": {
           "automargin": true,
           "gridcolor": "white",
           "linecolor": "white",
           "ticks": "",
           "title": {
            "standoff": 15
           },
           "zerolinecolor": "white",
           "zerolinewidth": 2
          },
          "yaxis": {
           "automargin": true,
           "gridcolor": "white",
           "linecolor": "white",
           "ticks": "",
           "title": {
            "standoff": 15
           },
           "zerolinecolor": "white",
           "zerolinewidth": 2
          }
         }
        },
        "title": {
         "font": {
          "size": 24
         },
         "text": "Sepal_Width distribution",
         "x": 0.5,
         "xanchor": "center",
         "y": 0.9
        },
        "xaxis": {
         "title": {
          "font": {
           "size": 16
          },
          "text": "Sepal_Width"
         }
        }
       }
      }
     },
     "metadata": {}
    },
    {
     "output_type": "display_data",
     "data": {
      "application/vnd.plotly.v1+json": {
       "config": {
        "plotlyServerURL": "https://plot.ly"
       },
       "data": [
        {
         "name": "Label",
         "showlegend": false,
         "type": "histogram",
         "x": [
          1.4,
          1.4,
          1.3,
          1.5,
          1.4,
          1.7,
          1.4,
          1.5,
          1.4,
          1.5,
          1.5,
          1.6,
          1.4,
          1.1,
          1.2,
          1.5,
          1.3,
          1.4,
          1.7,
          1.5,
          1.7,
          1.5,
          1,
          1.7,
          1.9,
          1.6,
          1.6,
          1.5,
          1.4,
          1.6,
          1.6,
          1.5,
          1.5,
          1.4,
          1.5,
          1.2,
          1.3,
          1.4,
          1.3,
          1.5,
          1.3,
          1.3,
          1.3,
          1.6,
          1.9,
          1.4,
          1.6,
          1.4,
          1.5,
          1.4,
          4.7,
          4.5,
          4.9,
          4,
          4.6,
          4.5,
          4.7,
          3.3,
          4.6,
          3.9,
          3.5,
          4.2,
          4,
          4.7,
          3.6,
          4.4,
          4.5,
          4.1,
          4.5,
          3.9,
          4.8,
          4,
          4.9,
          4.7,
          4.3,
          4.4,
          4.8,
          5,
          4.5,
          3.5,
          3.8,
          3.7,
          3.9,
          5.1,
          4.5,
          4.5,
          4.7,
          4.4,
          4.1,
          4,
          4.4,
          4.6,
          4,
          3.3,
          4.2,
          4.2,
          4.2,
          4.3,
          3,
          4.1,
          6,
          5.1,
          5.9,
          5.6,
          5.8,
          6.6,
          4.5,
          6.3,
          5.8,
          6.1,
          5.1,
          5.3,
          5.5,
          5,
          5.1,
          5.3,
          5.5,
          6.7,
          6.9,
          5,
          5.7,
          4.9,
          6.7,
          4.9,
          5.7,
          6,
          4.8,
          4.9,
          5.6,
          5.8,
          6.1,
          6.4,
          5.6,
          5.1,
          5.6,
          6.1,
          5.6,
          5.5,
          4.8,
          5.4,
          5.6,
          5.1,
          5.1,
          5.9,
          5.7,
          5.2,
          5,
          5.2,
          5.4,
          5.1
         ],
         "xbins": {
          "size": 1
         }
        }
       ],
       "layout": {
        "template": {
         "data": {
          "bar": [
           {
            "error_x": {
             "color": "#2a3f5f"
            },
            "error_y": {
             "color": "#2a3f5f"
            },
            "marker": {
             "line": {
              "color": "#E5ECF6",
              "width": 0.5
             },
             "pattern": {
              "fillmode": "overlay",
              "size": 10,
              "solidity": 0.2
             }
            },
            "type": "bar"
           }
          ],
          "barpolar": [
           {
            "marker": {
             "line": {
              "color": "#E5ECF6",
              "width": 0.5
             },
             "pattern": {
              "fillmode": "overlay",
              "size": 10,
              "solidity": 0.2
             }
            },
            "type": "barpolar"
           }
          ],
          "carpet": [
           {
            "aaxis": {
             "endlinecolor": "#2a3f5f",
             "gridcolor": "white",
             "linecolor": "white",
             "minorgridcolor": "white",
             "startlinecolor": "#2a3f5f"
            },
            "baxis": {
             "endlinecolor": "#2a3f5f",
             "gridcolor": "white",
             "linecolor": "white",
             "minorgridcolor": "white",
             "startlinecolor": "#2a3f5f"
            },
            "type": "carpet"
           }
          ],
          "choropleth": [
           {
            "colorbar": {
             "outlinewidth": 0,
             "ticks": ""
            },
            "type": "choropleth"
           }
          ],
          "contour": [
           {
            "colorbar": {
             "outlinewidth": 0,
             "ticks": ""
            },
            "colorscale": [
             [
              0,
              "#0d0887"
             ],
             [
              0.1111111111111111,
              "#46039f"
             ],
             [
              0.2222222222222222,
              "#7201a8"
             ],
             [
              0.3333333333333333,
              "#9c179e"
             ],
             [
              0.4444444444444444,
              "#bd3786"
             ],
             [
              0.5555555555555556,
              "#d8576b"
             ],
             [
              0.6666666666666666,
              "#ed7953"
             ],
             [
              0.7777777777777778,
              "#fb9f3a"
             ],
             [
              0.8888888888888888,
              "#fdca26"
             ],
             [
              1,
              "#f0f921"
             ]
            ],
            "type": "contour"
           }
          ],
          "contourcarpet": [
           {
            "colorbar": {
             "outlinewidth": 0,
             "ticks": ""
            },
            "type": "contourcarpet"
           }
          ],
          "heatmap": [
           {
            "colorbar": {
             "outlinewidth": 0,
             "ticks": ""
            },
            "colorscale": [
             [
              0,
              "#0d0887"
             ],
             [
              0.1111111111111111,
              "#46039f"
             ],
             [
              0.2222222222222222,
              "#7201a8"
             ],
             [
              0.3333333333333333,
              "#9c179e"
             ],
             [
              0.4444444444444444,
              "#bd3786"
             ],
             [
              0.5555555555555556,
              "#d8576b"
             ],
             [
              0.6666666666666666,
              "#ed7953"
             ],
             [
              0.7777777777777778,
              "#fb9f3a"
             ],
             [
              0.8888888888888888,
              "#fdca26"
             ],
             [
              1,
              "#f0f921"
             ]
            ],
            "type": "heatmap"
           }
          ],
          "heatmapgl": [
           {
            "colorbar": {
             "outlinewidth": 0,
             "ticks": ""
            },
            "colorscale": [
             [
              0,
              "#0d0887"
             ],
             [
              0.1111111111111111,
              "#46039f"
             ],
             [
              0.2222222222222222,
              "#7201a8"
             ],
             [
              0.3333333333333333,
              "#9c179e"
             ],
             [
              0.4444444444444444,
              "#bd3786"
             ],
             [
              0.5555555555555556,
              "#d8576b"
             ],
             [
              0.6666666666666666,
              "#ed7953"
             ],
             [
              0.7777777777777778,
              "#fb9f3a"
             ],
             [
              0.8888888888888888,
              "#fdca26"
             ],
             [
              1,
              "#f0f921"
             ]
            ],
            "type": "heatmapgl"
           }
          ],
          "histogram": [
           {
            "marker": {
             "pattern": {
              "fillmode": "overlay",
              "size": 10,
              "solidity": 0.2
             }
            },
            "type": "histogram"
           }
          ],
          "histogram2d": [
           {
            "colorbar": {
             "outlinewidth": 0,
             "ticks": ""
            },
            "colorscale": [
             [
              0,
              "#0d0887"
             ],
             [
              0.1111111111111111,
              "#46039f"
             ],
             [
              0.2222222222222222,
              "#7201a8"
             ],
             [
              0.3333333333333333,
              "#9c179e"
             ],
             [
              0.4444444444444444,
              "#bd3786"
             ],
             [
              0.5555555555555556,
              "#d8576b"
             ],
             [
              0.6666666666666666,
              "#ed7953"
             ],
             [
              0.7777777777777778,
              "#fb9f3a"
             ],
             [
              0.8888888888888888,
              "#fdca26"
             ],
             [
              1,
              "#f0f921"
             ]
            ],
            "type": "histogram2d"
           }
          ],
          "histogram2dcontour": [
           {
            "colorbar": {
             "outlinewidth": 0,
             "ticks": ""
            },
            "colorscale": [
             [
              0,
              "#0d0887"
             ],
             [
              0.1111111111111111,
              "#46039f"
             ],
             [
              0.2222222222222222,
              "#7201a8"
             ],
             [
              0.3333333333333333,
              "#9c179e"
             ],
             [
              0.4444444444444444,
              "#bd3786"
             ],
             [
              0.5555555555555556,
              "#d8576b"
             ],
             [
              0.6666666666666666,
              "#ed7953"
             ],
             [
              0.7777777777777778,
              "#fb9f3a"
             ],
             [
              0.8888888888888888,
              "#fdca26"
             ],
             [
              1,
              "#f0f921"
             ]
            ],
            "type": "histogram2dcontour"
           }
          ],
          "mesh3d": [
           {
            "colorbar": {
             "outlinewidth": 0,
             "ticks": ""
            },
            "type": "mesh3d"
           }
          ],
          "parcoords": [
           {
            "line": {
             "colorbar": {
              "outlinewidth": 0,
              "ticks": ""
             }
            },
            "type": "parcoords"
           }
          ],
          "pie": [
           {
            "automargin": true,
            "type": "pie"
           }
          ],
          "scatter": [
           {
            "marker": {
             "colorbar": {
              "outlinewidth": 0,
              "ticks": ""
             }
            },
            "type": "scatter"
           }
          ],
          "scatter3d": [
           {
            "line": {
             "colorbar": {
              "outlinewidth": 0,
              "ticks": ""
             }
            },
            "marker": {
             "colorbar": {
              "outlinewidth": 0,
              "ticks": ""
             }
            },
            "type": "scatter3d"
           }
          ],
          "scattercarpet": [
           {
            "marker": {
             "colorbar": {
              "outlinewidth": 0,
              "ticks": ""
             }
            },
            "type": "scattercarpet"
           }
          ],
          "scattergeo": [
           {
            "marker": {
             "colorbar": {
              "outlinewidth": 0,
              "ticks": ""
             }
            },
            "type": "scattergeo"
           }
          ],
          "scattergl": [
           {
            "marker": {
             "colorbar": {
              "outlinewidth": 0,
              "ticks": ""
             }
            },
            "type": "scattergl"
           }
          ],
          "scattermapbox": [
           {
            "marker": {
             "colorbar": {
              "outlinewidth": 0,
              "ticks": ""
             }
            },
            "type": "scattermapbox"
           }
          ],
          "scatterpolar": [
           {
            "marker": {
             "colorbar": {
              "outlinewidth": 0,
              "ticks": ""
             }
            },
            "type": "scatterpolar"
           }
          ],
          "scatterpolargl": [
           {
            "marker": {
             "colorbar": {
              "outlinewidth": 0,
              "ticks": ""
             }
            },
            "type": "scatterpolargl"
           }
          ],
          "scatterternary": [
           {
            "marker": {
             "colorbar": {
              "outlinewidth": 0,
              "ticks": ""
             }
            },
            "type": "scatterternary"
           }
          ],
          "surface": [
           {
            "colorbar": {
             "outlinewidth": 0,
             "ticks": ""
            },
            "colorscale": [
             [
              0,
              "#0d0887"
             ],
             [
              0.1111111111111111,
              "#46039f"
             ],
             [
              0.2222222222222222,
              "#7201a8"
             ],
             [
              0.3333333333333333,
              "#9c179e"
             ],
             [
              0.4444444444444444,
              "#bd3786"
             ],
             [
              0.5555555555555556,
              "#d8576b"
             ],
             [
              0.6666666666666666,
              "#ed7953"
             ],
             [
              0.7777777777777778,
              "#fb9f3a"
             ],
             [
              0.8888888888888888,
              "#fdca26"
             ],
             [
              1,
              "#f0f921"
             ]
            ],
            "type": "surface"
           }
          ],
          "table": [
           {
            "cells": {
             "fill": {
              "color": "#EBF0F8"
             },
             "line": {
              "color": "white"
             }
            },
            "header": {
             "fill": {
              "color": "#C8D4E3"
             },
             "line": {
              "color": "white"
             }
            },
            "type": "table"
           }
          ]
         },
         "layout": {
          "annotationdefaults": {
           "arrowcolor": "#2a3f5f",
           "arrowhead": 0,
           "arrowwidth": 1
          },
          "autotypenumbers": "strict",
          "coloraxis": {
           "colorbar": {
            "outlinewidth": 0,
            "ticks": ""
           }
          },
          "colorscale": {
           "diverging": [
            [
             0,
             "#8e0152"
            ],
            [
             0.1,
             "#c51b7d"
            ],
            [
             0.2,
             "#de77ae"
            ],
            [
             0.3,
             "#f1b6da"
            ],
            [
             0.4,
             "#fde0ef"
            ],
            [
             0.5,
             "#f7f7f7"
            ],
            [
             0.6,
             "#e6f5d0"
            ],
            [
             0.7,
             "#b8e186"
            ],
            [
             0.8,
             "#7fbc41"
            ],
            [
             0.9,
             "#4d9221"
            ],
            [
             1,
             "#276419"
            ]
           ],
           "sequential": [
            [
             0,
             "#0d0887"
            ],
            [
             0.1111111111111111,
             "#46039f"
            ],
            [
             0.2222222222222222,
             "#7201a8"
            ],
            [
             0.3333333333333333,
             "#9c179e"
            ],
            [
             0.4444444444444444,
             "#bd3786"
            ],
            [
             0.5555555555555556,
             "#d8576b"
            ],
            [
             0.6666666666666666,
             "#ed7953"
            ],
            [
             0.7777777777777778,
             "#fb9f3a"
            ],
            [
             0.8888888888888888,
             "#fdca26"
            ],
            [
             1,
             "#f0f921"
            ]
           ],
           "sequentialminus": [
            [
             0,
             "#0d0887"
            ],
            [
             0.1111111111111111,
             "#46039f"
            ],
            [
             0.2222222222222222,
             "#7201a8"
            ],
            [
             0.3333333333333333,
             "#9c179e"
            ],
            [
             0.4444444444444444,
             "#bd3786"
            ],
            [
             0.5555555555555556,
             "#d8576b"
            ],
            [
             0.6666666666666666,
             "#ed7953"
            ],
            [
             0.7777777777777778,
             "#fb9f3a"
            ],
            [
             0.8888888888888888,
             "#fdca26"
            ],
            [
             1,
             "#f0f921"
            ]
           ]
          },
          "colorway": [
           "#636efa",
           "#EF553B",
           "#00cc96",
           "#ab63fa",
           "#FFA15A",
           "#19d3f3",
           "#FF6692",
           "#B6E880",
           "#FF97FF",
           "#FECB52"
          ],
          "font": {
           "color": "#2a3f5f"
          },
          "geo": {
           "bgcolor": "white",
           "lakecolor": "white",
           "landcolor": "#E5ECF6",
           "showlakes": true,
           "showland": true,
           "subunitcolor": "white"
          },
          "hoverlabel": {
           "align": "left"
          },
          "hovermode": "closest",
          "mapbox": {
           "style": "light"
          },
          "paper_bgcolor": "white",
          "plot_bgcolor": "#E5ECF6",
          "polar": {
           "angularaxis": {
            "gridcolor": "white",
            "linecolor": "white",
            "ticks": ""
           },
           "bgcolor": "#E5ECF6",
           "radialaxis": {
            "gridcolor": "white",
            "linecolor": "white",
            "ticks": ""
           }
          },
          "scene": {
           "xaxis": {
            "backgroundcolor": "#E5ECF6",
            "gridcolor": "white",
            "gridwidth": 2,
            "linecolor": "white",
            "showbackground": true,
            "ticks": "",
            "zerolinecolor": "white"
           },
           "yaxis": {
            "backgroundcolor": "#E5ECF6",
            "gridcolor": "white",
            "gridwidth": 2,
            "linecolor": "white",
            "showbackground": true,
            "ticks": "",
            "zerolinecolor": "white"
           },
           "zaxis": {
            "backgroundcolor": "#E5ECF6",
            "gridcolor": "white",
            "gridwidth": 2,
            "linecolor": "white",
            "showbackground": true,
            "ticks": "",
            "zerolinecolor": "white"
           }
          },
          "shapedefaults": {
           "line": {
            "color": "#2a3f5f"
           }
          },
          "ternary": {
           "aaxis": {
            "gridcolor": "white",
            "linecolor": "white",
            "ticks": ""
           },
           "baxis": {
            "gridcolor": "white",
            "linecolor": "white",
            "ticks": ""
           },
           "bgcolor": "#E5ECF6",
           "caxis": {
            "gridcolor": "white",
            "linecolor": "white",
            "ticks": ""
           }
          },
          "title": {
           "x": 0.05
          },
          "xaxis": {
           "automargin": true,
           "gridcolor": "white",
           "linecolor": "white",
           "ticks": "",
           "title": {
            "standoff": 15
           },
           "zerolinecolor": "white",
           "zerolinewidth": 2
          },
          "yaxis": {
           "automargin": true,
           "gridcolor": "white",
           "linecolor": "white",
           "ticks": "",
           "title": {
            "standoff": 15
           },
           "zerolinecolor": "white",
           "zerolinewidth": 2
          }
         }
        },
        "title": {
         "font": {
          "size": 24
         },
         "text": "Petal_Length distribution",
         "x": 0.5,
         "xanchor": "center",
         "y": 0.9
        },
        "xaxis": {
         "title": {
          "font": {
           "size": 16
          },
          "text": "Petal_Length"
         }
        }
       }
      }
     },
     "metadata": {}
    },
    {
     "output_type": "display_data",
     "data": {
      "application/vnd.plotly.v1+json": {
       "config": {
        "plotlyServerURL": "https://plot.ly"
       },
       "data": [
        {
         "name": "Label",
         "showlegend": false,
         "type": "histogram",
         "x": [
          0.2,
          0.2,
          0.2,
          0.2,
          0.2,
          0.4,
          0.3,
          0.2,
          0.2,
          0.1,
          0.2,
          0.2,
          0.1,
          0.1,
          0.2,
          0.4,
          0.4,
          0.3,
          0.3,
          0.3,
          0.2,
          0.4,
          0.2,
          0.5,
          0.2,
          0.2,
          0.4,
          0.2,
          0.2,
          0.2,
          0.2,
          0.4,
          0.1,
          0.2,
          0.2,
          0.2,
          0.2,
          0.1,
          0.2,
          0.2,
          0.3,
          0.3,
          0.2,
          0.6,
          0.4,
          0.3,
          0.2,
          0.2,
          0.2,
          0.2,
          1.4,
          1.5,
          1.5,
          1.3,
          1.5,
          1.3,
          1.6,
          1,
          1.3,
          1.4,
          1,
          1.5,
          1,
          1.4,
          1.3,
          1.4,
          1.5,
          1,
          1.5,
          1.1,
          1.8,
          1.3,
          1.5,
          1.2,
          1.3,
          1.4,
          1.4,
          1.7,
          1.5,
          1,
          1.1,
          1,
          1.2,
          1.6,
          1.5,
          1.6,
          1.5,
          1.3,
          1.3,
          1.3,
          1.2,
          1.4,
          1.2,
          1,
          1.3,
          1.2,
          1.3,
          1.3,
          1.1,
          1.3,
          2.5,
          1.9,
          2.1,
          1.8,
          2.2,
          2.1,
          1.7,
          1.8,
          1.8,
          2.5,
          2,
          1.9,
          2.1,
          2,
          2.4,
          2.3,
          1.8,
          2.2,
          2.3,
          1.5,
          2.3,
          2,
          2,
          1.8,
          2.1,
          1.8,
          1.8,
          1.8,
          2.1,
          1.6,
          1.9,
          2,
          2.2,
          1.5,
          1.4,
          2.3,
          2.4,
          1.8,
          1.8,
          2.1,
          2.4,
          2.3,
          1.9,
          2.3,
          2.5,
          2.3,
          1.9,
          2,
          2.3,
          1.8
         ],
         "xbins": {
          "size": 1
         }
        }
       ],
       "layout": {
        "template": {
         "data": {
          "bar": [
           {
            "error_x": {
             "color": "#2a3f5f"
            },
            "error_y": {
             "color": "#2a3f5f"
            },
            "marker": {
             "line": {
              "color": "#E5ECF6",
              "width": 0.5
             },
             "pattern": {
              "fillmode": "overlay",
              "size": 10,
              "solidity": 0.2
             }
            },
            "type": "bar"
           }
          ],
          "barpolar": [
           {
            "marker": {
             "line": {
              "color": "#E5ECF6",
              "width": 0.5
             },
             "pattern": {
              "fillmode": "overlay",
              "size": 10,
              "solidity": 0.2
             }
            },
            "type": "barpolar"
           }
          ],
          "carpet": [
           {
            "aaxis": {
             "endlinecolor": "#2a3f5f",
             "gridcolor": "white",
             "linecolor": "white",
             "minorgridcolor": "white",
             "startlinecolor": "#2a3f5f"
            },
            "baxis": {
             "endlinecolor": "#2a3f5f",
             "gridcolor": "white",
             "linecolor": "white",
             "minorgridcolor": "white",
             "startlinecolor": "#2a3f5f"
            },
            "type": "carpet"
           }
          ],
          "choropleth": [
           {
            "colorbar": {
             "outlinewidth": 0,
             "ticks": ""
            },
            "type": "choropleth"
           }
          ],
          "contour": [
           {
            "colorbar": {
             "outlinewidth": 0,
             "ticks": ""
            },
            "colorscale": [
             [
              0,
              "#0d0887"
             ],
             [
              0.1111111111111111,
              "#46039f"
             ],
             [
              0.2222222222222222,
              "#7201a8"
             ],
             [
              0.3333333333333333,
              "#9c179e"
             ],
             [
              0.4444444444444444,
              "#bd3786"
             ],
             [
              0.5555555555555556,
              "#d8576b"
             ],
             [
              0.6666666666666666,
              "#ed7953"
             ],
             [
              0.7777777777777778,
              "#fb9f3a"
             ],
             [
              0.8888888888888888,
              "#fdca26"
             ],
             [
              1,
              "#f0f921"
             ]
            ],
            "type": "contour"
           }
          ],
          "contourcarpet": [
           {
            "colorbar": {
             "outlinewidth": 0,
             "ticks": ""
            },
            "type": "contourcarpet"
           }
          ],
          "heatmap": [
           {
            "colorbar": {
             "outlinewidth": 0,
             "ticks": ""
            },
            "colorscale": [
             [
              0,
              "#0d0887"
             ],
             [
              0.1111111111111111,
              "#46039f"
             ],
             [
              0.2222222222222222,
              "#7201a8"
             ],
             [
              0.3333333333333333,
              "#9c179e"
             ],
             [
              0.4444444444444444,
              "#bd3786"
             ],
             [
              0.5555555555555556,
              "#d8576b"
             ],
             [
              0.6666666666666666,
              "#ed7953"
             ],
             [
              0.7777777777777778,
              "#fb9f3a"
             ],
             [
              0.8888888888888888,
              "#fdca26"
             ],
             [
              1,
              "#f0f921"
             ]
            ],
            "type": "heatmap"
           }
          ],
          "heatmapgl": [
           {
            "colorbar": {
             "outlinewidth": 0,
             "ticks": ""
            },
            "colorscale": [
             [
              0,
              "#0d0887"
             ],
             [
              0.1111111111111111,
              "#46039f"
             ],
             [
              0.2222222222222222,
              "#7201a8"
             ],
             [
              0.3333333333333333,
              "#9c179e"
             ],
             [
              0.4444444444444444,
              "#bd3786"
             ],
             [
              0.5555555555555556,
              "#d8576b"
             ],
             [
              0.6666666666666666,
              "#ed7953"
             ],
             [
              0.7777777777777778,
              "#fb9f3a"
             ],
             [
              0.8888888888888888,
              "#fdca26"
             ],
             [
              1,
              "#f0f921"
             ]
            ],
            "type": "heatmapgl"
           }
          ],
          "histogram": [
           {
            "marker": {
             "pattern": {
              "fillmode": "overlay",
              "size": 10,
              "solidity": 0.2
             }
            },
            "type": "histogram"
           }
          ],
          "histogram2d": [
           {
            "colorbar": {
             "outlinewidth": 0,
             "ticks": ""
            },
            "colorscale": [
             [
              0,
              "#0d0887"
             ],
             [
              0.1111111111111111,
              "#46039f"
             ],
             [
              0.2222222222222222,
              "#7201a8"
             ],
             [
              0.3333333333333333,
              "#9c179e"
             ],
             [
              0.4444444444444444,
              "#bd3786"
             ],
             [
              0.5555555555555556,
              "#d8576b"
             ],
             [
              0.6666666666666666,
              "#ed7953"
             ],
             [
              0.7777777777777778,
              "#fb9f3a"
             ],
             [
              0.8888888888888888,
              "#fdca26"
             ],
             [
              1,
              "#f0f921"
             ]
            ],
            "type": "histogram2d"
           }
          ],
          "histogram2dcontour": [
           {
            "colorbar": {
             "outlinewidth": 0,
             "ticks": ""
            },
            "colorscale": [
             [
              0,
              "#0d0887"
             ],
             [
              0.1111111111111111,
              "#46039f"
             ],
             [
              0.2222222222222222,
              "#7201a8"
             ],
             [
              0.3333333333333333,
              "#9c179e"
             ],
             [
              0.4444444444444444,
              "#bd3786"
             ],
             [
              0.5555555555555556,
              "#d8576b"
             ],
             [
              0.6666666666666666,
              "#ed7953"
             ],
             [
              0.7777777777777778,
              "#fb9f3a"
             ],
             [
              0.8888888888888888,
              "#fdca26"
             ],
             [
              1,
              "#f0f921"
             ]
            ],
            "type": "histogram2dcontour"
           }
          ],
          "mesh3d": [
           {
            "colorbar": {
             "outlinewidth": 0,
             "ticks": ""
            },
            "type": "mesh3d"
           }
          ],
          "parcoords": [
           {
            "line": {
             "colorbar": {
              "outlinewidth": 0,
              "ticks": ""
             }
            },
            "type": "parcoords"
           }
          ],
          "pie": [
           {
            "automargin": true,
            "type": "pie"
           }
          ],
          "scatter": [
           {
            "marker": {
             "colorbar": {
              "outlinewidth": 0,
              "ticks": ""
             }
            },
            "type": "scatter"
           }
          ],
          "scatter3d": [
           {
            "line": {
             "colorbar": {
              "outlinewidth": 0,
              "ticks": ""
             }
            },
            "marker": {
             "colorbar": {
              "outlinewidth": 0,
              "ticks": ""
             }
            },
            "type": "scatter3d"
           }
          ],
          "scattercarpet": [
           {
            "marker": {
             "colorbar": {
              "outlinewidth": 0,
              "ticks": ""
             }
            },
            "type": "scattercarpet"
           }
          ],
          "scattergeo": [
           {
            "marker": {
             "colorbar": {
              "outlinewidth": 0,
              "ticks": ""
             }
            },
            "type": "scattergeo"
           }
          ],
          "scattergl": [
           {
            "marker": {
             "colorbar": {
              "outlinewidth": 0,
              "ticks": ""
             }
            },
            "type": "scattergl"
           }
          ],
          "scattermapbox": [
           {
            "marker": {
             "colorbar": {
              "outlinewidth": 0,
              "ticks": ""
             }
            },
            "type": "scattermapbox"
           }
          ],
          "scatterpolar": [
           {
            "marker": {
             "colorbar": {
              "outlinewidth": 0,
              "ticks": ""
             }
            },
            "type": "scatterpolar"
           }
          ],
          "scatterpolargl": [
           {
            "marker": {
             "colorbar": {
              "outlinewidth": 0,
              "ticks": ""
             }
            },
            "type": "scatterpolargl"
           }
          ],
          "scatterternary": [
           {
            "marker": {
             "colorbar": {
              "outlinewidth": 0,
              "ticks": ""
             }
            },
            "type": "scatterternary"
           }
          ],
          "surface": [
           {
            "colorbar": {
             "outlinewidth": 0,
             "ticks": ""
            },
            "colorscale": [
             [
              0,
              "#0d0887"
             ],
             [
              0.1111111111111111,
              "#46039f"
             ],
             [
              0.2222222222222222,
              "#7201a8"
             ],
             [
              0.3333333333333333,
              "#9c179e"
             ],
             [
              0.4444444444444444,
              "#bd3786"
             ],
             [
              0.5555555555555556,
              "#d8576b"
             ],
             [
              0.6666666666666666,
              "#ed7953"
             ],
             [
              0.7777777777777778,
              "#fb9f3a"
             ],
             [
              0.8888888888888888,
              "#fdca26"
             ],
             [
              1,
              "#f0f921"
             ]
            ],
            "type": "surface"
           }
          ],
          "table": [
           {
            "cells": {
             "fill": {
              "color": "#EBF0F8"
             },
             "line": {
              "color": "white"
             }
            },
            "header": {
             "fill": {
              "color": "#C8D4E3"
             },
             "line": {
              "color": "white"
             }
            },
            "type": "table"
           }
          ]
         },
         "layout": {
          "annotationdefaults": {
           "arrowcolor": "#2a3f5f",
           "arrowhead": 0,
           "arrowwidth": 1
          },
          "autotypenumbers": "strict",
          "coloraxis": {
           "colorbar": {
            "outlinewidth": 0,
            "ticks": ""
           }
          },
          "colorscale": {
           "diverging": [
            [
             0,
             "#8e0152"
            ],
            [
             0.1,
             "#c51b7d"
            ],
            [
             0.2,
             "#de77ae"
            ],
            [
             0.3,
             "#f1b6da"
            ],
            [
             0.4,
             "#fde0ef"
            ],
            [
             0.5,
             "#f7f7f7"
            ],
            [
             0.6,
             "#e6f5d0"
            ],
            [
             0.7,
             "#b8e186"
            ],
            [
             0.8,
             "#7fbc41"
            ],
            [
             0.9,
             "#4d9221"
            ],
            [
             1,
             "#276419"
            ]
           ],
           "sequential": [
            [
             0,
             "#0d0887"
            ],
            [
             0.1111111111111111,
             "#46039f"
            ],
            [
             0.2222222222222222,
             "#7201a8"
            ],
            [
             0.3333333333333333,
             "#9c179e"
            ],
            [
             0.4444444444444444,
             "#bd3786"
            ],
            [
             0.5555555555555556,
             "#d8576b"
            ],
            [
             0.6666666666666666,
             "#ed7953"
            ],
            [
             0.7777777777777778,
             "#fb9f3a"
            ],
            [
             0.8888888888888888,
             "#fdca26"
            ],
            [
             1,
             "#f0f921"
            ]
           ],
           "sequentialminus": [
            [
             0,
             "#0d0887"
            ],
            [
             0.1111111111111111,
             "#46039f"
            ],
            [
             0.2222222222222222,
             "#7201a8"
            ],
            [
             0.3333333333333333,
             "#9c179e"
            ],
            [
             0.4444444444444444,
             "#bd3786"
            ],
            [
             0.5555555555555556,
             "#d8576b"
            ],
            [
             0.6666666666666666,
             "#ed7953"
            ],
            [
             0.7777777777777778,
             "#fb9f3a"
            ],
            [
             0.8888888888888888,
             "#fdca26"
            ],
            [
             1,
             "#f0f921"
            ]
           ]
          },
          "colorway": [
           "#636efa",
           "#EF553B",
           "#00cc96",
           "#ab63fa",
           "#FFA15A",
           "#19d3f3",
           "#FF6692",
           "#B6E880",
           "#FF97FF",
           "#FECB52"
          ],
          "font": {
           "color": "#2a3f5f"
          },
          "geo": {
           "bgcolor": "white",
           "lakecolor": "white",
           "landcolor": "#E5ECF6",
           "showlakes": true,
           "showland": true,
           "subunitcolor": "white"
          },
          "hoverlabel": {
           "align": "left"
          },
          "hovermode": "closest",
          "mapbox": {
           "style": "light"
          },
          "paper_bgcolor": "white",
          "plot_bgcolor": "#E5ECF6",
          "polar": {
           "angularaxis": {
            "gridcolor": "white",
            "linecolor": "white",
            "ticks": ""
           },
           "bgcolor": "#E5ECF6",
           "radialaxis": {
            "gridcolor": "white",
            "linecolor": "white",
            "ticks": ""
           }
          },
          "scene": {
           "xaxis": {
            "backgroundcolor": "#E5ECF6",
            "gridcolor": "white",
            "gridwidth": 2,
            "linecolor": "white",
            "showbackground": true,
            "ticks": "",
            "zerolinecolor": "white"
           },
           "yaxis": {
            "backgroundcolor": "#E5ECF6",
            "gridcolor": "white",
            "gridwidth": 2,
            "linecolor": "white",
            "showbackground": true,
            "ticks": "",
            "zerolinecolor": "white"
           },
           "zaxis": {
            "backgroundcolor": "#E5ECF6",
            "gridcolor": "white",
            "gridwidth": 2,
            "linecolor": "white",
            "showbackground": true,
            "ticks": "",
            "zerolinecolor": "white"
           }
          },
          "shapedefaults": {
           "line": {
            "color": "#2a3f5f"
           }
          },
          "ternary": {
           "aaxis": {
            "gridcolor": "white",
            "linecolor": "white",
            "ticks": ""
           },
           "baxis": {
            "gridcolor": "white",
            "linecolor": "white",
            "ticks": ""
           },
           "bgcolor": "#E5ECF6",
           "caxis": {
            "gridcolor": "white",
            "linecolor": "white",
            "ticks": ""
           }
          },
          "title": {
           "x": 0.05
          },
          "xaxis": {
           "automargin": true,
           "gridcolor": "white",
           "linecolor": "white",
           "ticks": "",
           "title": {
            "standoff": 15
           },
           "zerolinecolor": "white",
           "zerolinewidth": 2
          },
          "yaxis": {
           "automargin": true,
           "gridcolor": "white",
           "linecolor": "white",
           "ticks": "",
           "title": {
            "standoff": 15
           },
           "zerolinecolor": "white",
           "zerolinewidth": 2
          }
         }
        },
        "title": {
         "font": {
          "size": 24
         },
         "text": "Petal_Width distribution",
         "x": 0.5,
         "xanchor": "center",
         "y": 0.9
        },
        "xaxis": {
         "title": {
          "font": {
           "size": 16
          },
          "text": "Petal_Width"
         }
        }
       }
      }
     },
     "metadata": {}
    }
   ],
   "metadata": {}
  },
  {
   "cell_type": "code",
   "execution_count": 4,
   "source": [
    "# seaborn在同一图中显示了双变量散点图\r\n",
    "sns.set(style=\"white\", color_codes=True)\r\n",
    "sns.FacetGrid(iris, hue=\"Label\", size=5) \\\r\n",
    "   .map(plt.scatter, \"Sepal_Length\", \"Sepal_Width\") \\\r\n",
    "   .add_legend()"
   ],
   "outputs": [
    {
     "output_type": "execute_result",
     "data": {
      "text/plain": [
       "<seaborn.axisgrid.FacetGrid at 0x19f414c8f28>"
      ]
     },
     "metadata": {},
     "execution_count": 4
    },
    {
     "output_type": "display_data",
     "data": {
      "text/plain": [
       "<Figure size 414.975x360 with 1 Axes>"
      ],
      "image/png": "[encoded data removed]",
      "image/svg+xml": "<?xml version=\"1.0\" encoding=\"utf-8\" standalone=\"no\"?>\r\n<!DOCTYPE svg PUBLIC \"-//W3C//DTD SVG 1.1//EN\"\r\n  \"http://www.w3.org/Graphics/SVG/1.1/DTD/svg11.dtd\">\r\n<!-- Created with matplotlib (https://matplotlib.org/) -->\r\n<svg height=\"349.812763pt\" version=\"1.1\" viewBox=\"0 0 403.836867 349.812763\" width=\"403.836867pt\" xmlns=\"http://www.w3.org/2000/svg\" xmlns:xlink=\"http://www.w3.org/1999/xlink\">\r\n <defs>\r\n  <style type=\"text/css\">\r\n*{stroke-linecap:butt;stroke-linejoin:round;}\r\n  </style>\r\n </defs>\r\n <g id=\"figure_1\">\r\n  <g id=\"patch_1\">\r\n   <path d=\"M 0 349.812763 \r\nL 403.836867 349.812763 \r\nL 403.836867 0 \r\nL 0 0 \r\nz\r\n\" style=\"fill:#ffffff;\"/>\r\n  </g>\r\n  <g id=\"axes_1\">\r\n   <g id=\"patch_2\">\r\n    <path d=\"M 47.110625 307.791669 \r\nL 343.012117 307.791669 \r\nL 343.012117 7.628693 \r\nL 47.110625 7.628693 \r\nz\r\n\" style=\"fill:#ffffff;\"/>\r\n   </g>\r\n   <g id=\"matplotlib.axis_1\">\r\n    <g id=\"xtick_1\">\r\n     <g id=\"text_1\">\r\n      <!-- 5 -->\r\n      <defs>\r\n       <path d=\"M 4.15625 18.75 \r\nL 13.375 19.53125 \r\nQ 14.40625 12.796875 18.140625 9.390625 \r\nQ 21.875 6 27.15625 6 \r\nQ 33.5 6 37.890625 10.78125 \r\nQ 42.28125 15.578125 42.28125 23.484375 \r\nQ 42.28125 31 38.0625 35.34375 \r\nQ 33.84375 39.703125 27 39.703125 \r\nQ 22.75 39.703125 19.328125 37.765625 \r\nQ 15.921875 35.84375 13.96875 32.765625 \r\nL 5.71875 33.84375 \r\nL 12.640625 70.609375 \r\nL 48.25 70.609375 \r\nL 48.25 62.203125 \r\nL 19.671875 62.203125 \r\nL 15.828125 42.96875 \r\nQ 22.265625 47.46875 29.34375 47.46875 \r\nQ 38.71875 47.46875 45.15625 40.96875 \r\nQ 51.609375 34.46875 51.609375 24.265625 \r\nQ 51.609375 14.546875 45.953125 7.46875 \r\nQ 39.0625 -1.21875 27.15625 -1.21875 \r\nQ 17.390625 -1.21875 11.203125 4.25 \r\nQ 5.03125 9.71875 4.15625 18.75 \r\nz\r\n\" id=\"ArialMT-53\"/>\r\n      </defs>\r\n      <g style=\"fill:#262626;\" transform=\"translate(109.971578 325.165263)scale(0.11 -0.11)\">\r\n       <use xlink:href=\"#ArialMT-53\"/>\r\n      </g>\r\n     </g>\r\n    </g>\r\n    <g id=\"xtick_2\">\r\n     <g id=\"text_2\">\r\n      <!-- 6 -->\r\n      <defs>\r\n       <path d=\"M 49.75 54.046875 \r\nL 41.015625 53.375 \r\nQ 39.84375 58.546875 37.703125 60.890625 \r\nQ 34.125 64.65625 28.90625 64.65625 \r\nQ 24.703125 64.65625 21.53125 62.3125 \r\nQ 17.390625 59.28125 14.984375 53.46875 \r\nQ 12.59375 47.65625 12.5 36.921875 \r\nQ 15.671875 41.75 20.265625 44.09375 \r\nQ 24.859375 46.4375 29.890625 46.4375 \r\nQ 38.671875 46.4375 44.84375 39.96875 \r\nQ 51.03125 33.5 51.03125 23.25 \r\nQ 51.03125 16.5 48.125 10.71875 \r\nQ 45.21875 4.9375 40.140625 1.859375 \r\nQ 35.0625 -1.21875 28.609375 -1.21875 \r\nQ 17.625 -1.21875 10.6875 6.859375 \r\nQ 3.765625 14.9375 3.765625 33.5 \r\nQ 3.765625 54.25 11.421875 63.671875 \r\nQ 18.109375 71.875 29.4375 71.875 \r\nQ 37.890625 71.875 43.28125 67.140625 \r\nQ 48.6875 62.40625 49.75 54.046875 \r\nz\r\nM 13.875 23.1875 \r\nQ 13.875 18.65625 15.796875 14.5 \r\nQ 17.71875 10.359375 21.1875 8.171875 \r\nQ 24.65625 6 28.46875 6 \r\nQ 34.03125 6 38.03125 10.484375 \r\nQ 42.046875 14.984375 42.046875 22.703125 \r\nQ 42.046875 30.125 38.078125 34.390625 \r\nQ 34.125 38.671875 28.125 38.671875 \r\nQ 22.171875 38.671875 18.015625 34.390625 \r\nQ 13.875 30.125 13.875 23.1875 \r\nz\r\n\" id=\"ArialMT-54\"/>\r\n      </defs>\r\n      <g style=\"fill:#262626;\" transform=\"translate(183.876953 325.165263)scale(0.11 -0.11)\">\r\n       <use xlink:href=\"#ArialMT-54\"/>\r\n      </g>\r\n     </g>\r\n    </g>\r\n    <g id=\"xtick_3\">\r\n     <g id=\"text_3\">\r\n      <!-- 7 -->\r\n      <defs>\r\n       <path d=\"M 4.734375 62.203125 \r\nL 4.734375 70.65625 \r\nL 51.078125 70.65625 \r\nL 51.078125 63.8125 \r\nQ 44.234375 56.546875 37.515625 44.484375 \r\nQ 30.8125 32.421875 27.15625 19.671875 \r\nQ 24.515625 10.6875 23.78125 0 \r\nL 14.75 0 \r\nQ 14.890625 8.453125 18.0625 20.40625 \r\nQ 21.234375 32.375 27.171875 43.484375 \r\nQ 33.109375 54.59375 39.796875 62.203125 \r\nz\r\n\" id=\"ArialMT-55\"/>\r\n      </defs>\r\n      <g style=\"fill:#262626;\" transform=\"translate(257.782327 325.165263)scale(0.11 -0.11)\">\r\n       <use xlink:href=\"#ArialMT-55\"/>\r\n      </g>\r\n     </g>\r\n    </g>\r\n    <g id=\"xtick_4\">\r\n     <g id=\"text_4\">\r\n      <!-- 8 -->\r\n      <defs>\r\n       <path d=\"M 17.671875 38.8125 \r\nQ 12.203125 40.828125 9.5625 44.53125 \r\nQ 6.9375 48.25 6.9375 53.421875 \r\nQ 6.9375 61.234375 12.546875 66.546875 \r\nQ 18.171875 71.875 27.484375 71.875 \r\nQ 36.859375 71.875 42.578125 66.421875 \r\nQ 48.296875 60.984375 48.296875 53.171875 \r\nQ 48.296875 48.1875 45.671875 44.5 \r\nQ 43.0625 40.828125 37.75 38.8125 \r\nQ 44.34375 36.671875 47.78125 31.875 \r\nQ 51.21875 27.09375 51.21875 20.453125 \r\nQ 51.21875 11.28125 44.71875 5.03125 \r\nQ 38.234375 -1.21875 27.640625 -1.21875 \r\nQ 17.046875 -1.21875 10.546875 5.046875 \r\nQ 4.046875 11.328125 4.046875 20.703125 \r\nQ 4.046875 27.6875 7.59375 32.390625 \r\nQ 11.140625 37.109375 17.671875 38.8125 \r\nz\r\nM 15.921875 53.71875 \r\nQ 15.921875 48.640625 19.1875 45.40625 \r\nQ 22.46875 42.1875 27.6875 42.1875 \r\nQ 32.765625 42.1875 36.015625 45.375 \r\nQ 39.265625 48.578125 39.265625 53.21875 \r\nQ 39.265625 58.0625 35.90625 61.359375 \r\nQ 32.5625 64.65625 27.59375 64.65625 \r\nQ 22.5625 64.65625 19.234375 61.421875 \r\nQ 15.921875 58.203125 15.921875 53.71875 \r\nz\r\nM 13.09375 20.65625 \r\nQ 13.09375 16.890625 14.875 13.375 \r\nQ 16.65625 9.859375 20.171875 7.921875 \r\nQ 23.6875 6 27.734375 6 \r\nQ 34.03125 6 38.125 10.046875 \r\nQ 42.234375 14.109375 42.234375 20.359375 \r\nQ 42.234375 26.703125 38.015625 30.859375 \r\nQ 33.796875 35.015625 27.4375 35.015625 \r\nQ 21.234375 35.015625 17.15625 30.90625 \r\nQ 13.09375 26.8125 13.09375 20.65625 \r\nz\r\n\" id=\"ArialMT-56\"/>\r\n      </defs>\r\n      <g style=\"fill:#262626;\" transform=\"translate(331.687701 325.165263)scale(0.11 -0.11)\">\r\n       <use xlink:href=\"#ArialMT-56\"/>\r\n      </g>\r\n     </g>\r\n    </g>\r\n    <g id=\"text_5\">\r\n     <!-- Sepal_Length -->\r\n     <defs>\r\n      <path d=\"M 4.5 23 \r\nL 13.421875 23.78125 \r\nQ 14.0625 18.40625 16.375 14.96875 \r\nQ 18.703125 11.53125 23.578125 9.40625 \r\nQ 28.46875 7.28125 34.578125 7.28125 \r\nQ 39.984375 7.28125 44.140625 8.890625 \r\nQ 48.296875 10.5 50.3125 13.296875 \r\nQ 52.34375 16.109375 52.34375 19.4375 \r\nQ 52.34375 22.796875 50.390625 25.3125 \r\nQ 48.4375 27.828125 43.953125 29.546875 \r\nQ 41.0625 30.671875 31.203125 33.03125 \r\nQ 21.34375 35.40625 17.390625 37.5 \r\nQ 12.25 40.1875 9.734375 44.15625 \r\nQ 7.234375 48.140625 7.234375 53.078125 \r\nQ 7.234375 58.5 10.296875 63.203125 \r\nQ 13.375 67.921875 19.28125 70.359375 \r\nQ 25.203125 72.796875 32.421875 72.796875 \r\nQ 40.375 72.796875 46.453125 70.234375 \r\nQ 52.546875 67.671875 55.8125 62.6875 \r\nQ 59.078125 57.71875 59.328125 51.421875 \r\nL 50.25 50.734375 \r\nQ 49.515625 57.515625 45.28125 60.984375 \r\nQ 41.0625 64.453125 32.8125 64.453125 \r\nQ 24.21875 64.453125 20.28125 61.296875 \r\nQ 16.359375 58.15625 16.359375 53.71875 \r\nQ 16.359375 49.859375 19.140625 47.359375 \r\nQ 21.875 44.875 33.421875 42.265625 \r\nQ 44.96875 39.65625 49.265625 37.703125 \r\nQ 55.515625 34.8125 58.484375 30.390625 \r\nQ 61.46875 25.984375 61.46875 20.21875 \r\nQ 61.46875 14.5 58.203125 9.4375 \r\nQ 54.9375 4.390625 48.796875 1.578125 \r\nQ 42.671875 -1.21875 35.015625 -1.21875 \r\nQ 25.296875 -1.21875 18.71875 1.609375 \r\nQ 12.15625 4.4375 8.421875 10.125 \r\nQ 4.6875 15.828125 4.5 23 \r\nz\r\n\" id=\"ArialMT-83\"/>\r\n      <path d=\"M 42.09375 16.703125 \r\nL 51.171875 15.578125 \r\nQ 49.03125 7.625 43.21875 3.21875 \r\nQ 37.40625 -1.171875 28.375 -1.171875 \r\nQ 17 -1.171875 10.328125 5.828125 \r\nQ 3.65625 12.84375 3.65625 25.484375 \r\nQ 3.65625 38.578125 10.390625 45.796875 \r\nQ 17.140625 53.03125 27.875 53.03125 \r\nQ 38.28125 53.03125 44.875 45.953125 \r\nQ 51.46875 38.875 51.46875 26.03125 \r\nQ 51.46875 25.25 51.421875 23.6875 \r\nL 12.75 23.6875 \r\nQ 13.234375 15.140625 17.578125 10.59375 \r\nQ 21.921875 6.0625 28.421875 6.0625 \r\nQ 33.25 6.0625 36.671875 8.59375 \r\nQ 40.09375 11.140625 42.09375 16.703125 \r\nz\r\nM 13.234375 30.90625 \r\nL 42.1875 30.90625 \r\nQ 41.609375 37.453125 38.875 40.71875 \r\nQ 34.671875 45.796875 27.984375 45.796875 \r\nQ 21.921875 45.796875 17.796875 41.75 \r\nQ 13.671875 37.703125 13.234375 30.90625 \r\nz\r\n\" id=\"ArialMT-101\"/>\r\n      <path d=\"M 6.59375 -19.875 \r\nL 6.59375 51.859375 \r\nL 14.59375 51.859375 \r\nL 14.59375 45.125 \r\nQ 17.4375 49.078125 21 51.046875 \r\nQ 24.5625 53.03125 29.640625 53.03125 \r\nQ 36.28125 53.03125 41.359375 49.609375 \r\nQ 46.4375 46.1875 49.015625 39.953125 \r\nQ 51.609375 33.734375 51.609375 26.3125 \r\nQ 51.609375 18.359375 48.75 11.984375 \r\nQ 45.90625 5.609375 40.453125 2.21875 \r\nQ 35.015625 -1.171875 29 -1.171875 \r\nQ 24.609375 -1.171875 21.109375 0.6875 \r\nQ 17.625 2.546875 15.375 5.375 \r\nL 15.375 -19.875 \r\nz\r\nM 14.546875 25.640625 \r\nQ 14.546875 15.625 18.59375 10.84375 \r\nQ 22.65625 6.0625 28.421875 6.0625 \r\nQ 34.28125 6.0625 38.453125 11.015625 \r\nQ 42.625 15.96875 42.625 26.375 \r\nQ 42.625 36.28125 38.546875 41.203125 \r\nQ 34.46875 46.140625 28.8125 46.140625 \r\nQ 23.1875 46.140625 18.859375 40.890625 \r\nQ 14.546875 35.640625 14.546875 25.640625 \r\nz\r\n\" id=\"ArialMT-112\"/>\r\n      <path d=\"M 40.4375 6.390625 \r\nQ 35.546875 2.25 31.03125 0.53125 \r\nQ 26.515625 -1.171875 21.34375 -1.171875 \r\nQ 12.796875 -1.171875 8.203125 3 \r\nQ 3.609375 7.171875 3.609375 13.671875 \r\nQ 3.609375 17.484375 5.34375 20.625 \r\nQ 7.078125 23.78125 9.890625 25.6875 \r\nQ 12.703125 27.59375 16.21875 28.5625 \r\nQ 18.796875 29.25 24.03125 29.890625 \r\nQ 34.671875 31.15625 39.703125 32.90625 \r\nQ 39.75 34.71875 39.75 35.203125 \r\nQ 39.75 40.578125 37.25 42.78125 \r\nQ 33.890625 45.75 27.25 45.75 \r\nQ 21.046875 45.75 18.09375 43.578125 \r\nQ 15.140625 41.40625 13.71875 35.890625 \r\nL 5.125 37.0625 \r\nQ 6.296875 42.578125 8.984375 45.96875 \r\nQ 11.671875 49.359375 16.75 51.1875 \r\nQ 21.828125 53.03125 28.515625 53.03125 \r\nQ 35.15625 53.03125 39.296875 51.46875 \r\nQ 43.453125 49.90625 45.40625 47.53125 \r\nQ 47.359375 45.171875 48.140625 41.546875 \r\nQ 48.578125 39.3125 48.578125 33.453125 \r\nL 48.578125 21.734375 \r\nQ 48.578125 9.46875 49.140625 6.21875 \r\nQ 49.703125 2.984375 51.375 0 \r\nL 42.1875 0 \r\nQ 40.828125 2.734375 40.4375 6.390625 \r\nz\r\nM 39.703125 26.03125 \r\nQ 34.90625 24.078125 25.34375 22.703125 \r\nQ 19.921875 21.921875 17.671875 20.9375 \r\nQ 15.4375 19.96875 14.203125 18.09375 \r\nQ 12.984375 16.21875 12.984375 13.921875 \r\nQ 12.984375 10.40625 15.640625 8.0625 \r\nQ 18.3125 5.71875 23.4375 5.71875 \r\nQ 28.515625 5.71875 32.46875 7.9375 \r\nQ 36.421875 10.15625 38.28125 14.015625 \r\nQ 39.703125 17 39.703125 22.796875 \r\nz\r\n\" id=\"ArialMT-97\"/>\r\n      <path d=\"M 6.390625 0 \r\nL 6.390625 71.578125 \r\nL 15.1875 71.578125 \r\nL 15.1875 0 \r\nz\r\n\" id=\"ArialMT-108\"/>\r\n      <path d=\"M -1.515625 -19.875 \r\nL -1.515625 -13.53125 \r\nL 56.734375 -13.53125 \r\nL 56.734375 -19.875 \r\nz\r\n\" id=\"ArialMT-95\"/>\r\n      <path d=\"M 7.328125 0 \r\nL 7.328125 71.578125 \r\nL 16.796875 71.578125 \r\nL 16.796875 8.453125 \r\nL 52.046875 8.453125 \r\nL 52.046875 0 \r\nz\r\n\" id=\"ArialMT-76\"/>\r\n      <path d=\"M 6.59375 0 \r\nL 6.59375 51.859375 \r\nL 14.5 51.859375 \r\nL 14.5 44.484375 \r\nQ 20.21875 53.03125 31 53.03125 \r\nQ 35.6875 53.03125 39.625 51.34375 \r\nQ 43.5625 49.65625 45.515625 46.921875 \r\nQ 47.46875 44.1875 48.25 40.4375 \r\nQ 48.734375 37.984375 48.734375 31.890625 \r\nL 48.734375 0 \r\nL 39.9375 0 \r\nL 39.9375 31.546875 \r\nQ 39.9375 36.921875 38.90625 39.578125 \r\nQ 37.890625 42.234375 35.28125 43.8125 \r\nQ 32.671875 45.40625 29.15625 45.40625 \r\nQ 23.53125 45.40625 19.453125 41.84375 \r\nQ 15.375 38.28125 15.375 28.328125 \r\nL 15.375 0 \r\nz\r\n\" id=\"ArialMT-110\"/>\r\n      <path d=\"M 4.984375 -4.296875 \r\nL 13.53125 -5.5625 \r\nQ 14.0625 -9.515625 16.5 -11.328125 \r\nQ 19.78125 -13.765625 25.4375 -13.765625 \r\nQ 31.546875 -13.765625 34.859375 -11.328125 \r\nQ 38.1875 -8.890625 39.359375 -4.5 \r\nQ 40.046875 -1.8125 39.984375 6.78125 \r\nQ 34.234375 0 25.640625 0 \r\nQ 14.9375 0 9.078125 7.71875 \r\nQ 3.21875 15.4375 3.21875 26.21875 \r\nQ 3.21875 33.640625 5.90625 39.90625 \r\nQ 8.59375 46.1875 13.6875 49.609375 \r\nQ 18.796875 53.03125 25.6875 53.03125 \r\nQ 34.859375 53.03125 40.828125 45.609375 \r\nL 40.828125 51.859375 \r\nL 48.921875 51.859375 \r\nL 48.921875 7.03125 \r\nQ 48.921875 -5.078125 46.453125 -10.125 \r\nQ 44 -15.1875 38.640625 -18.109375 \r\nQ 33.296875 -21.046875 25.484375 -21.046875 \r\nQ 16.21875 -21.046875 10.5 -16.875 \r\nQ 4.78125 -12.703125 4.984375 -4.296875 \r\nz\r\nM 12.25 26.859375 \r\nQ 12.25 16.65625 16.296875 11.96875 \r\nQ 20.359375 7.28125 26.46875 7.28125 \r\nQ 32.515625 7.28125 36.609375 11.9375 \r\nQ 40.71875 16.609375 40.71875 26.5625 \r\nQ 40.71875 36.078125 36.5 40.90625 \r\nQ 32.28125 45.75 26.3125 45.75 \r\nQ 20.453125 45.75 16.34375 40.984375 \r\nQ 12.25 36.234375 12.25 26.859375 \r\nz\r\n\" id=\"ArialMT-103\"/>\r\n      <path d=\"M 25.78125 7.859375 \r\nL 27.046875 0.09375 \r\nQ 23.34375 -0.6875 20.40625 -0.6875 \r\nQ 15.625 -0.6875 12.984375 0.828125 \r\nQ 10.359375 2.34375 9.28125 4.8125 \r\nQ 8.203125 7.28125 8.203125 15.1875 \r\nL 8.203125 45.015625 \r\nL 1.765625 45.015625 \r\nL 1.765625 51.859375 \r\nL 8.203125 51.859375 \r\nL 8.203125 64.703125 \r\nL 16.9375 69.96875 \r\nL 16.9375 51.859375 \r\nL 25.78125 51.859375 \r\nL 25.78125 45.015625 \r\nL 16.9375 45.015625 \r\nL 16.9375 14.703125 \r\nQ 16.9375 10.9375 17.40625 9.859375 \r\nQ 17.875 8.796875 18.921875 8.15625 \r\nQ 19.96875 7.515625 21.921875 7.515625 \r\nQ 23.390625 7.515625 25.78125 7.859375 \r\nz\r\n\" id=\"ArialMT-116\"/>\r\n      <path d=\"M 6.59375 0 \r\nL 6.59375 71.578125 \r\nL 15.375 71.578125 \r\nL 15.375 45.90625 \r\nQ 21.53125 53.03125 30.90625 53.03125 \r\nQ 36.671875 53.03125 40.921875 50.75 \r\nQ 45.171875 48.484375 47 44.484375 \r\nQ 48.828125 40.484375 48.828125 32.859375 \r\nL 48.828125 0 \r\nL 40.046875 0 \r\nL 40.046875 32.859375 \r\nQ 40.046875 39.453125 37.1875 42.453125 \r\nQ 34.328125 45.453125 29.109375 45.453125 \r\nQ 25.203125 45.453125 21.75 43.421875 \r\nQ 18.3125 41.40625 16.84375 37.9375 \r\nQ 15.375 34.46875 15.375 28.375 \r\nL 15.375 0 \r\nz\r\n\" id=\"ArialMT-104\"/>\r\n     </defs>\r\n     <g style=\"fill:#262626;\" transform=\"translate(158.030121 340.087138)scale(0.12 -0.12)\">\r\n      <use xlink:href=\"#ArialMT-83\"/>\r\n      <use x=\"66.699219\" xlink:href=\"#ArialMT-101\"/>\r\n      <use x=\"122.314453\" xlink:href=\"#ArialMT-112\"/>\r\n      <use x=\"177.929688\" xlink:href=\"#ArialMT-97\"/>\r\n      <use x=\"233.544922\" xlink:href=\"#ArialMT-108\"/>\r\n      <use x=\"255.761719\" xlink:href=\"#ArialMT-95\"/>\r\n      <use x=\"311.376953\" xlink:href=\"#ArialMT-76\"/>\r\n      <use x=\"366.992188\" xlink:href=\"#ArialMT-101\"/>\r\n      <use x=\"422.607422\" xlink:href=\"#ArialMT-110\"/>\r\n      <use x=\"478.222656\" xlink:href=\"#ArialMT-103\"/>\r\n      <use x=\"533.837891\" xlink:href=\"#ArialMT-116\"/>\r\n      <use x=\"561.621094\" xlink:href=\"#ArialMT-104\"/>\r\n     </g>\r\n    </g>\r\n   </g>\r\n   <g id=\"matplotlib.axis_2\">\r\n    <g id=\"ytick_1\">\r\n     <g id=\"text_6\">\r\n      <!-- 2.0 -->\r\n      <defs>\r\n       <path d=\"M 50.34375 8.453125 \r\nL 50.34375 0 \r\nL 3.03125 0 \r\nQ 2.9375 3.171875 4.046875 6.109375 \r\nQ 5.859375 10.9375 9.828125 15.625 \r\nQ 13.8125 20.3125 21.34375 26.46875 \r\nQ 33.015625 36.03125 37.109375 41.625 \r\nQ 41.21875 47.21875 41.21875 52.203125 \r\nQ 41.21875 57.421875 37.46875 61 \r\nQ 33.734375 64.59375 27.734375 64.59375 \r\nQ 21.390625 64.59375 17.578125 60.78125 \r\nQ 13.765625 56.984375 13.71875 50.25 \r\nL 4.6875 51.171875 \r\nQ 5.609375 61.28125 11.65625 66.578125 \r\nQ 17.71875 71.875 27.9375 71.875 \r\nQ 38.234375 71.875 44.234375 66.15625 \r\nQ 50.25 60.453125 50.25 52 \r\nQ 50.25 47.703125 48.484375 43.546875 \r\nQ 46.734375 39.40625 42.65625 34.8125 \r\nQ 38.578125 30.21875 29.109375 22.21875 \r\nQ 21.1875 15.578125 18.9375 13.203125 \r\nQ 16.703125 10.84375 15.234375 8.453125 \r\nz\r\n\" id=\"ArialMT-50\"/>\r\n       <path d=\"M 9.078125 0 \r\nL 9.078125 10.015625 \r\nL 19.09375 10.015625 \r\nL 19.09375 0 \r\nz\r\n\" id=\"ArialMT-46\"/>\r\n       <path d=\"M 4.15625 35.296875 \r\nQ 4.15625 48 6.765625 55.734375 \r\nQ 9.375 63.484375 14.515625 67.671875 \r\nQ 19.671875 71.875 27.484375 71.875 \r\nQ 33.25 71.875 37.59375 69.546875 \r\nQ 41.9375 67.234375 44.765625 62.859375 \r\nQ 47.609375 58.5 49.21875 52.21875 \r\nQ 50.828125 45.953125 50.828125 35.296875 \r\nQ 50.828125 22.703125 48.234375 14.96875 \r\nQ 45.65625 7.234375 40.5 3 \r\nQ 35.359375 -1.21875 27.484375 -1.21875 \r\nQ 17.140625 -1.21875 11.234375 6.203125 \r\nQ 4.15625 15.140625 4.15625 35.296875 \r\nz\r\nM 13.1875 35.296875 \r\nQ 13.1875 17.671875 17.3125 11.828125 \r\nQ 21.4375 6 27.484375 6 \r\nQ 33.546875 6 37.671875 11.859375 \r\nQ 41.796875 17.71875 41.796875 35.296875 \r\nQ 41.796875 52.984375 37.671875 58.78125 \r\nQ 33.546875 64.59375 27.390625 64.59375 \r\nQ 21.34375 64.59375 17.71875 59.46875 \r\nQ 13.1875 52.9375 13.1875 35.296875 \r\nz\r\n\" id=\"ArialMT-48\"/>\r\n      </defs>\r\n      <g style=\"fill:#262626;\" transform=\"translate(22.320625 295.558273)scale(0.11 -0.11)\">\r\n       <use xlink:href=\"#ArialMT-50\"/>\r\n       <use x=\"55.615234\" xlink:href=\"#ArialMT-46\"/>\r\n       <use x=\"83.398438\" xlink:href=\"#ArialMT-48\"/>\r\n      </g>\r\n     </g>\r\n    </g>\r\n    <g id=\"ytick_2\">\r\n     <g id=\"text_7\">\r\n      <!-- 2.5 -->\r\n      <g style=\"fill:#262626;\" transform=\"translate(22.320625 239.461337)scale(0.11 -0.11)\">\r\n       <use xlink:href=\"#ArialMT-50\"/>\r\n       <use x=\"55.615234\" xlink:href=\"#ArialMT-46\"/>\r\n       <use x=\"83.398438\" xlink:href=\"#ArialMT-53\"/>\r\n      </g>\r\n     </g>\r\n    </g>\r\n    <g id=\"ytick_3\">\r\n     <g id=\"text_8\">\r\n      <!-- 3.0 -->\r\n      <defs>\r\n       <path d=\"M 4.203125 18.890625 \r\nL 12.984375 20.0625 \r\nQ 14.5 12.59375 18.140625 9.296875 \r\nQ 21.78125 6 27 6 \r\nQ 33.203125 6 37.46875 10.296875 \r\nQ 41.75 14.59375 41.75 20.953125 \r\nQ 41.75 27 37.796875 30.921875 \r\nQ 33.84375 34.859375 27.734375 34.859375 \r\nQ 25.25 34.859375 21.53125 33.890625 \r\nL 22.515625 41.609375 \r\nQ 23.390625 41.5 23.921875 41.5 \r\nQ 29.546875 41.5 34.03125 44.421875 \r\nQ 38.53125 47.359375 38.53125 53.46875 \r\nQ 38.53125 58.296875 35.25 61.46875 \r\nQ 31.984375 64.65625 26.8125 64.65625 \r\nQ 21.6875 64.65625 18.265625 61.421875 \r\nQ 14.84375 58.203125 13.875 51.765625 \r\nL 5.078125 53.328125 \r\nQ 6.6875 62.15625 12.390625 67.015625 \r\nQ 18.109375 71.875 26.609375 71.875 \r\nQ 32.46875 71.875 37.390625 69.359375 \r\nQ 42.328125 66.84375 44.9375 62.5 \r\nQ 47.5625 58.15625 47.5625 53.265625 \r\nQ 47.5625 48.640625 45.0625 44.828125 \r\nQ 42.578125 41.015625 37.703125 38.765625 \r\nQ 44.046875 37.3125 47.5625 32.6875 \r\nQ 51.078125 28.078125 51.078125 21.140625 \r\nQ 51.078125 11.765625 44.234375 5.25 \r\nQ 37.40625 -1.265625 26.953125 -1.265625 \r\nQ 17.53125 -1.265625 11.296875 4.34375 \r\nQ 5.078125 9.96875 4.203125 18.890625 \r\nz\r\n\" id=\"ArialMT-51\"/>\r\n      </defs>\r\n      <g style=\"fill:#262626;\" transform=\"translate(22.320625 183.364401)scale(0.11 -0.11)\">\r\n       <use xlink:href=\"#ArialMT-51\"/>\r\n       <use x=\"55.615234\" xlink:href=\"#ArialMT-46\"/>\r\n       <use x=\"83.398438\" xlink:href=\"#ArialMT-48\"/>\r\n      </g>\r\n     </g>\r\n    </g>\r\n    <g id=\"ytick_4\">\r\n     <g id=\"text_9\">\r\n      <!-- 3.5 -->\r\n      <g style=\"fill:#262626;\" transform=\"translate(22.320625 127.267465)scale(0.11 -0.11)\">\r\n       <use xlink:href=\"#ArialMT-51\"/>\r\n       <use x=\"55.615234\" xlink:href=\"#ArialMT-46\"/>\r\n       <use x=\"83.398438\" xlink:href=\"#ArialMT-53\"/>\r\n      </g>\r\n     </g>\r\n    </g>\r\n    <g id=\"ytick_5\">\r\n     <g id=\"text_10\">\r\n      <!-- 4.0 -->\r\n      <defs>\r\n       <path d=\"M 32.328125 0 \r\nL 32.328125 17.140625 \r\nL 1.265625 17.140625 \r\nL 1.265625 25.203125 \r\nL 33.9375 71.578125 \r\nL 41.109375 71.578125 \r\nL 41.109375 25.203125 \r\nL 50.78125 25.203125 \r\nL 50.78125 17.140625 \r\nL 41.109375 17.140625 \r\nL 41.109375 0 \r\nz\r\nM 32.328125 25.203125 \r\nL 32.328125 57.46875 \r\nL 9.90625 25.203125 \r\nz\r\n\" id=\"ArialMT-52\"/>\r\n      </defs>\r\n      <g style=\"fill:#262626;\" transform=\"translate(22.320625 71.17053)scale(0.11 -0.11)\">\r\n       <use xlink:href=\"#ArialMT-52\"/>\r\n       <use x=\"55.615234\" xlink:href=\"#ArialMT-46\"/>\r\n       <use x=\"83.398438\" xlink:href=\"#ArialMT-48\"/>\r\n      </g>\r\n     </g>\r\n    </g>\r\n    <g id=\"ytick_6\">\r\n     <g id=\"text_11\">\r\n      <!-- 4.5 -->\r\n      <g style=\"fill:#262626;\" transform=\"translate(22.320625 15.073594)scale(0.11 -0.11)\">\r\n       <use xlink:href=\"#ArialMT-52\"/>\r\n       <use x=\"55.615234\" xlink:href=\"#ArialMT-46\"/>\r\n       <use x=\"83.398438\" xlink:href=\"#ArialMT-53\"/>\r\n      </g>\r\n     </g>\r\n    </g>\r\n    <g id=\"text_12\">\r\n     <!-- Sepal_Width -->\r\n     <defs>\r\n      <path d=\"M 20.21875 0 \r\nL 1.21875 71.578125 \r\nL 10.9375 71.578125 \r\nL 21.828125 24.65625 \r\nQ 23.578125 17.28125 24.859375 10.015625 \r\nQ 27.59375 21.484375 28.078125 23.25 \r\nL 41.703125 71.578125 \r\nL 53.125 71.578125 \r\nL 63.375 35.359375 \r\nQ 67.234375 21.875 68.953125 10.015625 \r\nQ 70.3125 16.796875 72.515625 25.59375 \r\nL 83.734375 71.578125 \r\nL 93.265625 71.578125 \r\nL 73.640625 0 \r\nL 64.5 0 \r\nL 49.421875 54.546875 \r\nQ 47.515625 61.375 47.171875 62.9375 \r\nQ 46.046875 58.015625 45.0625 54.546875 \r\nL 29.890625 0 \r\nz\r\n\" id=\"ArialMT-87\"/>\r\n      <path d=\"M 6.640625 61.46875 \r\nL 6.640625 71.578125 \r\nL 15.4375 71.578125 \r\nL 15.4375 61.46875 \r\nz\r\nM 6.640625 0 \r\nL 6.640625 51.859375 \r\nL 15.4375 51.859375 \r\nL 15.4375 0 \r\nz\r\n\" id=\"ArialMT-105\"/>\r\n      <path d=\"M 40.234375 0 \r\nL 40.234375 6.546875 \r\nQ 35.296875 -1.171875 25.734375 -1.171875 \r\nQ 19.53125 -1.171875 14.328125 2.25 \r\nQ 9.125 5.671875 6.265625 11.796875 \r\nQ 3.421875 17.921875 3.421875 25.875 \r\nQ 3.421875 33.640625 6 39.96875 \r\nQ 8.59375 46.296875 13.765625 49.65625 \r\nQ 18.953125 53.03125 25.34375 53.03125 \r\nQ 30.03125 53.03125 33.6875 51.046875 \r\nQ 37.359375 49.078125 39.65625 45.90625 \r\nL 39.65625 71.578125 \r\nL 48.390625 71.578125 \r\nL 48.390625 0 \r\nz\r\nM 12.453125 25.875 \r\nQ 12.453125 15.921875 16.640625 10.984375 \r\nQ 20.84375 6.0625 26.5625 6.0625 \r\nQ 32.328125 6.0625 36.34375 10.765625 \r\nQ 40.375 15.484375 40.375 25.140625 \r\nQ 40.375 35.796875 36.265625 40.765625 \r\nQ 32.171875 45.75 26.171875 45.75 \r\nQ 20.3125 45.75 16.375 40.96875 \r\nQ 12.453125 36.1875 12.453125 25.875 \r\nz\r\n\" id=\"ArialMT-100\"/>\r\n     </defs>\r\n     <g style=\"fill:#262626;\" transform=\"translate(15.935625 191.728306)rotate(-90)scale(0.12 -0.12)\">\r\n      <use xlink:href=\"#ArialMT-83\"/>\r\n      <use x=\"66.699219\" xlink:href=\"#ArialMT-101\"/>\r\n      <use x=\"122.314453\" xlink:href=\"#ArialMT-112\"/>\r\n      <use x=\"177.929688\" xlink:href=\"#ArialMT-97\"/>\r\n      <use x=\"233.544922\" xlink:href=\"#ArialMT-108\"/>\r\n      <use x=\"255.761719\" xlink:href=\"#ArialMT-95\"/>\r\n      <use x=\"311.376953\" xlink:href=\"#ArialMT-87\"/>\r\n      <use x=\"405.761719\" xlink:href=\"#ArialMT-105\"/>\r\n      <use x=\"427.978516\" xlink:href=\"#ArialMT-100\"/>\r\n      <use x=\"483.59375\" xlink:href=\"#ArialMT-116\"/>\r\n      <use x=\"511.376953\" xlink:href=\"#ArialMT-104\"/>\r\n     </g>\r\n    </g>\r\n   </g>\r\n   <g id=\"PathCollection_1\">\r\n    <defs>\r\n     <path d=\"M 0 3 \r\nC 0.795609 3 1.55874 2.683901 2.12132 2.12132 \r\nC 2.683901 1.55874 3 0.795609 3 0 \r\nC 3 -0.795609 2.683901 -1.55874 2.12132 -2.12132 \r\nC 1.55874 -2.683901 0.795609 -3 0 -3 \r\nC -0.795609 -3 -1.55874 -2.683901 -2.12132 -2.12132 \r\nC -2.683901 -1.55874 -3 -0.795609 -3 0 \r\nC -3 0.795609 -2.683901 1.55874 -2.12132 2.12132 \r\nC -1.55874 2.683901 -0.795609 3 0 3 \r\nz\r\n\" id=\"m20534eab12\" style=\"stroke:#4c72b0;\"/>\r\n    </defs>\r\n    <g clip-path=\"url(#pb812003605)\">\r\n     <use style=\"fill:#4c72b0;stroke:#4c72b0;\" x=\"120.420631\" xlink:href=\"#m20534eab12\" y=\"123.330668\"/>\r\n     <use style=\"fill:#4c72b0;stroke:#4c72b0;\" x=\"105.639557\" xlink:href=\"#m20534eab12\" y=\"179.427604\"/>\r\n     <use style=\"fill:#4c72b0;stroke:#4c72b0;\" x=\"90.858482\" xlink:href=\"#m20534eab12\" y=\"156.98883\"/>\r\n     <use style=\"fill:#4c72b0;stroke:#4c72b0;\" x=\"83.467944\" xlink:href=\"#m20534eab12\" y=\"168.208217\"/>\r\n     <use style=\"fill:#4c72b0;stroke:#4c72b0;\" x=\"113.030094\" xlink:href=\"#m20534eab12\" y=\"112.111281\"/>\r\n     <use style=\"fill:#4c72b0;stroke:#4c72b0;\" x=\"142.592244\" xlink:href=\"#m20534eab12\" y=\"78.45312\"/>\r\n     <use style=\"fill:#4c72b0;stroke:#4c72b0;\" x=\"83.467944\" xlink:href=\"#m20534eab12\" y=\"134.550056\"/>\r\n     <use style=\"fill:#4c72b0;stroke:#4c72b0;\" x=\"113.030094\" xlink:href=\"#m20534eab12\" y=\"134.550056\"/>\r\n     <use style=\"fill:#4c72b0;stroke:#4c72b0;\" x=\"68.686869\" xlink:href=\"#m20534eab12\" y=\"190.646991\"/>\r\n     <use style=\"fill:#4c72b0;stroke:#4c72b0;\" x=\"105.639557\" xlink:href=\"#m20534eab12\" y=\"168.208217\"/>\r\n     <use style=\"fill:#4c72b0;stroke:#4c72b0;\" x=\"142.592244\" xlink:href=\"#m20534eab12\" y=\"100.891894\"/>\r\n     <use style=\"fill:#4c72b0;stroke:#4c72b0;\" x=\"98.249019\" xlink:href=\"#m20534eab12\" y=\"134.550056\"/>\r\n     <use style=\"fill:#4c72b0;stroke:#4c72b0;\" x=\"98.249019\" xlink:href=\"#m20534eab12\" y=\"179.427604\"/>\r\n     <use style=\"fill:#4c72b0;stroke:#4c72b0;\" x=\"61.296332\" xlink:href=\"#m20534eab12\" y=\"179.427604\"/>\r\n     <use style=\"fill:#4c72b0;stroke:#4c72b0;\" x=\"172.154393\" xlink:href=\"#m20534eab12\" y=\"67.233733\"/>\r\n     <use style=\"fill:#4c72b0;stroke:#4c72b0;\" x=\"164.763856\" xlink:href=\"#m20534eab12\" y=\"22.356184\"/>\r\n     <use style=\"fill:#4c72b0;stroke:#4c72b0;\" x=\"142.592244\" xlink:href=\"#m20534eab12\" y=\"78.45312\"/>\r\n     <use style=\"fill:#4c72b0;stroke:#4c72b0;\" x=\"120.420631\" xlink:href=\"#m20534eab12\" y=\"123.330668\"/>\r\n     <use style=\"fill:#4c72b0;stroke:#4c72b0;\" x=\"164.763856\" xlink:href=\"#m20534eab12\" y=\"89.672507\"/>\r\n     <use style=\"fill:#4c72b0;stroke:#4c72b0;\" x=\"120.420631\" xlink:href=\"#m20534eab12\" y=\"89.672507\"/>\r\n     <use style=\"fill:#4c72b0;stroke:#4c72b0;\" x=\"142.592244\" xlink:href=\"#m20534eab12\" y=\"134.550056\"/>\r\n     <use style=\"fill:#4c72b0;stroke:#4c72b0;\" x=\"120.420631\" xlink:href=\"#m20534eab12\" y=\"100.891894\"/>\r\n     <use style=\"fill:#4c72b0;stroke:#4c72b0;\" x=\"83.467944\" xlink:href=\"#m20534eab12\" y=\"112.111281\"/>\r\n     <use style=\"fill:#4c72b0;stroke:#4c72b0;\" x=\"120.420631\" xlink:href=\"#m20534eab12\" y=\"145.769443\"/>\r\n     <use style=\"fill:#4c72b0;stroke:#4c72b0;\" x=\"98.249019\" xlink:href=\"#m20534eab12\" y=\"134.550056\"/>\r\n     <use style=\"fill:#4c72b0;stroke:#4c72b0;\" x=\"113.030094\" xlink:href=\"#m20534eab12\" y=\"179.427604\"/>\r\n     <use style=\"fill:#4c72b0;stroke:#4c72b0;\" x=\"113.030094\" xlink:href=\"#m20534eab12\" y=\"134.550056\"/>\r\n     <use style=\"fill:#4c72b0;stroke:#4c72b0;\" x=\"127.811169\" xlink:href=\"#m20534eab12\" y=\"123.330668\"/>\r\n     <use style=\"fill:#4c72b0;stroke:#4c72b0;\" x=\"127.811169\" xlink:href=\"#m20534eab12\" y=\"134.550056\"/>\r\n     <use style=\"fill:#4c72b0;stroke:#4c72b0;\" x=\"90.858482\" xlink:href=\"#m20534eab12\" y=\"156.98883\"/>\r\n     <use style=\"fill:#4c72b0;stroke:#4c72b0;\" x=\"98.249019\" xlink:href=\"#m20534eab12\" y=\"168.208217\"/>\r\n     <use style=\"fill:#4c72b0;stroke:#4c72b0;\" x=\"142.592244\" xlink:href=\"#m20534eab12\" y=\"134.550056\"/>\r\n     <use style=\"fill:#4c72b0;stroke:#4c72b0;\" x=\"127.811169\" xlink:href=\"#m20534eab12\" y=\"56.014345\"/>\r\n     <use style=\"fill:#4c72b0;stroke:#4c72b0;\" x=\"149.982781\" xlink:href=\"#m20534eab12\" y=\"44.794958\"/>\r\n     <use style=\"fill:#4c72b0;stroke:#4c72b0;\" x=\"105.639557\" xlink:href=\"#m20534eab12\" y=\"168.208217\"/>\r\n     <use style=\"fill:#4c72b0;stroke:#4c72b0;\" x=\"113.030094\" xlink:href=\"#m20534eab12\" y=\"156.98883\"/>\r\n     <use style=\"fill:#4c72b0;stroke:#4c72b0;\" x=\"149.982781\" xlink:href=\"#m20534eab12\" y=\"123.330668\"/>\r\n     <use style=\"fill:#4c72b0;stroke:#4c72b0;\" x=\"105.639557\" xlink:href=\"#m20534eab12\" y=\"112.111281\"/>\r\n     <use style=\"fill:#4c72b0;stroke:#4c72b0;\" x=\"68.686869\" xlink:href=\"#m20534eab12\" y=\"179.427604\"/>\r\n     <use style=\"fill:#4c72b0;stroke:#4c72b0;\" x=\"120.420631\" xlink:href=\"#m20534eab12\" y=\"134.550056\"/>\r\n     <use style=\"fill:#4c72b0;stroke:#4c72b0;\" x=\"113.030094\" xlink:href=\"#m20534eab12\" y=\"123.330668\"/>\r\n     <use style=\"fill:#4c72b0;stroke:#4c72b0;\" x=\"76.077407\" xlink:href=\"#m20534eab12\" y=\"257.963314\"/>\r\n     <use style=\"fill:#4c72b0;stroke:#4c72b0;\" x=\"68.686869\" xlink:href=\"#m20534eab12\" y=\"156.98883\"/>\r\n     <use style=\"fill:#4c72b0;stroke:#4c72b0;\" x=\"113.030094\" xlink:href=\"#m20534eab12\" y=\"123.330668\"/>\r\n     <use style=\"fill:#4c72b0;stroke:#4c72b0;\" x=\"120.420631\" xlink:href=\"#m20534eab12\" y=\"89.672507\"/>\r\n     <use style=\"fill:#4c72b0;stroke:#4c72b0;\" x=\"98.249019\" xlink:href=\"#m20534eab12\" y=\"179.427604\"/>\r\n     <use style=\"fill:#4c72b0;stroke:#4c72b0;\" x=\"120.420631\" xlink:href=\"#m20534eab12\" y=\"89.672507\"/>\r\n     <use style=\"fill:#4c72b0;stroke:#4c72b0;\" x=\"83.467944\" xlink:href=\"#m20534eab12\" y=\"156.98883\"/>\r\n     <use style=\"fill:#4c72b0;stroke:#4c72b0;\" x=\"135.201706\" xlink:href=\"#m20534eab12\" y=\"100.891894\"/>\r\n     <use style=\"fill:#4c72b0;stroke:#4c72b0;\" x=\"113.030094\" xlink:href=\"#m20534eab12\" y=\"145.769443\"/>\r\n    </g>\r\n   </g>\r\n   <g id=\"PathCollection_2\">\r\n    <defs>\r\n     <path d=\"M 0 3 \r\nC 0.795609 3 1.55874 2.683901 2.12132 2.12132 \r\nC 2.683901 1.55874 3 0.795609 3 0 \r\nC 3 -0.795609 2.683901 -1.55874 2.12132 -2.12132 \r\nC 1.55874 -2.683901 0.795609 -3 0 -3 \r\nC -0.795609 -3 -1.55874 -2.683901 -2.12132 -2.12132 \r\nC -2.683901 -1.55874 -3 -0.795609 -3 0 \r\nC -3 0.795609 -2.683901 1.55874 -2.12132 2.12132 \r\nC -1.55874 2.683901 -0.795609 3 0 3 \r\nz\r\n\" id=\"m82df5857a0\" style=\"stroke:#dd8452;\"/>\r\n    </defs>\r\n    <g clip-path=\"url(#pb812003605)\">\r\n     <use style=\"fill:#dd8452;stroke:#dd8452;\" x=\"260.840843\" xlink:href=\"#m82df5857a0\" y=\"156.98883\"/>\r\n     <use style=\"fill:#dd8452;stroke:#dd8452;\" x=\"216.497618\" xlink:href=\"#m82df5857a0\" y=\"156.98883\"/>\r\n     <use style=\"fill:#dd8452;stroke:#dd8452;\" x=\"253.450305\" xlink:href=\"#m82df5857a0\" y=\"168.208217\"/>\r\n     <use style=\"fill:#dd8452;stroke:#dd8452;\" x=\"149.982781\" xlink:href=\"#m82df5857a0\" y=\"257.963314\"/>\r\n     <use style=\"fill:#dd8452;stroke:#dd8452;\" x=\"223.888155\" xlink:href=\"#m82df5857a0\" y=\"201.866378\"/>\r\n     <use style=\"fill:#dd8452;stroke:#dd8452;\" x=\"164.763856\" xlink:href=\"#m82df5857a0\" y=\"201.866378\"/>\r\n     <use style=\"fill:#dd8452;stroke:#dd8452;\" x=\"209.107081\" xlink:href=\"#m82df5857a0\" y=\"145.769443\"/>\r\n     <use style=\"fill:#dd8452;stroke:#dd8452;\" x=\"105.639557\" xlink:href=\"#m82df5857a0\" y=\"246.743927\"/>\r\n     <use style=\"fill:#dd8452;stroke:#dd8452;\" x=\"231.278693\" xlink:href=\"#m82df5857a0\" y=\"190.646991\"/>\r\n     <use style=\"fill:#dd8452;stroke:#dd8452;\" x=\"127.811169\" xlink:href=\"#m82df5857a0\" y=\"213.085766\"/>\r\n     <use style=\"fill:#dd8452;stroke:#dd8452;\" x=\"113.030094\" xlink:href=\"#m82df5857a0\" y=\"291.621476\"/>\r\n     <use style=\"fill:#dd8452;stroke:#dd8452;\" x=\"179.544931\" xlink:href=\"#m82df5857a0\" y=\"179.427604\"/>\r\n     <use style=\"fill:#dd8452;stroke:#dd8452;\" x=\"186.935468\" xlink:href=\"#m82df5857a0\" y=\"269.182701\"/>\r\n     <use style=\"fill:#dd8452;stroke:#dd8452;\" x=\"194.326006\" xlink:href=\"#m82df5857a0\" y=\"190.646991\"/>\r\n     <use style=\"fill:#dd8452;stroke:#dd8452;\" x=\"157.373319\" xlink:href=\"#m82df5857a0\" y=\"190.646991\"/>\r\n     <use style=\"fill:#dd8452;stroke:#dd8452;\" x=\"238.66923\" xlink:href=\"#m82df5857a0\" y=\"168.208217\"/>\r\n     <use style=\"fill:#dd8452;stroke:#dd8452;\" x=\"157.373319\" xlink:href=\"#m82df5857a0\" y=\"179.427604\"/>\r\n     <use style=\"fill:#dd8452;stroke:#dd8452;\" x=\"172.154393\" xlink:href=\"#m82df5857a0\" y=\"213.085766\"/>\r\n     <use style=\"fill:#dd8452;stroke:#dd8452;\" x=\"201.716543\" xlink:href=\"#m82df5857a0\" y=\"269.182701\"/>\r\n     <use style=\"fill:#dd8452;stroke:#dd8452;\" x=\"157.373319\" xlink:href=\"#m82df5857a0\" y=\"235.52454\"/>\r\n     <use style=\"fill:#dd8452;stroke:#dd8452;\" x=\"179.544931\" xlink:href=\"#m82df5857a0\" y=\"156.98883\"/>\r\n     <use style=\"fill:#dd8452;stroke:#dd8452;\" x=\"194.326006\" xlink:href=\"#m82df5857a0\" y=\"201.866378\"/>\r\n     <use style=\"fill:#dd8452;stroke:#dd8452;\" x=\"209.107081\" xlink:href=\"#m82df5857a0\" y=\"235.52454\"/>\r\n     <use style=\"fill:#dd8452;stroke:#dd8452;\" x=\"194.326006\" xlink:href=\"#m82df5857a0\" y=\"201.866378\"/>\r\n     <use style=\"fill:#dd8452;stroke:#dd8452;\" x=\"216.497618\" xlink:href=\"#m82df5857a0\" y=\"190.646991\"/>\r\n     <use style=\"fill:#dd8452;stroke:#dd8452;\" x=\"231.278693\" xlink:href=\"#m82df5857a0\" y=\"179.427604\"/>\r\n     <use style=\"fill:#dd8452;stroke:#dd8452;\" x=\"246.059768\" xlink:href=\"#m82df5857a0\" y=\"201.866378\"/>\r\n     <use style=\"fill:#dd8452;stroke:#dd8452;\" x=\"238.66923\" xlink:href=\"#m82df5857a0\" y=\"179.427604\"/>\r\n     <use style=\"fill:#dd8452;stroke:#dd8452;\" x=\"186.935468\" xlink:href=\"#m82df5857a0\" y=\"190.646991\"/>\r\n     <use style=\"fill:#dd8452;stroke:#dd8452;\" x=\"164.763856\" xlink:href=\"#m82df5857a0\" y=\"224.305153\"/>\r\n     <use style=\"fill:#dd8452;stroke:#dd8452;\" x=\"149.982781\" xlink:href=\"#m82df5857a0\" y=\"246.743927\"/>\r\n     <use style=\"fill:#dd8452;stroke:#dd8452;\" x=\"149.982781\" xlink:href=\"#m82df5857a0\" y=\"246.743927\"/>\r\n     <use style=\"fill:#dd8452;stroke:#dd8452;\" x=\"172.154393\" xlink:href=\"#m82df5857a0\" y=\"213.085766\"/>\r\n     <use style=\"fill:#dd8452;stroke:#dd8452;\" x=\"186.935468\" xlink:href=\"#m82df5857a0\" y=\"213.085766\"/>\r\n     <use style=\"fill:#dd8452;stroke:#dd8452;\" x=\"142.592244\" xlink:href=\"#m82df5857a0\" y=\"179.427604\"/>\r\n     <use style=\"fill:#dd8452;stroke:#dd8452;\" x=\"186.935468\" xlink:href=\"#m82df5857a0\" y=\"134.550056\"/>\r\n     <use style=\"fill:#dd8452;stroke:#dd8452;\" x=\"238.66923\" xlink:href=\"#m82df5857a0\" y=\"168.208217\"/>\r\n     <use style=\"fill:#dd8452;stroke:#dd8452;\" x=\"209.107081\" xlink:href=\"#m82df5857a0\" y=\"257.963314\"/>\r\n     <use style=\"fill:#dd8452;stroke:#dd8452;\" x=\"157.373319\" xlink:href=\"#m82df5857a0\" y=\"179.427604\"/>\r\n     <use style=\"fill:#dd8452;stroke:#dd8452;\" x=\"149.982781\" xlink:href=\"#m82df5857a0\" y=\"235.52454\"/>\r\n     <use style=\"fill:#dd8452;stroke:#dd8452;\" x=\"149.982781\" xlink:href=\"#m82df5857a0\" y=\"224.305153\"/>\r\n     <use style=\"fill:#dd8452;stroke:#dd8452;\" x=\"194.326006\" xlink:href=\"#m82df5857a0\" y=\"179.427604\"/>\r\n     <use style=\"fill:#dd8452;stroke:#dd8452;\" x=\"172.154393\" xlink:href=\"#m82df5857a0\" y=\"224.305153\"/>\r\n     <use style=\"fill:#dd8452;stroke:#dd8452;\" x=\"113.030094\" xlink:href=\"#m82df5857a0\" y=\"257.963314\"/>\r\n     <use style=\"fill:#dd8452;stroke:#dd8452;\" x=\"157.373319\" xlink:href=\"#m82df5857a0\" y=\"213.085766\"/>\r\n     <use style=\"fill:#dd8452;stroke:#dd8452;\" x=\"164.763856\" xlink:href=\"#m82df5857a0\" y=\"179.427604\"/>\r\n     <use style=\"fill:#dd8452;stroke:#dd8452;\" x=\"164.763856\" xlink:href=\"#m82df5857a0\" y=\"190.646991\"/>\r\n     <use style=\"fill:#dd8452;stroke:#dd8452;\" x=\"201.716543\" xlink:href=\"#m82df5857a0\" y=\"190.646991\"/>\r\n     <use style=\"fill:#dd8452;stroke:#dd8452;\" x=\"120.420631\" xlink:href=\"#m82df5857a0\" y=\"235.52454\"/>\r\n     <use style=\"fill:#dd8452;stroke:#dd8452;\" x=\"164.763856\" xlink:href=\"#m82df5857a0\" y=\"201.866378\"/>\r\n    </g>\r\n   </g>\r\n   <g id=\"PathCollection_3\">\r\n    <defs>\r\n     <path d=\"M 0 3 \r\nC 0.795609 3 1.55874 2.683901 2.12132 2.12132 \r\nC 2.683901 1.55874 3 0.795609 3 0 \r\nC 3 -0.795609 2.683901 -1.55874 2.12132 -2.12132 \r\nC 1.55874 -2.683901 0.795609 -3 0 -3 \r\nC -0.795609 -3 -1.55874 -2.683901 -2.12132 -2.12132 \r\nC -2.683901 -1.55874 -3 -0.795609 -3 0 \r\nC -3 0.795609 -2.683901 1.55874 -2.12132 2.12132 \r\nC -1.55874 2.683901 -0.795609 3 0 3 \r\nz\r\n\" id=\"m344b68e718\" style=\"stroke:#55a868;\"/>\r\n    </defs>\r\n    <g clip-path=\"url(#pb812003605)\">\r\n     <use style=\"fill:#55a868;stroke:#55a868;\" x=\"209.107081\" xlink:href=\"#m344b68e718\" y=\"145.769443\"/>\r\n     <use style=\"fill:#55a868;stroke:#55a868;\" x=\"172.154393\" xlink:href=\"#m344b68e718\" y=\"213.085766\"/>\r\n     <use style=\"fill:#55a868;stroke:#55a868;\" x=\"268.23138\" xlink:href=\"#m344b68e718\" y=\"179.427604\"/>\r\n     <use style=\"fill:#55a868;stroke:#55a868;\" x=\"209.107081\" xlink:href=\"#m344b68e718\" y=\"190.646991\"/>\r\n     <use style=\"fill:#55a868;stroke:#55a868;\" x=\"223.888155\" xlink:href=\"#m344b68e718\" y=\"179.427604\"/>\r\n     <use style=\"fill:#55a868;stroke:#55a868;\" x=\"305.184067\" xlink:href=\"#m344b68e718\" y=\"179.427604\"/>\r\n     <use style=\"fill:#55a868;stroke:#55a868;\" x=\"105.639557\" xlink:href=\"#m344b68e718\" y=\"235.52454\"/>\r\n     <use style=\"fill:#55a868;stroke:#55a868;\" x=\"283.012455\" xlink:href=\"#m344b68e718\" y=\"190.646991\"/>\r\n     <use style=\"fill:#55a868;stroke:#55a868;\" x=\"238.66923\" xlink:href=\"#m344b68e718\" y=\"235.52454\"/>\r\n     <use style=\"fill:#55a868;stroke:#55a868;\" x=\"275.621917\" xlink:href=\"#m344b68e718\" y=\"112.111281\"/>\r\n     <use style=\"fill:#55a868;stroke:#55a868;\" x=\"223.888155\" xlink:href=\"#m344b68e718\" y=\"156.98883\"/>\r\n     <use style=\"fill:#55a868;stroke:#55a868;\" x=\"216.497618\" xlink:href=\"#m344b68e718\" y=\"213.085766\"/>\r\n     <use style=\"fill:#55a868;stroke:#55a868;\" x=\"246.059768\" xlink:href=\"#m344b68e718\" y=\"179.427604\"/>\r\n     <use style=\"fill:#55a868;stroke:#55a868;\" x=\"164.763856\" xlink:href=\"#m344b68e718\" y=\"235.52454\"/>\r\n     <use style=\"fill:#55a868;stroke:#55a868;\" x=\"172.154393\" xlink:href=\"#m344b68e718\" y=\"201.866378\"/>\r\n     <use style=\"fill:#55a868;stroke:#55a868;\" x=\"216.497618\" xlink:href=\"#m344b68e718\" y=\"156.98883\"/>\r\n     <use style=\"fill:#55a868;stroke:#55a868;\" x=\"223.888155\" xlink:href=\"#m344b68e718\" y=\"179.427604\"/>\r\n     <use style=\"fill:#55a868;stroke:#55a868;\" x=\"312.574605\" xlink:href=\"#m344b68e718\" y=\"89.672507\"/>\r\n     <use style=\"fill:#55a868;stroke:#55a868;\" x=\"312.574605\" xlink:href=\"#m344b68e718\" y=\"224.305153\"/>\r\n     <use style=\"fill:#55a868;stroke:#55a868;\" x=\"186.935468\" xlink:href=\"#m344b68e718\" y=\"269.182701\"/>\r\n     <use style=\"fill:#55a868;stroke:#55a868;\" x=\"253.450305\" xlink:href=\"#m344b68e718\" y=\"156.98883\"/>\r\n     <use style=\"fill:#55a868;stroke:#55a868;\" x=\"157.373319\" xlink:href=\"#m344b68e718\" y=\"201.866378\"/>\r\n     <use style=\"fill:#55a868;stroke:#55a868;\" x=\"312.574605\" xlink:href=\"#m344b68e718\" y=\"201.866378\"/>\r\n     <use style=\"fill:#55a868;stroke:#55a868;\" x=\"209.107081\" xlink:href=\"#m344b68e718\" y=\"213.085766\"/>\r\n     <use style=\"fill:#55a868;stroke:#55a868;\" x=\"238.66923\" xlink:href=\"#m344b68e718\" y=\"145.769443\"/>\r\n     <use style=\"fill:#55a868;stroke:#55a868;\" x=\"275.621917\" xlink:href=\"#m344b68e718\" y=\"156.98883\"/>\r\n     <use style=\"fill:#55a868;stroke:#55a868;\" x=\"201.716543\" xlink:href=\"#m344b68e718\" y=\"201.866378\"/>\r\n     <use style=\"fill:#55a868;stroke:#55a868;\" x=\"194.326006\" xlink:href=\"#m344b68e718\" y=\"179.427604\"/>\r\n     <use style=\"fill:#55a868;stroke:#55a868;\" x=\"216.497618\" xlink:href=\"#m344b68e718\" y=\"201.866378\"/>\r\n     <use style=\"fill:#55a868;stroke:#55a868;\" x=\"275.621917\" xlink:href=\"#m344b68e718\" y=\"179.427604\"/>\r\n     <use style=\"fill:#55a868;stroke:#55a868;\" x=\"290.402992\" xlink:href=\"#m344b68e718\" y=\"201.866378\"/>\r\n     <use style=\"fill:#55a868;stroke:#55a868;\" x=\"327.35568\" xlink:href=\"#m344b68e718\" y=\"89.672507\"/>\r\n     <use style=\"fill:#55a868;stroke:#55a868;\" x=\"216.497618\" xlink:href=\"#m344b68e718\" y=\"201.866378\"/>\r\n     <use style=\"fill:#55a868;stroke:#55a868;\" x=\"209.107081\" xlink:href=\"#m344b68e718\" y=\"201.866378\"/>\r\n     <use style=\"fill:#55a868;stroke:#55a868;\" x=\"194.326006\" xlink:href=\"#m344b68e718\" y=\"224.305153\"/>\r\n     <use style=\"fill:#55a868;stroke:#55a868;\" x=\"312.574605\" xlink:href=\"#m344b68e718\" y=\"179.427604\"/>\r\n     <use style=\"fill:#55a868;stroke:#55a868;\" x=\"209.107081\" xlink:href=\"#m344b68e718\" y=\"134.550056\"/>\r\n     <use style=\"fill:#55a868;stroke:#55a868;\" x=\"216.497618\" xlink:href=\"#m344b68e718\" y=\"168.208217\"/>\r\n     <use style=\"fill:#55a868;stroke:#55a868;\" x=\"186.935468\" xlink:href=\"#m344b68e718\" y=\"179.427604\"/>\r\n     <use style=\"fill:#55a868;stroke:#55a868;\" x=\"253.450305\" xlink:href=\"#m344b68e718\" y=\"168.208217\"/>\r\n     <use style=\"fill:#55a868;stroke:#55a868;\" x=\"238.66923\" xlink:href=\"#m344b68e718\" y=\"168.208217\"/>\r\n     <use style=\"fill:#55a868;stroke:#55a868;\" x=\"253.450305\" xlink:href=\"#m344b68e718\" y=\"168.208217\"/>\r\n     <use style=\"fill:#55a868;stroke:#55a868;\" x=\"172.154393\" xlink:href=\"#m344b68e718\" y=\"213.085766\"/>\r\n     <use style=\"fill:#55a868;stroke:#55a868;\" x=\"246.059768\" xlink:href=\"#m344b68e718\" y=\"156.98883\"/>\r\n     <use style=\"fill:#55a868;stroke:#55a868;\" x=\"238.66923\" xlink:href=\"#m344b68e718\" y=\"145.769443\"/>\r\n     <use style=\"fill:#55a868;stroke:#55a868;\" x=\"238.66923\" xlink:href=\"#m344b68e718\" y=\"179.427604\"/>\r\n     <use style=\"fill:#55a868;stroke:#55a868;\" x=\"209.107081\" xlink:href=\"#m344b68e718\" y=\"235.52454\"/>\r\n     <use style=\"fill:#55a868;stroke:#55a868;\" x=\"223.888155\" xlink:href=\"#m344b68e718\" y=\"179.427604\"/>\r\n     <use style=\"fill:#55a868;stroke:#55a868;\" x=\"201.716543\" xlink:href=\"#m344b68e718\" y=\"134.550056\"/>\r\n     <use style=\"fill:#55a868;stroke:#55a868;\" x=\"179.544931\" xlink:href=\"#m344b68e718\" y=\"179.427604\"/>\r\n    </g>\r\n   </g>\r\n   <g id=\"patch_3\">\r\n    <path d=\"M 47.110625 307.791669 \r\nL 47.110625 7.628693 \r\n\" style=\"fill:none;stroke:#262626;stroke-linecap:square;stroke-linejoin:miter;stroke-width:1.25;\"/>\r\n   </g>\r\n   <g id=\"patch_4\">\r\n    <path d=\"M 47.110625 307.791669 \r\nL 343.012117 307.791669 \r\n\" style=\"fill:none;stroke:#262626;stroke-linecap:square;stroke-linejoin:miter;stroke-width:1.25;\"/>\r\n   </g>\r\n  </g>\r\n  <g id=\"legend_1\">\r\n   <g id=\"text_13\">\r\n    <!-- Label -->\r\n    <defs>\r\n     <path d=\"M 14.703125 0 \r\nL 6.546875 0 \r\nL 6.546875 71.578125 \r\nL 15.328125 71.578125 \r\nL 15.328125 46.046875 \r\nQ 20.90625 53.03125 29.546875 53.03125 \r\nQ 34.328125 53.03125 38.59375 51.09375 \r\nQ 42.875 49.171875 45.625 45.671875 \r\nQ 48.390625 42.1875 49.953125 37.25 \r\nQ 51.515625 32.328125 51.515625 26.703125 \r\nQ 51.515625 13.375 44.921875 6.09375 \r\nQ 38.328125 -1.171875 29.109375 -1.171875 \r\nQ 19.921875 -1.171875 14.703125 6.5 \r\nz\r\nM 14.59375 26.3125 \r\nQ 14.59375 17 17.140625 12.84375 \r\nQ 21.296875 6.0625 28.375 6.0625 \r\nQ 34.125 6.0625 38.328125 11.0625 \r\nQ 42.53125 16.0625 42.53125 25.984375 \r\nQ 42.53125 36.140625 38.5 40.96875 \r\nQ 34.46875 45.796875 28.765625 45.796875 \r\nQ 23 45.796875 18.796875 40.796875 \r\nQ 14.59375 35.796875 14.59375 26.3125 \r\nz\r\n\" id=\"ArialMT-98\"/>\r\n    </defs>\r\n    <g style=\"fill:#262626;\" transform=\"translate(358.414398 154.203475)scale(0.102 -0.102)\">\r\n     <use xlink:href=\"#ArialMT-76\"/>\r\n     <use x=\"55.615234\" xlink:href=\"#ArialMT-97\"/>\r\n     <use x=\"111.230469\" xlink:href=\"#ArialMT-98\"/>\r\n     <use x=\"166.845703\" xlink:href=\"#ArialMT-101\"/>\r\n     <use x=\"222.460938\" xlink:href=\"#ArialMT-108\"/>\r\n    </g>\r\n   </g>\r\n   <g id=\"PathCollection_4\">\r\n    <g>\r\n     <use style=\"fill:#4c72b0;stroke:#4c72b0;\" x=\"358.846867\" xlink:href=\"#m20534eab12\" y=\"166.716819\"/>\r\n    </g>\r\n   </g>\r\n   <g id=\"text_14\">\r\n    <!-- 0.0 -->\r\n    <g style=\"fill:#262626;\" transform=\"translate(378.646867 169.604319)scale(0.11 -0.11)\">\r\n     <use xlink:href=\"#ArialMT-48\"/>\r\n     <use x=\"55.615234\" xlink:href=\"#ArialMT-46\"/>\r\n     <use x=\"83.398438\" xlink:href=\"#ArialMT-48\"/>\r\n    </g>\r\n   </g>\r\n   <g id=\"PathCollection_5\">\r\n    <g>\r\n     <use style=\"fill:#dd8452;stroke:#dd8452;\" x=\"358.846867\" xlink:href=\"#m82df5857a0\" y=\"182.276663\"/>\r\n    </g>\r\n   </g>\r\n   <g id=\"text_15\">\r\n    <!-- 1.0 -->\r\n    <defs>\r\n     <path d=\"M 37.25 0 \r\nL 28.46875 0 \r\nL 28.46875 56 \r\nQ 25.296875 52.984375 20.140625 49.953125 \r\nQ 14.984375 46.921875 10.890625 45.40625 \r\nL 10.890625 53.90625 \r\nQ 18.265625 57.375 23.78125 62.296875 \r\nQ 29.296875 67.234375 31.59375 71.875 \r\nL 37.25 71.875 \r\nz\r\n\" id=\"ArialMT-49\"/>\r\n    </defs>\r\n    <g style=\"fill:#262626;\" transform=\"translate(378.646867 185.164163)scale(0.11 -0.11)\">\r\n     <use xlink:href=\"#ArialMT-49\"/>\r\n     <use x=\"55.615234\" xlink:href=\"#ArialMT-46\"/>\r\n     <use x=\"83.398438\" xlink:href=\"#ArialMT-48\"/>\r\n    </g>\r\n   </g>\r\n   <g id=\"PathCollection_6\">\r\n    <g>\r\n     <use style=\"fill:#55a868;stroke:#55a868;\" x=\"358.846867\" xlink:href=\"#m344b68e718\" y=\"197.836506\"/>\r\n    </g>\r\n   </g>\r\n   <g id=\"text_16\">\r\n    <!-- 2.0 -->\r\n    <g style=\"fill:#262626;\" transform=\"translate(378.646867 200.724006)scale(0.11 -0.11)\">\r\n     <use xlink:href=\"#ArialMT-50\"/>\r\n     <use x=\"55.615234\" xlink:href=\"#ArialMT-46\"/>\r\n     <use x=\"83.398438\" xlink:href=\"#ArialMT-48\"/>\r\n    </g>\r\n   </g>\r\n  </g>\r\n </g>\r\n <defs>\r\n  <clipPath id=\"pb812003605\">\r\n   <rect height=\"300.162976\" width=\"295.901492\" x=\"47.110625\" y=\"7.628693\"/>\r\n  </clipPath>\r\n </defs>\r\n</svg>\r\n"
     },
     "metadata": {}
    }
   ],
   "metadata": {}
  },
  {
   "cell_type": "code",
   "execution_count": 5,
   "source": [
    "ax = sns.boxplot(x=\"Label\", y=\"Petal_Length\", data=iris)\r\n",
    "ax = sns.stripplot(x=\"Label\", y=\"Petal_Length\", data=iris, jitter=True, edgecolor=\"gray\")"
   ],
   "outputs": [
    {
     "output_type": "display_data",
     "data": {
      "text/plain": [
       "<Figure size 432x288 with 1 Axes>"
      ],
      "image/png": "[encoded data removed]",
      "image/svg+xml": "<?xml version=\"1.0\" encoding=\"utf-8\" standalone=\"no\"?>\r\n<!DOCTYPE svg PUBLIC \"-//W3C//DTD SVG 1.1//EN\"\r\n  \"http://www.w3.org/Graphics/SVG/1.1/DTD/svg11.dtd\">\r\n<!-- Created with matplotlib (https://matplotlib.org/) -->\r\n<svg height=\"266.374219pt\" version=\"1.1\" viewBox=\"0 0 379.932031 266.374219\" width=\"379.932031pt\" xmlns=\"http://www.w3.org/2000/svg\" xmlns:xlink=\"http://www.w3.org/1999/xlink\">\r\n <defs>\r\n  <style type=\"text/css\">\r\n*{stroke-linecap:butt;stroke-linejoin:round;}\r\n  </style>\r\n </defs>\r\n <g id=\"figure_1\">\r\n  <g id=\"patch_1\">\r\n   <path d=\"M 0 266.374219 \r\nL 379.932031 266.374219 \r\nL 379.932031 0 \r\nL 0 0 \r\nz\r\n\" style=\"fill:#ffffff;\"/>\r\n  </g>\r\n  <g id=\"axes_1\">\r\n   <g id=\"patch_2\">\r\n    <path d=\"M 37.932031 224.64 \r\nL 372.732031 224.64 \r\nL 372.732031 7.2 \r\nL 37.932031 7.2 \r\nz\r\n\" style=\"fill:#ffffff;\"/>\r\n   </g>\r\n   <g id=\"matplotlib.axis_1\">\r\n    <g id=\"xtick_1\">\r\n     <g id=\"text_1\">\r\n      <!-- 0.0 -->\r\n      <defs>\r\n       <path d=\"M 4.15625 35.296875 \r\nQ 4.15625 48 6.765625 55.734375 \r\nQ 9.375 63.484375 14.515625 67.671875 \r\nQ 19.671875 71.875 27.484375 71.875 \r\nQ 33.25 71.875 37.59375 69.546875 \r\nQ 41.9375 67.234375 44.765625 62.859375 \r\nQ 47.609375 58.5 49.21875 52.21875 \r\nQ 50.828125 45.953125 50.828125 35.296875 \r\nQ 50.828125 22.703125 48.234375 14.96875 \r\nQ 45.65625 7.234375 40.5 3 \r\nQ 35.359375 -1.21875 27.484375 -1.21875 \r\nQ 17.140625 -1.21875 11.234375 6.203125 \r\nQ 4.15625 15.140625 4.15625 35.296875 \r\nz\r\nM 13.1875 35.296875 \r\nQ 13.1875 17.671875 17.3125 11.828125 \r\nQ 21.4375 6 27.484375 6 \r\nQ 33.546875 6 37.671875 11.859375 \r\nQ 41.796875 17.71875 41.796875 35.296875 \r\nQ 41.796875 52.984375 37.671875 58.78125 \r\nQ 33.546875 64.59375 27.390625 64.59375 \r\nQ 21.34375 64.59375 17.71875 59.46875 \r\nQ 13.1875 52.9375 13.1875 35.296875 \r\nz\r\n\" id=\"ArialMT-48\"/>\r\n       <path d=\"M 9.078125 0 \r\nL 9.078125 10.015625 \r\nL 19.09375 10.015625 \r\nL 19.09375 0 \r\nz\r\n\" id=\"ArialMT-46\"/>\r\n      </defs>\r\n      <g style=\"fill:#262626;\" transform=\"translate(86.087031 242.013594)scale(0.11 -0.11)\">\r\n       <use xlink:href=\"#ArialMT-48\"/>\r\n       <use x=\"55.615234\" xlink:href=\"#ArialMT-46\"/>\r\n       <use x=\"83.398438\" xlink:href=\"#ArialMT-48\"/>\r\n      </g>\r\n     </g>\r\n    </g>\r\n    <g id=\"xtick_2\">\r\n     <g id=\"text_2\">\r\n      <!-- 1.0 -->\r\n      <defs>\r\n       <path d=\"M 37.25 0 \r\nL 28.46875 0 \r\nL 28.46875 56 \r\nQ 25.296875 52.984375 20.140625 49.953125 \r\nQ 14.984375 46.921875 10.890625 45.40625 \r\nL 10.890625 53.90625 \r\nQ 18.265625 57.375 23.78125 62.296875 \r\nQ 29.296875 67.234375 31.59375 71.875 \r\nL 37.25 71.875 \r\nz\r\n\" id=\"ArialMT-49\"/>\r\n      </defs>\r\n      <g style=\"fill:#262626;\" transform=\"translate(197.687031 242.013594)scale(0.11 -0.11)\">\r\n       <use xlink:href=\"#ArialMT-49\"/>\r\n       <use x=\"55.615234\" xlink:href=\"#ArialMT-46\"/>\r\n       <use x=\"83.398438\" xlink:href=\"#ArialMT-48\"/>\r\n      </g>\r\n     </g>\r\n    </g>\r\n    <g id=\"xtick_3\">\r\n     <g id=\"text_3\">\r\n      <!-- 2.0 -->\r\n      <defs>\r\n       <path d=\"M 50.34375 8.453125 \r\nL 50.34375 0 \r\nL 3.03125 0 \r\nQ 2.9375 3.171875 4.046875 6.109375 \r\nQ 5.859375 10.9375 9.828125 15.625 \r\nQ 13.8125 20.3125 21.34375 26.46875 \r\nQ 33.015625 36.03125 37.109375 41.625 \r\nQ 41.21875 47.21875 41.21875 52.203125 \r\nQ 41.21875 57.421875 37.46875 61 \r\nQ 33.734375 64.59375 27.734375 64.59375 \r\nQ 21.390625 64.59375 17.578125 60.78125 \r\nQ 13.765625 56.984375 13.71875 50.25 \r\nL 4.6875 51.171875 \r\nQ 5.609375 61.28125 11.65625 66.578125 \r\nQ 17.71875 71.875 27.9375 71.875 \r\nQ 38.234375 71.875 44.234375 66.15625 \r\nQ 50.25 60.453125 50.25 52 \r\nQ 50.25 47.703125 48.484375 43.546875 \r\nQ 46.734375 39.40625 42.65625 34.8125 \r\nQ 38.578125 30.21875 29.109375 22.21875 \r\nQ 21.1875 15.578125 18.9375 13.203125 \r\nQ 16.703125 10.84375 15.234375 8.453125 \r\nz\r\n\" id=\"ArialMT-50\"/>\r\n      </defs>\r\n      <g style=\"fill:#262626;\" transform=\"translate(309.287031 242.013594)scale(0.11 -0.11)\">\r\n       <use xlink:href=\"#ArialMT-50\"/>\r\n       <use x=\"55.615234\" xlink:href=\"#ArialMT-46\"/>\r\n       <use x=\"83.398438\" xlink:href=\"#ArialMT-48\"/>\r\n      </g>\r\n     </g>\r\n    </g>\r\n    <g id=\"text_4\">\r\n     <!-- Label -->\r\n     <defs>\r\n      <path d=\"M 7.328125 0 \r\nL 7.328125 71.578125 \r\nL 16.796875 71.578125 \r\nL 16.796875 8.453125 \r\nL 52.046875 8.453125 \r\nL 52.046875 0 \r\nz\r\n\" id=\"ArialMT-76\"/>\r\n      <path d=\"M 40.4375 6.390625 \r\nQ 35.546875 2.25 31.03125 0.53125 \r\nQ 26.515625 -1.171875 21.34375 -1.171875 \r\nQ 12.796875 -1.171875 8.203125 3 \r\nQ 3.609375 7.171875 3.609375 13.671875 \r\nQ 3.609375 17.484375 5.34375 20.625 \r\nQ 7.078125 23.78125 9.890625 25.6875 \r\nQ 12.703125 27.59375 16.21875 28.5625 \r\nQ 18.796875 29.25 24.03125 29.890625 \r\nQ 34.671875 31.15625 39.703125 32.90625 \r\nQ 39.75 34.71875 39.75 35.203125 \r\nQ 39.75 40.578125 37.25 42.78125 \r\nQ 33.890625 45.75 27.25 45.75 \r\nQ 21.046875 45.75 18.09375 43.578125 \r\nQ 15.140625 41.40625 13.71875 35.890625 \r\nL 5.125 37.0625 \r\nQ 6.296875 42.578125 8.984375 45.96875 \r\nQ 11.671875 49.359375 16.75 51.1875 \r\nQ 21.828125 53.03125 28.515625 53.03125 \r\nQ 35.15625 53.03125 39.296875 51.46875 \r\nQ 43.453125 49.90625 45.40625 47.53125 \r\nQ 47.359375 45.171875 48.140625 41.546875 \r\nQ 48.578125 39.3125 48.578125 33.453125 \r\nL 48.578125 21.734375 \r\nQ 48.578125 9.46875 49.140625 6.21875 \r\nQ 49.703125 2.984375 51.375 0 \r\nL 42.1875 0 \r\nQ 40.828125 2.734375 40.4375 6.390625 \r\nz\r\nM 39.703125 26.03125 \r\nQ 34.90625 24.078125 25.34375 22.703125 \r\nQ 19.921875 21.921875 17.671875 20.9375 \r\nQ 15.4375 19.96875 14.203125 18.09375 \r\nQ 12.984375 16.21875 12.984375 13.921875 \r\nQ 12.984375 10.40625 15.640625 8.0625 \r\nQ 18.3125 5.71875 23.4375 5.71875 \r\nQ 28.515625 5.71875 32.46875 7.9375 \r\nQ 36.421875 10.15625 38.28125 14.015625 \r\nQ 39.703125 17 39.703125 22.796875 \r\nz\r\n\" id=\"ArialMT-97\"/>\r\n      <path d=\"M 14.703125 0 \r\nL 6.546875 0 \r\nL 6.546875 71.578125 \r\nL 15.328125 71.578125 \r\nL 15.328125 46.046875 \r\nQ 20.90625 53.03125 29.546875 53.03125 \r\nQ 34.328125 53.03125 38.59375 51.09375 \r\nQ 42.875 49.171875 45.625 45.671875 \r\nQ 48.390625 42.1875 49.953125 37.25 \r\nQ 51.515625 32.328125 51.515625 26.703125 \r\nQ 51.515625 13.375 44.921875 6.09375 \r\nQ 38.328125 -1.171875 29.109375 -1.171875 \r\nQ 19.921875 -1.171875 14.703125 6.5 \r\nz\r\nM 14.59375 26.3125 \r\nQ 14.59375 17 17.140625 12.84375 \r\nQ 21.296875 6.0625 28.375 6.0625 \r\nQ 34.125 6.0625 38.328125 11.0625 \r\nQ 42.53125 16.0625 42.53125 25.984375 \r\nQ 42.53125 36.140625 38.5 40.96875 \r\nQ 34.46875 45.796875 28.765625 45.796875 \r\nQ 23 45.796875 18.796875 40.796875 \r\nQ 14.59375 35.796875 14.59375 26.3125 \r\nz\r\n\" id=\"ArialMT-98\"/>\r\n      <path d=\"M 42.09375 16.703125 \r\nL 51.171875 15.578125 \r\nQ 49.03125 7.625 43.21875 3.21875 \r\nQ 37.40625 -1.171875 28.375 -1.171875 \r\nQ 17 -1.171875 10.328125 5.828125 \r\nQ 3.65625 12.84375 3.65625 25.484375 \r\nQ 3.65625 38.578125 10.390625 45.796875 \r\nQ 17.140625 53.03125 27.875 53.03125 \r\nQ 38.28125 53.03125 44.875 45.953125 \r\nQ 51.46875 38.875 51.46875 26.03125 \r\nQ 51.46875 25.25 51.421875 23.6875 \r\nL 12.75 23.6875 \r\nQ 13.234375 15.140625 17.578125 10.59375 \r\nQ 21.921875 6.0625 28.421875 6.0625 \r\nQ 33.25 6.0625 36.671875 8.59375 \r\nQ 40.09375 11.140625 42.09375 16.703125 \r\nz\r\nM 13.234375 30.90625 \r\nL 42.1875 30.90625 \r\nQ 41.609375 37.453125 38.875 40.71875 \r\nQ 34.671875 45.796875 27.984375 45.796875 \r\nQ 21.921875 45.796875 17.796875 41.75 \r\nQ 13.671875 37.703125 13.234375 30.90625 \r\nz\r\n\" id=\"ArialMT-101\"/>\r\n      <path d=\"M 6.390625 0 \r\nL 6.390625 71.578125 \r\nL 15.1875 71.578125 \r\nL 15.1875 0 \r\nz\r\n\" id=\"ArialMT-108\"/>\r\n     </defs>\r\n     <g style=\"fill:#262626;\" transform=\"translate(190.652656 256.789219)scale(0.12 -0.12)\">\r\n      <use xlink:href=\"#ArialMT-76\"/>\r\n      <use x=\"55.615234\" xlink:href=\"#ArialMT-97\"/>\r\n      <use x=\"111.230469\" xlink:href=\"#ArialMT-98\"/>\r\n      <use x=\"166.845703\" xlink:href=\"#ArialMT-101\"/>\r\n      <use x=\"222.460938\" xlink:href=\"#ArialMT-108\"/>\r\n     </g>\r\n    </g>\r\n   </g>\r\n   <g id=\"matplotlib.axis_2\">\r\n    <g id=\"ytick_1\">\r\n     <g id=\"text_5\">\r\n      <!-- 1 -->\r\n      <g style=\"fill:#262626;\" transform=\"translate(22.315 216.255217)scale(0.11 -0.11)\">\r\n       <use xlink:href=\"#ArialMT-49\"/>\r\n      </g>\r\n     </g>\r\n    </g>\r\n    <g id=\"ytick_2\">\r\n     <g id=\"text_6\">\r\n      <!-- 2 -->\r\n      <g style=\"fill:#262626;\" transform=\"translate(22.315 183.583012)scale(0.11 -0.11)\">\r\n       <use xlink:href=\"#ArialMT-50\"/>\r\n      </g>\r\n     </g>\r\n    </g>\r\n    <g id=\"ytick_3\">\r\n     <g id=\"text_7\">\r\n      <!-- 3 -->\r\n      <defs>\r\n       <path d=\"M 4.203125 18.890625 \r\nL 12.984375 20.0625 \r\nQ 14.5 12.59375 18.140625 9.296875 \r\nQ 21.78125 6 27 6 \r\nQ 33.203125 6 37.46875 10.296875 \r\nQ 41.75 14.59375 41.75 20.953125 \r\nQ 41.75 27 37.796875 30.921875 \r\nQ 33.84375 34.859375 27.734375 34.859375 \r\nQ 25.25 34.859375 21.53125 33.890625 \r\nL 22.515625 41.609375 \r\nQ 23.390625 41.5 23.921875 41.5 \r\nQ 29.546875 41.5 34.03125 44.421875 \r\nQ 38.53125 47.359375 38.53125 53.46875 \r\nQ 38.53125 58.296875 35.25 61.46875 \r\nQ 31.984375 64.65625 26.8125 64.65625 \r\nQ 21.6875 64.65625 18.265625 61.421875 \r\nQ 14.84375 58.203125 13.875 51.765625 \r\nL 5.078125 53.328125 \r\nQ 6.6875 62.15625 12.390625 67.015625 \r\nQ 18.109375 71.875 26.609375 71.875 \r\nQ 32.46875 71.875 37.390625 69.359375 \r\nQ 42.328125 66.84375 44.9375 62.5 \r\nQ 47.5625 58.15625 47.5625 53.265625 \r\nQ 47.5625 48.640625 45.0625 44.828125 \r\nQ 42.578125 41.015625 37.703125 38.765625 \r\nQ 44.046875 37.3125 47.5625 32.6875 \r\nQ 51.078125 28.078125 51.078125 21.140625 \r\nQ 51.078125 11.765625 44.234375 5.25 \r\nQ 37.40625 -1.265625 26.953125 -1.265625 \r\nQ 17.53125 -1.265625 11.296875 4.34375 \r\nQ 5.078125 9.96875 4.203125 18.890625 \r\nz\r\n\" id=\"ArialMT-51\"/>\r\n      </defs>\r\n      <g style=\"fill:#262626;\" transform=\"translate(22.315 150.910808)scale(0.11 -0.11)\">\r\n       <use xlink:href=\"#ArialMT-51\"/>\r\n      </g>\r\n     </g>\r\n    </g>\r\n    <g id=\"ytick_4\">\r\n     <g id=\"text_8\">\r\n      <!-- 4 -->\r\n      <defs>\r\n       <path d=\"M 32.328125 0 \r\nL 32.328125 17.140625 \r\nL 1.265625 17.140625 \r\nL 1.265625 25.203125 \r\nL 33.9375 71.578125 \r\nL 41.109375 71.578125 \r\nL 41.109375 25.203125 \r\nL 50.78125 25.203125 \r\nL 50.78125 17.140625 \r\nL 41.109375 17.140625 \r\nL 41.109375 0 \r\nz\r\nM 32.328125 25.203125 \r\nL 32.328125 57.46875 \r\nL 9.90625 25.203125 \r\nz\r\n\" id=\"ArialMT-52\"/>\r\n      </defs>\r\n      <g style=\"fill:#262626;\" transform=\"translate(22.315 118.238603)scale(0.11 -0.11)\">\r\n       <use xlink:href=\"#ArialMT-52\"/>\r\n      </g>\r\n     </g>\r\n    </g>\r\n    <g id=\"ytick_5\">\r\n     <g id=\"text_9\">\r\n      <!-- 5 -->\r\n      <defs>\r\n       <path d=\"M 4.15625 18.75 \r\nL 13.375 19.53125 \r\nQ 14.40625 12.796875 18.140625 9.390625 \r\nQ 21.875 6 27.15625 6 \r\nQ 33.5 6 37.890625 10.78125 \r\nQ 42.28125 15.578125 42.28125 23.484375 \r\nQ 42.28125 31 38.0625 35.34375 \r\nQ 33.84375 39.703125 27 39.703125 \r\nQ 22.75 39.703125 19.328125 37.765625 \r\nQ 15.921875 35.84375 13.96875 32.765625 \r\nL 5.71875 33.84375 \r\nL 12.640625 70.609375 \r\nL 48.25 70.609375 \r\nL 48.25 62.203125 \r\nL 19.671875 62.203125 \r\nL 15.828125 42.96875 \r\nQ 22.265625 47.46875 29.34375 47.46875 \r\nQ 38.71875 47.46875 45.15625 40.96875 \r\nQ 51.609375 34.46875 51.609375 24.265625 \r\nQ 51.609375 14.546875 45.953125 7.46875 \r\nQ 39.0625 -1.21875 27.15625 -1.21875 \r\nQ 17.390625 -1.21875 11.203125 4.25 \r\nQ 5.03125 9.71875 4.15625 18.75 \r\nz\r\n\" id=\"ArialMT-53\"/>\r\n      </defs>\r\n      <g style=\"fill:#262626;\" transform=\"translate(22.315 85.566399)scale(0.11 -0.11)\">\r\n       <use xlink:href=\"#ArialMT-53\"/>\r\n      </g>\r\n     </g>\r\n    </g>\r\n    <g id=\"ytick_6\">\r\n     <g id=\"text_10\">\r\n      <!-- 6 -->\r\n      <defs>\r\n       <path d=\"M 49.75 54.046875 \r\nL 41.015625 53.375 \r\nQ 39.84375 58.546875 37.703125 60.890625 \r\nQ 34.125 64.65625 28.90625 64.65625 \r\nQ 24.703125 64.65625 21.53125 62.3125 \r\nQ 17.390625 59.28125 14.984375 53.46875 \r\nQ 12.59375 47.65625 12.5 36.921875 \r\nQ 15.671875 41.75 20.265625 44.09375 \r\nQ 24.859375 46.4375 29.890625 46.4375 \r\nQ 38.671875 46.4375 44.84375 39.96875 \r\nQ 51.03125 33.5 51.03125 23.25 \r\nQ 51.03125 16.5 48.125 10.71875 \r\nQ 45.21875 4.9375 40.140625 1.859375 \r\nQ 35.0625 -1.21875 28.609375 -1.21875 \r\nQ 17.625 -1.21875 10.6875 6.859375 \r\nQ 3.765625 14.9375 3.765625 33.5 \r\nQ 3.765625 54.25 11.421875 63.671875 \r\nQ 18.109375 71.875 29.4375 71.875 \r\nQ 37.890625 71.875 43.28125 67.140625 \r\nQ 48.6875 62.40625 49.75 54.046875 \r\nz\r\nM 13.875 23.1875 \r\nQ 13.875 18.65625 15.796875 14.5 \r\nQ 17.71875 10.359375 21.1875 8.171875 \r\nQ 24.65625 6 28.46875 6 \r\nQ 34.03125 6 38.03125 10.484375 \r\nQ 42.046875 14.984375 42.046875 22.703125 \r\nQ 42.046875 30.125 38.078125 34.390625 \r\nQ 34.125 38.671875 28.125 38.671875 \r\nQ 22.171875 38.671875 18.015625 34.390625 \r\nQ 13.875 30.125 13.875 23.1875 \r\nz\r\n\" id=\"ArialMT-54\"/>\r\n      </defs>\r\n      <g style=\"fill:#262626;\" transform=\"translate(22.315 52.894194)scale(0.11 -0.11)\">\r\n       <use xlink:href=\"#ArialMT-54\"/>\r\n      </g>\r\n     </g>\r\n    </g>\r\n    <g id=\"ytick_7\">\r\n     <g id=\"text_11\">\r\n      <!-- 7 -->\r\n      <defs>\r\n       <path d=\"M 4.734375 62.203125 \r\nL 4.734375 70.65625 \r\nL 51.078125 70.65625 \r\nL 51.078125 63.8125 \r\nQ 44.234375 56.546875 37.515625 44.484375 \r\nQ 30.8125 32.421875 27.15625 19.671875 \r\nQ 24.515625 10.6875 23.78125 0 \r\nL 14.75 0 \r\nQ 14.890625 8.453125 18.0625 20.40625 \r\nQ 21.234375 32.375 27.171875 43.484375 \r\nQ 33.109375 54.59375 39.796875 62.203125 \r\nz\r\n\" id=\"ArialMT-55\"/>\r\n      </defs>\r\n      <g style=\"fill:#262626;\" transform=\"translate(22.315 20.22199)scale(0.11 -0.11)\">\r\n       <use xlink:href=\"#ArialMT-55\"/>\r\n      </g>\r\n     </g>\r\n    </g>\r\n    <g id=\"text_12\">\r\n     <!-- Petal_Length -->\r\n     <defs>\r\n      <path d=\"M 7.71875 0 \r\nL 7.71875 71.578125 \r\nL 34.71875 71.578125 \r\nQ 41.84375 71.578125 45.609375 70.90625 \r\nQ 50.875 70.015625 54.4375 67.546875 \r\nQ 58.015625 65.09375 60.1875 60.640625 \r\nQ 62.359375 56.203125 62.359375 50.875 \r\nQ 62.359375 41.75 56.546875 35.421875 \r\nQ 50.734375 29.109375 35.546875 29.109375 \r\nL 17.1875 29.109375 \r\nL 17.1875 0 \r\nz\r\nM 17.1875 37.546875 \r\nL 35.6875 37.546875 \r\nQ 44.875 37.546875 48.734375 40.96875 \r\nQ 52.59375 44.390625 52.59375 50.59375 \r\nQ 52.59375 55.078125 50.3125 58.265625 \r\nQ 48.046875 61.46875 44.34375 62.5 \r\nQ 41.9375 63.140625 35.5 63.140625 \r\nL 17.1875 63.140625 \r\nz\r\n\" id=\"ArialMT-80\"/>\r\n      <path d=\"M 25.78125 7.859375 \r\nL 27.046875 0.09375 \r\nQ 23.34375 -0.6875 20.40625 -0.6875 \r\nQ 15.625 -0.6875 12.984375 0.828125 \r\nQ 10.359375 2.34375 9.28125 4.8125 \r\nQ 8.203125 7.28125 8.203125 15.1875 \r\nL 8.203125 45.015625 \r\nL 1.765625 45.015625 \r\nL 1.765625 51.859375 \r\nL 8.203125 51.859375 \r\nL 8.203125 64.703125 \r\nL 16.9375 69.96875 \r\nL 16.9375 51.859375 \r\nL 25.78125 51.859375 \r\nL 25.78125 45.015625 \r\nL 16.9375 45.015625 \r\nL 16.9375 14.703125 \r\nQ 16.9375 10.9375 17.40625 9.859375 \r\nQ 17.875 8.796875 18.921875 8.15625 \r\nQ 19.96875 7.515625 21.921875 7.515625 \r\nQ 23.390625 7.515625 25.78125 7.859375 \r\nz\r\n\" id=\"ArialMT-116\"/>\r\n      <path d=\"M -1.515625 -19.875 \r\nL -1.515625 -13.53125 \r\nL 56.734375 -13.53125 \r\nL 56.734375 -19.875 \r\nz\r\n\" id=\"ArialMT-95\"/>\r\n      <path d=\"M 6.59375 0 \r\nL 6.59375 51.859375 \r\nL 14.5 51.859375 \r\nL 14.5 44.484375 \r\nQ 20.21875 53.03125 31 53.03125 \r\nQ 35.6875 53.03125 39.625 51.34375 \r\nQ 43.5625 49.65625 45.515625 46.921875 \r\nQ 47.46875 44.1875 48.25 40.4375 \r\nQ 48.734375 37.984375 48.734375 31.890625 \r\nL 48.734375 0 \r\nL 39.9375 0 \r\nL 39.9375 31.546875 \r\nQ 39.9375 36.921875 38.90625 39.578125 \r\nQ 37.890625 42.234375 35.28125 43.8125 \r\nQ 32.671875 45.40625 29.15625 45.40625 \r\nQ 23.53125 45.40625 19.453125 41.84375 \r\nQ 15.375 38.28125 15.375 28.328125 \r\nL 15.375 0 \r\nz\r\n\" id=\"ArialMT-110\"/>\r\n      <path d=\"M 4.984375 -4.296875 \r\nL 13.53125 -5.5625 \r\nQ 14.0625 -9.515625 16.5 -11.328125 \r\nQ 19.78125 -13.765625 25.4375 -13.765625 \r\nQ 31.546875 -13.765625 34.859375 -11.328125 \r\nQ 38.1875 -8.890625 39.359375 -4.5 \r\nQ 40.046875 -1.8125 39.984375 6.78125 \r\nQ 34.234375 0 25.640625 0 \r\nQ 14.9375 0 9.078125 7.71875 \r\nQ 3.21875 15.4375 3.21875 26.21875 \r\nQ 3.21875 33.640625 5.90625 39.90625 \r\nQ 8.59375 46.1875 13.6875 49.609375 \r\nQ 18.796875 53.03125 25.6875 53.03125 \r\nQ 34.859375 53.03125 40.828125 45.609375 \r\nL 40.828125 51.859375 \r\nL 48.921875 51.859375 \r\nL 48.921875 7.03125 \r\nQ 48.921875 -5.078125 46.453125 -10.125 \r\nQ 44 -15.1875 38.640625 -18.109375 \r\nQ 33.296875 -21.046875 25.484375 -21.046875 \r\nQ 16.21875 -21.046875 10.5 -16.875 \r\nQ 4.78125 -12.703125 4.984375 -4.296875 \r\nz\r\nM 12.25 26.859375 \r\nQ 12.25 16.65625 16.296875 11.96875 \r\nQ 20.359375 7.28125 26.46875 7.28125 \r\nQ 32.515625 7.28125 36.609375 11.9375 \r\nQ 40.71875 16.609375 40.71875 26.5625 \r\nQ 40.71875 36.078125 36.5 40.90625 \r\nQ 32.28125 45.75 26.3125 45.75 \r\nQ 20.453125 45.75 16.34375 40.984375 \r\nQ 12.25 36.234375 12.25 26.859375 \r\nz\r\n\" id=\"ArialMT-103\"/>\r\n      <path d=\"M 6.59375 0 \r\nL 6.59375 71.578125 \r\nL 15.375 71.578125 \r\nL 15.375 45.90625 \r\nQ 21.53125 53.03125 30.90625 53.03125 \r\nQ 36.671875 53.03125 40.921875 50.75 \r\nQ 45.171875 48.484375 47 44.484375 \r\nQ 48.828125 40.484375 48.828125 32.859375 \r\nL 48.828125 0 \r\nL 40.046875 0 \r\nL 40.046875 32.859375 \r\nQ 40.046875 39.453125 37.1875 42.453125 \r\nQ 34.328125 45.453125 29.109375 45.453125 \r\nQ 25.203125 45.453125 21.75 43.421875 \r\nQ 18.3125 41.40625 16.84375 37.9375 \r\nQ 15.375 34.46875 15.375 28.375 \r\nL 15.375 0 \r\nz\r\n\" id=\"ArialMT-104\"/>\r\n     </defs>\r\n     <g style=\"fill:#262626;\" transform=\"translate(15.789375 151.281563)rotate(-90)scale(0.12 -0.12)\">\r\n      <use xlink:href=\"#ArialMT-80\"/>\r\n      <use x=\"66.699219\" xlink:href=\"#ArialMT-101\"/>\r\n      <use x=\"122.314453\" xlink:href=\"#ArialMT-116\"/>\r\n      <use x=\"150.097656\" xlink:href=\"#ArialMT-97\"/>\r\n      <use x=\"205.712891\" xlink:href=\"#ArialMT-108\"/>\r\n      <use x=\"227.929688\" xlink:href=\"#ArialMT-95\"/>\r\n      <use x=\"283.544922\" xlink:href=\"#ArialMT-76\"/>\r\n      <use x=\"339.160156\" xlink:href=\"#ArialMT-101\"/>\r\n      <use x=\"394.775391\" xlink:href=\"#ArialMT-110\"/>\r\n      <use x=\"450.390625\" xlink:href=\"#ArialMT-103\"/>\r\n      <use x=\"506.005859\" xlink:href=\"#ArialMT-116\"/>\r\n      <use x=\"533.789062\" xlink:href=\"#ArialMT-104\"/>\r\n     </g>\r\n    </g>\r\n   </g>\r\n   <g id=\"patch_3\">\r\n    <path clip-path=\"url(#pdc20db1739)\" d=\"M 49.092031 199.249538 \r\nL 138.372031 199.249538 \r\nL 138.372031 193.531902 \r\nL 49.092031 193.531902 \r\nL 49.092031 199.249538 \r\nz\r\n\" style=\"fill:#5875a4;stroke:#4c4c4c;stroke-linejoin:miter;stroke-width:1.5;\"/>\r\n   </g>\r\n   <g id=\"patch_4\">\r\n    <path clip-path=\"url(#pdc20db1739)\" d=\"M 160.692031 114.301806 \r\nL 249.972031 114.301806 \r\nL 249.972031 94.698484 \r\nL 160.692031 94.698484 \r\nL 160.692031 114.301806 \r\nz\r\n\" style=\"fill:#cc8963;stroke:#4c4c4c;stroke-linejoin:miter;stroke-width:1.5;\"/>\r\n   </g>\r\n   <g id=\"patch_5\">\r\n    <path clip-path=\"url(#pdc20db1739)\" d=\"M 272.292031 78.362381 \r\nL 361.572031 78.362381 \r\nL 361.572031 53.041423 \r\nL 272.292031 53.041423 \r\nL 272.292031 78.362381 \r\nz\r\n\" style=\"fill:#5f9e6e;stroke:#4c4c4c;stroke-linejoin:miter;stroke-width:1.5;\"/>\r\n   </g>\r\n   <g id=\"line2d_1\">\r\n    <path clip-path=\"url(#pdc20db1739)\" d=\"M 93.732031 199.249538 \r\nL 93.732031 205.783979 \r\n\" style=\"fill:none;stroke:#4c4c4c;stroke-linecap:round;stroke-width:1.5;\"/>\r\n   </g>\r\n   <g id=\"line2d_2\">\r\n    <path clip-path=\"url(#pdc20db1739)\" d=\"M 93.732031 193.531902 \r\nL 93.732031 189.447877 \r\n\" style=\"fill:none;stroke:#4c4c4c;stroke-linecap:round;stroke-width:1.5;\"/>\r\n   </g>\r\n   <g id=\"line2d_3\">\r\n    <path clip-path=\"url(#pdc20db1739)\" d=\"M 71.412031 205.783979 \r\nL 116.052031 205.783979 \r\n\" style=\"fill:none;stroke:#4c4c4c;stroke-linecap:round;stroke-width:1.5;\"/>\r\n   </g>\r\n   <g id=\"line2d_4\">\r\n    <path clip-path=\"url(#pdc20db1739)\" d=\"M 71.412031 189.447877 \r\nL 116.052031 189.447877 \r\n\" style=\"fill:none;stroke:#4c4c4c;stroke-linecap:round;stroke-width:1.5;\"/>\r\n   </g>\r\n   <g id=\"line2d_5\">\r\n    <defs>\r\n     <path d=\"M 0 3.535534 \r\nL 2.12132 0 \r\nL 0 -3.535534 \r\nL -2.12132 0 \r\nz\r\n\" id=\"m0555f28e9a\" style=\"stroke:#4c4c4c;stroke-linejoin:miter;\"/>\r\n    </defs>\r\n    <g clip-path=\"url(#pdc20db1739)\">\r\n     <use style=\"fill:#4c4c4c;stroke:#4c4c4c;stroke-linejoin:miter;\" x=\"93.732031\" xlink:href=\"#m0555f28e9a\" y=\"209.051199\"/>\r\n     <use style=\"fill:#4c4c4c;stroke:#4c4c4c;stroke-linejoin:miter;\" x=\"93.732031\" xlink:href=\"#m0555f28e9a\" y=\"212.31842\"/>\r\n     <use style=\"fill:#4c4c4c;stroke:#4c4c4c;stroke-linejoin:miter;\" x=\"93.732031\" xlink:href=\"#m0555f28e9a\" y=\"182.913436\"/>\r\n     <use style=\"fill:#4c4c4c;stroke:#4c4c4c;stroke-linejoin:miter;\" x=\"93.732031\" xlink:href=\"#m0555f28e9a\" y=\"182.913436\"/>\r\n    </g>\r\n   </g>\r\n   <g id=\"line2d_6\">\r\n    <path clip-path=\"url(#pdc20db1739)\" d=\"M 205.332031 114.301806 \r\nL 205.332031 137.172349 \r\n\" style=\"fill:none;stroke:#4c4c4c;stroke-linecap:round;stroke-width:1.5;\"/>\r\n   </g>\r\n   <g id=\"line2d_7\">\r\n    <path clip-path=\"url(#pdc20db1739)\" d=\"M 205.332031 94.698484 \r\nL 205.332031 78.362381 \r\n\" style=\"fill:none;stroke:#4c4c4c;stroke-linecap:round;stroke-width:1.5;\"/>\r\n   </g>\r\n   <g id=\"line2d_8\">\r\n    <path clip-path=\"url(#pdc20db1739)\" d=\"M 183.012031 137.172349 \r\nL 227.652031 137.172349 \r\n\" style=\"fill:none;stroke:#4c4c4c;stroke-linecap:round;stroke-width:1.5;\"/>\r\n   </g>\r\n   <g id=\"line2d_9\">\r\n    <path clip-path=\"url(#pdc20db1739)\" d=\"M 183.012031 78.362381 \r\nL 227.652031 78.362381 \r\n\" style=\"fill:none;stroke:#4c4c4c;stroke-linecap:round;stroke-width:1.5;\"/>\r\n   </g>\r\n   <g id=\"line2d_10\">\r\n    <g clip-path=\"url(#pdc20db1739)\">\r\n     <use style=\"fill:#4c4c4c;stroke:#4c4c4c;stroke-linejoin:miter;\" x=\"205.332031\" xlink:href=\"#m0555f28e9a\" y=\"146.974011\"/>\r\n    </g>\r\n   </g>\r\n   <g id=\"line2d_11\">\r\n    <path clip-path=\"url(#pdc20db1739)\" d=\"M 316.932031 78.362381 \r\nL 316.932031 97.965704 \r\n\" style=\"fill:none;stroke:#4c4c4c;stroke-linecap:round;stroke-width:1.5;\"/>\r\n   </g>\r\n   <g id=\"line2d_12\">\r\n    <path clip-path=\"url(#pdc20db1739)\" d=\"M 316.932031 53.041423 \r\nL 316.932031 19.552413 \r\n\" style=\"fill:none;stroke:#4c4c4c;stroke-linecap:round;stroke-width:1.5;\"/>\r\n   </g>\r\n   <g id=\"line2d_13\">\r\n    <path clip-path=\"url(#pdc20db1739)\" d=\"M 294.612031 97.965704 \r\nL 339.252031 97.965704 \r\n\" style=\"fill:none;stroke:#4c4c4c;stroke-linecap:round;stroke-width:1.5;\"/>\r\n   </g>\r\n   <g id=\"line2d_14\">\r\n    <path clip-path=\"url(#pdc20db1739)\" d=\"M 294.612031 19.552413 \r\nL 339.252031 19.552413 \r\n\" style=\"fill:none;stroke:#4c4c4c;stroke-linecap:round;stroke-width:1.5;\"/>\r\n   </g>\r\n   <g id=\"line2d_15\"/>\r\n   <g id=\"line2d_16\">\r\n    <path clip-path=\"url(#pdc20db1739)\" d=\"M 49.092031 195.982318 \r\nL 138.372031 195.982318 \r\n\" style=\"fill:none;stroke:#4c4c4c;stroke-linecap:round;stroke-width:1.5;\"/>\r\n   </g>\r\n   <g id=\"line2d_17\">\r\n    <path clip-path=\"url(#pdc20db1739)\" d=\"M 160.692031 102.866535 \r\nL 249.972031 102.866535 \r\n\" style=\"fill:none;stroke:#4c4c4c;stroke-linecap:round;stroke-width:1.5;\"/>\r\n   </g>\r\n   <g id=\"line2d_18\">\r\n    <path clip-path=\"url(#pdc20db1739)\" d=\"M 272.292031 63.659889 \r\nL 361.572031 63.659889 \r\n\" style=\"fill:none;stroke:#4c4c4c;stroke-linecap:round;stroke-width:1.5;\"/>\r\n   </g>\r\n   <g id=\"patch_6\">\r\n    <path d=\"M 37.932031 224.64 \r\nL 37.932031 7.2 \r\n\" style=\"fill:none;stroke:#262626;stroke-linecap:square;stroke-linejoin:miter;stroke-width:1.25;\"/>\r\n   </g>\r\n   <g id=\"patch_7\">\r\n    <path d=\"M 372.732031 224.64 \r\nL 372.732031 7.2 \r\n\" style=\"fill:none;stroke:#262626;stroke-linecap:square;stroke-linejoin:miter;stroke-width:1.25;\"/>\r\n   </g>\r\n   <g id=\"patch_8\">\r\n    <path d=\"M 37.932031 224.64 \r\nL 372.732031 224.64 \r\n\" style=\"fill:none;stroke:#262626;stroke-linecap:square;stroke-linejoin:miter;stroke-width:1.25;\"/>\r\n   </g>\r\n   <g id=\"patch_9\">\r\n    <path d=\"M 37.932031 7.2 \r\nL 372.732031 7.2 \r\n\" style=\"fill:none;stroke:#262626;stroke-linecap:square;stroke-linejoin:miter;stroke-width:1.25;\"/>\r\n   </g>\r\n   <g id=\"PathCollection_1\">\r\n    <defs>\r\n     <path d=\"M 0 2.5 \r\nC 0.663008 2.5 1.29895 2.236584 1.767767 1.767767 \r\nC 2.236584 1.29895 2.5 0.663008 2.5 0 \r\nC 2.5 -0.663008 2.236584 -1.29895 1.767767 -1.767767 \r\nC 1.29895 -2.236584 0.663008 -2.5 0 -2.5 \r\nC -0.663008 -2.5 -1.29895 -2.236584 -1.767767 -1.767767 \r\nC -2.236584 -1.29895 -2.5 -0.663008 -2.5 0 \r\nC -2.5 0.663008 -2.236584 1.29895 -1.767767 1.767767 \r\nC -1.29895 2.236584 -0.663008 2.5 0 2.5 \r\nz\r\n\" id=\"C0_0_ae7e3e2bb1\"/>\r\n    </defs>\r\n    <g clip-path=\"url(#pdc20db1739)\">\r\n     <use style=\"fill:#4c72b0;\" x=\"93.169148\" xlink:href=\"#C0_0_ae7e3e2bb1\" y=\"199.249538\"/>\r\n    </g>\r\n    <g clip-path=\"url(#pdc20db1739)\">\r\n     <use style=\"fill:#4c72b0;\" x=\"88.567666\" xlink:href=\"#C0_0_ae7e3e2bb1\" y=\"199.249538\"/>\r\n    </g>\r\n    <g clip-path=\"url(#pdc20db1739)\">\r\n     <use style=\"fill:#4c72b0;\" x=\"90.978752\" xlink:href=\"#C0_0_ae7e3e2bb1\" y=\"202.516758\"/>\r\n    </g>\r\n    <g clip-path=\"url(#pdc20db1739)\">\r\n     <use style=\"fill:#4c72b0;\" x=\"94.940548\" xlink:href=\"#C0_0_ae7e3e2bb1\" y=\"195.982318\"/>\r\n    </g>\r\n    <g clip-path=\"url(#pdc20db1739)\">\r\n     <use style=\"fill:#4c72b0;\" x=\"87.229683\" xlink:href=\"#C0_0_ae7e3e2bb1\" y=\"199.249538\"/>\r\n    </g>\r\n    <g clip-path=\"url(#pdc20db1739)\">\r\n     <use style=\"fill:#4c72b0;\" x=\"101.189042\" xlink:href=\"#C0_0_ae7e3e2bb1\" y=\"189.447877\"/>\r\n    </g>\r\n    <g clip-path=\"url(#pdc20db1739)\">\r\n     <use style=\"fill:#4c72b0;\" x=\"101.912371\" xlink:href=\"#C0_0_ae7e3e2bb1\" y=\"199.249538\"/>\r\n    </g>\r\n    <g clip-path=\"url(#pdc20db1739)\">\r\n     <use style=\"fill:#4c72b0;\" x=\"85.044752\" xlink:href=\"#C0_0_ae7e3e2bb1\" y=\"195.982318\"/>\r\n    </g>\r\n    <g clip-path=\"url(#pdc20db1739)\">\r\n     <use style=\"fill:#4c72b0;\" x=\"100.725307\" xlink:href=\"#C0_0_ae7e3e2bb1\" y=\"199.249538\"/>\r\n    </g>\r\n    <g clip-path=\"url(#pdc20db1739)\">\r\n     <use style=\"fill:#4c72b0;\" x=\"96.56288\" xlink:href=\"#C0_0_ae7e3e2bb1\" y=\"195.982318\"/>\r\n    </g>\r\n    <g clip-path=\"url(#pdc20db1739)\">\r\n     <use style=\"fill:#4c72b0;\" x=\"82.594655\" xlink:href=\"#C0_0_ae7e3e2bb1\" y=\"195.982318\"/>\r\n    </g>\r\n    <g clip-path=\"url(#pdc20db1739)\">\r\n     <use style=\"fill:#4c72b0;\" x=\"97.165472\" xlink:href=\"#C0_0_ae7e3e2bb1\" y=\"192.715097\"/>\r\n    </g>\r\n    <g clip-path=\"url(#pdc20db1739)\">\r\n     <use style=\"fill:#4c72b0;\" x=\"84.196697\" xlink:href=\"#C0_0_ae7e3e2bb1\" y=\"199.249538\"/>\r\n    </g>\r\n    <g clip-path=\"url(#pdc20db1739)\">\r\n     <use style=\"fill:#4c72b0;\" x=\"91.876572\" xlink:href=\"#C0_0_ae7e3e2bb1\" y=\"209.051199\"/>\r\n    </g>\r\n    <g clip-path=\"url(#pdc20db1739)\">\r\n     <use style=\"fill:#4c72b0;\" x=\"102.743587\" xlink:href=\"#C0_0_ae7e3e2bb1\" y=\"205.783979\"/>\r\n    </g>\r\n    <g clip-path=\"url(#pdc20db1739)\">\r\n     <use style=\"fill:#4c72b0;\" x=\"87.196738\" xlink:href=\"#C0_0_ae7e3e2bb1\" y=\"195.982318\"/>\r\n    </g>\r\n    <g clip-path=\"url(#pdc20db1739)\">\r\n     <use style=\"fill:#4c72b0;\" x=\"98.481876\" xlink:href=\"#C0_0_ae7e3e2bb1\" y=\"202.516758\"/>\r\n    </g>\r\n    <g clip-path=\"url(#pdc20db1739)\">\r\n     <use style=\"fill:#4c72b0;\" x=\"99.603043\" xlink:href=\"#C0_0_ae7e3e2bb1\" y=\"199.249538\"/>\r\n    </g>\r\n    <g clip-path=\"url(#pdc20db1739)\">\r\n     <use style=\"fill:#4c72b0;\" x=\"87.112928\" xlink:href=\"#C0_0_ae7e3e2bb1\" y=\"189.447877\"/>\r\n    </g>\r\n    <g clip-path=\"url(#pdc20db1739)\">\r\n     <use style=\"fill:#4c72b0;\" x=\"88.520099\" xlink:href=\"#C0_0_ae7e3e2bb1\" y=\"195.982318\"/>\r\n    </g>\r\n    <g clip-path=\"url(#pdc20db1739)\">\r\n     <use style=\"fill:#4c72b0;\" x=\"91.088905\" xlink:href=\"#C0_0_ae7e3e2bb1\" y=\"189.447877\"/>\r\n    </g>\r\n    <g clip-path=\"url(#pdc20db1739)\">\r\n     <use style=\"fill:#4c72b0;\" x=\"91.06709\" xlink:href=\"#C0_0_ae7e3e2bb1\" y=\"195.982318\"/>\r\n    </g>\r\n    <g clip-path=\"url(#pdc20db1739)\">\r\n     <use style=\"fill:#4c72b0;\" x=\"86.494678\" xlink:href=\"#C0_0_ae7e3e2bb1\" y=\"212.31842\"/>\r\n    </g>\r\n    <g clip-path=\"url(#pdc20db1739)\">\r\n     <use style=\"fill:#4c72b0;\" x=\"86.699897\" xlink:href=\"#C0_0_ae7e3e2bb1\" y=\"189.447877\"/>\r\n    </g>\r\n    <g clip-path=\"url(#pdc20db1739)\">\r\n     <use style=\"fill:#4c72b0;\" x=\"102.116147\" xlink:href=\"#C0_0_ae7e3e2bb1\" y=\"182.913436\"/>\r\n    </g>\r\n    <g clip-path=\"url(#pdc20db1739)\">\r\n     <use style=\"fill:#4c72b0;\" x=\"94.689718\" xlink:href=\"#C0_0_ae7e3e2bb1\" y=\"192.715097\"/>\r\n    </g>\r\n    <g clip-path=\"url(#pdc20db1739)\">\r\n     <use style=\"fill:#4c72b0;\" x=\"100.968987\" xlink:href=\"#C0_0_ae7e3e2bb1\" y=\"192.715097\"/>\r\n    </g>\r\n    <g clip-path=\"url(#pdc20db1739)\">\r\n     <use style=\"fill:#4c72b0;\" x=\"84.635127\" xlink:href=\"#C0_0_ae7e3e2bb1\" y=\"195.982318\"/>\r\n    </g>\r\n    <g clip-path=\"url(#pdc20db1739)\">\r\n     <use style=\"fill:#4c72b0;\" x=\"97.046346\" xlink:href=\"#C0_0_ae7e3e2bb1\" y=\"199.249538\"/>\r\n    </g>\r\n    <g clip-path=\"url(#pdc20db1739)\">\r\n     <use style=\"fill:#4c72b0;\" x=\"92.549824\" xlink:href=\"#C0_0_ae7e3e2bb1\" y=\"192.715097\"/>\r\n    </g>\r\n    <g clip-path=\"url(#pdc20db1739)\">\r\n     <use style=\"fill:#4c72b0;\" x=\"101.427901\" xlink:href=\"#C0_0_ae7e3e2bb1\" y=\"192.715097\"/>\r\n    </g>\r\n    <g clip-path=\"url(#pdc20db1739)\">\r\n     <use style=\"fill:#4c72b0;\" x=\"83.991987\" xlink:href=\"#C0_0_ae7e3e2bb1\" y=\"195.982318\"/>\r\n    </g>\r\n    <g clip-path=\"url(#pdc20db1739)\">\r\n     <use style=\"fill:#4c72b0;\" x=\"92.775041\" xlink:href=\"#C0_0_ae7e3e2bb1\" y=\"195.982318\"/>\r\n    </g>\r\n    <g clip-path=\"url(#pdc20db1739)\">\r\n     <use style=\"fill:#4c72b0;\" x=\"99.233102\" xlink:href=\"#C0_0_ae7e3e2bb1\" y=\"199.249538\"/>\r\n    </g>\r\n    <g clip-path=\"url(#pdc20db1739)\">\r\n     <use style=\"fill:#4c72b0;\" x=\"99.899983\" xlink:href=\"#C0_0_ae7e3e2bb1\" y=\"195.982318\"/>\r\n    </g>\r\n    <g clip-path=\"url(#pdc20db1739)\">\r\n     <use style=\"fill:#4c72b0;\" x=\"90.140916\" xlink:href=\"#C0_0_ae7e3e2bb1\" y=\"205.783979\"/>\r\n    </g>\r\n    <g clip-path=\"url(#pdc20db1739)\">\r\n     <use style=\"fill:#4c72b0;\" x=\"97.494835\" xlink:href=\"#C0_0_ae7e3e2bb1\" y=\"202.516758\"/>\r\n    </g>\r\n    <g clip-path=\"url(#pdc20db1739)\">\r\n     <use style=\"fill:#4c72b0;\" x=\"85.823965\" xlink:href=\"#C0_0_ae7e3e2bb1\" y=\"199.249538\"/>\r\n    </g>\r\n    <g clip-path=\"url(#pdc20db1739)\">\r\n     <use style=\"fill:#4c72b0;\" x=\"85.047669\" xlink:href=\"#C0_0_ae7e3e2bb1\" y=\"202.516758\"/>\r\n    </g>\r\n    <g clip-path=\"url(#pdc20db1739)\">\r\n     <use style=\"fill:#4c72b0;\" x=\"100.251249\" xlink:href=\"#C0_0_ae7e3e2bb1\" y=\"195.982318\"/>\r\n    </g>\r\n    <g clip-path=\"url(#pdc20db1739)\">\r\n     <use style=\"fill:#4c72b0;\" x=\"90.245636\" xlink:href=\"#C0_0_ae7e3e2bb1\" y=\"202.516758\"/>\r\n    </g>\r\n    <g clip-path=\"url(#pdc20db1739)\">\r\n     <use style=\"fill:#4c72b0;\" x=\"87.1771\" xlink:href=\"#C0_0_ae7e3e2bb1\" y=\"202.516758\"/>\r\n    </g>\r\n    <g clip-path=\"url(#pdc20db1739)\">\r\n     <use style=\"fill:#4c72b0;\" x=\"104.244043\" xlink:href=\"#C0_0_ae7e3e2bb1\" y=\"202.516758\"/>\r\n    </g>\r\n    <g clip-path=\"url(#pdc20db1739)\">\r\n     <use style=\"fill:#4c72b0;\" x=\"89.866087\" xlink:href=\"#C0_0_ae7e3e2bb1\" y=\"192.715097\"/>\r\n    </g>\r\n    <g clip-path=\"url(#pdc20db1739)\">\r\n     <use style=\"fill:#4c72b0;\" x=\"90.798188\" xlink:href=\"#C0_0_ae7e3e2bb1\" y=\"182.913436\"/>\r\n    </g>\r\n    <g clip-path=\"url(#pdc20db1739)\">\r\n     <use style=\"fill:#4c72b0;\" x=\"104.642556\" xlink:href=\"#C0_0_ae7e3e2bb1\" y=\"199.249538\"/>\r\n    </g>\r\n    <g clip-path=\"url(#pdc20db1739)\">\r\n     <use style=\"fill:#4c72b0;\" x=\"96.920327\" xlink:href=\"#C0_0_ae7e3e2bb1\" y=\"192.715097\"/>\r\n    </g>\r\n    <g clip-path=\"url(#pdc20db1739)\">\r\n     <use style=\"fill:#4c72b0;\" x=\"96.597553\" xlink:href=\"#C0_0_ae7e3e2bb1\" y=\"199.249538\"/>\r\n    </g>\r\n    <g clip-path=\"url(#pdc20db1739)\">\r\n     <use style=\"fill:#4c72b0;\" x=\"96.11351\" xlink:href=\"#C0_0_ae7e3e2bb1\" y=\"195.982318\"/>\r\n    </g>\r\n    <g clip-path=\"url(#pdc20db1739)\">\r\n     <use style=\"fill:#4c72b0;\" x=\"91.950716\" xlink:href=\"#C0_0_ae7e3e2bb1\" y=\"199.249538\"/>\r\n    </g>\r\n   </g>\r\n   <g id=\"PathCollection_2\">\r\n    <defs>\r\n     <path d=\"M 0 2.5 \r\nC 0.663008 2.5 1.29895 2.236584 1.767767 1.767767 \r\nC 2.236584 1.29895 2.5 0.663008 2.5 0 \r\nC 2.5 -0.663008 2.236584 -1.29895 1.767767 -1.767767 \r\nC 1.29895 -2.236584 0.663008 -2.5 0 -2.5 \r\nC -0.663008 -2.5 -1.29895 -2.236584 -1.767767 -1.767767 \r\nC -2.236584 -1.29895 -2.5 -0.663008 -2.5 0 \r\nC -2.5 0.663008 -2.236584 1.29895 -1.767767 1.767767 \r\nC -1.29895 2.236584 -0.663008 2.5 0 2.5 \r\nz\r\n\" id=\"C1_0_09f7c43064\"/>\r\n    </defs>\r\n    <g clip-path=\"url(#pdc20db1739)\">\r\n     <use style=\"fill:#dd8452;\" x=\"207.271805\" xlink:href=\"#C1_0_09f7c43064\" y=\"91.431263\"/>\r\n    </g>\r\n    <g clip-path=\"url(#pdc20db1739)\">\r\n     <use style=\"fill:#dd8452;\" x=\"205.383264\" xlink:href=\"#C1_0_09f7c43064\" y=\"97.965704\"/>\r\n    </g>\r\n    <g clip-path=\"url(#pdc20db1739)\">\r\n     <use style=\"fill:#dd8452;\" x=\"214.848781\" xlink:href=\"#C1_0_09f7c43064\" y=\"84.896822\"/>\r\n    </g>\r\n    <g clip-path=\"url(#pdc20db1739)\">\r\n     <use style=\"fill:#dd8452;\" x=\"206.706673\" xlink:href=\"#C1_0_09f7c43064\" y=\"114.301806\"/>\r\n    </g>\r\n    <g clip-path=\"url(#pdc20db1739)\">\r\n     <use style=\"fill:#dd8452;\" x=\"196.541178\" xlink:href=\"#C1_0_09f7c43064\" y=\"94.698484\"/>\r\n    </g>\r\n    <g clip-path=\"url(#pdc20db1739)\">\r\n     <use style=\"fill:#dd8452;\" x=\"199.532496\" xlink:href=\"#C1_0_09f7c43064\" y=\"97.965704\"/>\r\n    </g>\r\n    <g clip-path=\"url(#pdc20db1739)\">\r\n     <use style=\"fill:#dd8452;\" x=\"196.565626\" xlink:href=\"#C1_0_09f7c43064\" y=\"91.431263\"/>\r\n    </g>\r\n    <g clip-path=\"url(#pdc20db1739)\">\r\n     <use style=\"fill:#dd8452;\" x=\"212.097098\" xlink:href=\"#C1_0_09f7c43064\" y=\"137.172349\"/>\r\n    </g>\r\n    <g clip-path=\"url(#pdc20db1739)\">\r\n     <use style=\"fill:#dd8452;\" x=\"207.395914\" xlink:href=\"#C1_0_09f7c43064\" y=\"94.698484\"/>\r\n    </g>\r\n    <g clip-path=\"url(#pdc20db1739)\">\r\n     <use style=\"fill:#dd8452;\" x=\"197.41078\" xlink:href=\"#C1_0_09f7c43064\" y=\"117.569027\"/>\r\n    </g>\r\n    <g clip-path=\"url(#pdc20db1739)\">\r\n     <use style=\"fill:#dd8452;\" x=\"198.742609\" xlink:href=\"#C1_0_09f7c43064\" y=\"130.637909\"/>\r\n    </g>\r\n    <g clip-path=\"url(#pdc20db1739)\">\r\n     <use style=\"fill:#dd8452;\" x=\"214.277981\" xlink:href=\"#C1_0_09f7c43064\" y=\"107.767365\"/>\r\n    </g>\r\n    <g clip-path=\"url(#pdc20db1739)\">\r\n     <use style=\"fill:#dd8452;\" x=\"196.249018\" xlink:href=\"#C1_0_09f7c43064\" y=\"114.301806\"/>\r\n    </g>\r\n    <g clip-path=\"url(#pdc20db1739)\">\r\n     <use style=\"fill:#dd8452;\" x=\"199.077797\" xlink:href=\"#C1_0_09f7c43064\" y=\"91.431263\"/>\r\n    </g>\r\n    <g clip-path=\"url(#pdc20db1739)\">\r\n     <use style=\"fill:#dd8452;\" x=\"208.20899\" xlink:href=\"#C1_0_09f7c43064\" y=\"127.370688\"/>\r\n    </g>\r\n    <g clip-path=\"url(#pdc20db1739)\">\r\n     <use style=\"fill:#dd8452;\" x=\"196.966671\" xlink:href=\"#C1_0_09f7c43064\" y=\"101.232925\"/>\r\n    </g>\r\n    <g clip-path=\"url(#pdc20db1739)\">\r\n     <use style=\"fill:#dd8452;\" x=\"199.052074\" xlink:href=\"#C1_0_09f7c43064\" y=\"97.965704\"/>\r\n    </g>\r\n    <g clip-path=\"url(#pdc20db1739)\">\r\n     <use style=\"fill:#dd8452;\" x=\"205.074211\" xlink:href=\"#C1_0_09f7c43064\" y=\"111.034586\"/>\r\n    </g>\r\n    <g clip-path=\"url(#pdc20db1739)\">\r\n     <use style=\"fill:#dd8452;\" x=\"214.601606\" xlink:href=\"#C1_0_09f7c43064\" y=\"97.965704\"/>\r\n    </g>\r\n    <g clip-path=\"url(#pdc20db1739)\">\r\n     <use style=\"fill:#dd8452;\" x=\"213.834152\" xlink:href=\"#C1_0_09f7c43064\" y=\"117.569027\"/>\r\n    </g>\r\n    <g clip-path=\"url(#pdc20db1739)\">\r\n     <use style=\"fill:#dd8452;\" x=\"207.098791\" xlink:href=\"#C1_0_09f7c43064\" y=\"88.164043\"/>\r\n    </g>\r\n    <g clip-path=\"url(#pdc20db1739)\">\r\n     <use style=\"fill:#dd8452;\" x=\"208.383068\" xlink:href=\"#C1_0_09f7c43064\" y=\"114.301806\"/>\r\n    </g>\r\n    <g clip-path=\"url(#pdc20db1739)\">\r\n     <use style=\"fill:#dd8452;\" x=\"214.072182\" xlink:href=\"#C1_0_09f7c43064\" y=\"84.896822\"/>\r\n    </g>\r\n    <g clip-path=\"url(#pdc20db1739)\">\r\n     <use style=\"fill:#dd8452;\" x=\"212.763844\" xlink:href=\"#C1_0_09f7c43064\" y=\"91.431263\"/>\r\n    </g>\r\n    <g clip-path=\"url(#pdc20db1739)\">\r\n     <use style=\"fill:#dd8452;\" x=\"204.808195\" xlink:href=\"#C1_0_09f7c43064\" y=\"104.500145\"/>\r\n    </g>\r\n    <g clip-path=\"url(#pdc20db1739)\">\r\n     <use style=\"fill:#dd8452;\" x=\"214.083708\" xlink:href=\"#C1_0_09f7c43064\" y=\"101.232925\"/>\r\n    </g>\r\n    <g clip-path=\"url(#pdc20db1739)\">\r\n     <use style=\"fill:#dd8452;\" x=\"213.275302\" xlink:href=\"#C1_0_09f7c43064\" y=\"88.164043\"/>\r\n    </g>\r\n    <g clip-path=\"url(#pdc20db1739)\">\r\n     <use style=\"fill:#dd8452;\" x=\"198.869647\" xlink:href=\"#C1_0_09f7c43064\" y=\"81.629602\"/>\r\n    </g>\r\n    <g clip-path=\"url(#pdc20db1739)\">\r\n     <use style=\"fill:#dd8452;\" x=\"201.503393\" xlink:href=\"#C1_0_09f7c43064\" y=\"97.965704\"/>\r\n    </g>\r\n    <g clip-path=\"url(#pdc20db1739)\">\r\n     <use style=\"fill:#dd8452;\" x=\"214.23933\" xlink:href=\"#C1_0_09f7c43064\" y=\"130.637909\"/>\r\n    </g>\r\n    <g clip-path=\"url(#pdc20db1739)\">\r\n     <use style=\"fill:#dd8452;\" x=\"207.20918\" xlink:href=\"#C1_0_09f7c43064\" y=\"120.836247\"/>\r\n    </g>\r\n    <g clip-path=\"url(#pdc20db1739)\">\r\n     <use style=\"fill:#dd8452;\" x=\"212.814897\" xlink:href=\"#C1_0_09f7c43064\" y=\"124.103468\"/>\r\n    </g>\r\n    <g clip-path=\"url(#pdc20db1739)\">\r\n     <use style=\"fill:#dd8452;\" x=\"200.241641\" xlink:href=\"#C1_0_09f7c43064\" y=\"117.569027\"/>\r\n    </g>\r\n    <g clip-path=\"url(#pdc20db1739)\">\r\n     <use style=\"fill:#dd8452;\" x=\"198.375262\" xlink:href=\"#C1_0_09f7c43064\" y=\"78.362381\"/>\r\n    </g>\r\n    <g clip-path=\"url(#pdc20db1739)\">\r\n     <use style=\"fill:#dd8452;\" x=\"207.849933\" xlink:href=\"#C1_0_09f7c43064\" y=\"97.965704\"/>\r\n    </g>\r\n    <g clip-path=\"url(#pdc20db1739)\">\r\n     <use style=\"fill:#dd8452;\" x=\"205.834854\" xlink:href=\"#C1_0_09f7c43064\" y=\"97.965704\"/>\r\n    </g>\r\n    <g clip-path=\"url(#pdc20db1739)\">\r\n     <use style=\"fill:#dd8452;\" x=\"202.34584\" xlink:href=\"#C1_0_09f7c43064\" y=\"91.431263\"/>\r\n    </g>\r\n    <g clip-path=\"url(#pdc20db1739)\">\r\n     <use style=\"fill:#dd8452;\" x=\"212.231985\" xlink:href=\"#C1_0_09f7c43064\" y=\"101.232925\"/>\r\n    </g>\r\n    <g clip-path=\"url(#pdc20db1739)\">\r\n     <use style=\"fill:#dd8452;\" x=\"202.316843\" xlink:href=\"#C1_0_09f7c43064\" y=\"111.034586\"/>\r\n    </g>\r\n    <g clip-path=\"url(#pdc20db1739)\">\r\n     <use style=\"fill:#dd8452;\" x=\"213.176587\" xlink:href=\"#C1_0_09f7c43064\" y=\"114.301806\"/>\r\n    </g>\r\n    <g clip-path=\"url(#pdc20db1739)\">\r\n     <use style=\"fill:#dd8452;\" x=\"199.432979\" xlink:href=\"#C1_0_09f7c43064\" y=\"101.232925\"/>\r\n    </g>\r\n    <g clip-path=\"url(#pdc20db1739)\">\r\n     <use style=\"fill:#dd8452;\" x=\"214.752135\" xlink:href=\"#C1_0_09f7c43064\" y=\"94.698484\"/>\r\n    </g>\r\n    <g clip-path=\"url(#pdc20db1739)\">\r\n     <use style=\"fill:#dd8452;\" x=\"206.177649\" xlink:href=\"#C1_0_09f7c43064\" y=\"114.301806\"/>\r\n    </g>\r\n    <g clip-path=\"url(#pdc20db1739)\">\r\n     <use style=\"fill:#dd8452;\" x=\"202.933164\" xlink:href=\"#C1_0_09f7c43064\" y=\"137.172349\"/>\r\n    </g>\r\n    <g clip-path=\"url(#pdc20db1739)\">\r\n     <use style=\"fill:#dd8452;\" x=\"197.728457\" xlink:href=\"#C1_0_09f7c43064\" y=\"107.767365\"/>\r\n    </g>\r\n    <g clip-path=\"url(#pdc20db1739)\">\r\n     <use style=\"fill:#dd8452;\" x=\"202.441578\" xlink:href=\"#C1_0_09f7c43064\" y=\"107.767365\"/>\r\n    </g>\r\n    <g clip-path=\"url(#pdc20db1739)\">\r\n     <use style=\"fill:#dd8452;\" x=\"211.923338\" xlink:href=\"#C1_0_09f7c43064\" y=\"107.767365\"/>\r\n    </g>\r\n    <g clip-path=\"url(#pdc20db1739)\">\r\n     <use style=\"fill:#dd8452;\" x=\"196.203992\" xlink:href=\"#C1_0_09f7c43064\" y=\"104.500145\"/>\r\n    </g>\r\n    <g clip-path=\"url(#pdc20db1739)\">\r\n     <use style=\"fill:#dd8452;\" x=\"205.528731\" xlink:href=\"#C1_0_09f7c43064\" y=\"146.974011\"/>\r\n    </g>\r\n    <g clip-path=\"url(#pdc20db1739)\">\r\n     <use style=\"fill:#dd8452;\" x=\"198.868941\" xlink:href=\"#C1_0_09f7c43064\" y=\"111.034586\"/>\r\n    </g>\r\n   </g>\r\n   <g id=\"PathCollection_3\">\r\n    <defs>\r\n     <path d=\"M 0 2.5 \r\nC 0.663008 2.5 1.29895 2.236584 1.767767 1.767767 \r\nC 2.236584 1.29895 2.5 0.663008 2.5 0 \r\nC 2.5 -0.663008 2.236584 -1.29895 1.767767 -1.767767 \r\nC 1.29895 -2.236584 0.663008 -2.5 0 -2.5 \r\nC -0.663008 -2.5 -1.29895 -2.236584 -1.767767 -1.767767 \r\nC -2.236584 -1.29895 -2.5 -0.663008 -2.5 0 \r\nC -2.5 0.663008 -2.236584 1.29895 -1.767767 1.767767 \r\nC -1.29895 2.236584 -0.663008 2.5 0 2.5 \r\nz\r\n\" id=\"C2_0_7cb61b764f\"/>\r\n    </defs>\r\n    <g clip-path=\"url(#pdc20db1739)\">\r\n     <use style=\"fill:#55a868;\" x=\"310.420104\" xlink:href=\"#C2_0_7cb61b764f\" y=\"48.957397\"/>\r\n    </g>\r\n    <g clip-path=\"url(#pdc20db1739)\">\r\n     <use style=\"fill:#55a868;\" x=\"323.569397\" xlink:href=\"#C2_0_7cb61b764f\" y=\"78.362381\"/>\r\n    </g>\r\n    <g clip-path=\"url(#pdc20db1739)\">\r\n     <use style=\"fill:#55a868;\" x=\"327.448847\" xlink:href=\"#C2_0_7cb61b764f\" y=\"52.224618\"/>\r\n    </g>\r\n    <g clip-path=\"url(#pdc20db1739)\">\r\n     <use style=\"fill:#55a868;\" x=\"321.393777\" xlink:href=\"#C2_0_7cb61b764f\" y=\"62.026279\"/>\r\n    </g>\r\n    <g clip-path=\"url(#pdc20db1739)\">\r\n     <use style=\"fill:#55a868;\" x=\"322.593642\" xlink:href=\"#C2_0_7cb61b764f\" y=\"55.491838\"/>\r\n    </g>\r\n    <g clip-path=\"url(#pdc20db1739)\">\r\n     <use style=\"fill:#55a868;\" x=\"319.609285\" xlink:href=\"#C2_0_7cb61b764f\" y=\"29.354075\"/>\r\n    </g>\r\n    <g clip-path=\"url(#pdc20db1739)\">\r\n     <use style=\"fill:#55a868;\" x=\"322.338649\" xlink:href=\"#C2_0_7cb61b764f\" y=\"97.965704\"/>\r\n    </g>\r\n    <g clip-path=\"url(#pdc20db1739)\">\r\n     <use style=\"fill:#55a868;\" x=\"309.289814\" xlink:href=\"#C2_0_7cb61b764f\" y=\"39.155736\"/>\r\n    </g>\r\n    <g clip-path=\"url(#pdc20db1739)\">\r\n     <use style=\"fill:#55a868;\" x=\"315.713632\" xlink:href=\"#C2_0_7cb61b764f\" y=\"55.491838\"/>\r\n    </g>\r\n    <g clip-path=\"url(#pdc20db1739)\">\r\n     <use style=\"fill:#55a868;\" x=\"325.650093\" xlink:href=\"#C2_0_7cb61b764f\" y=\"45.690177\"/>\r\n    </g>\r\n    <g clip-path=\"url(#pdc20db1739)\">\r\n     <use style=\"fill:#55a868;\" x=\"327.382728\" xlink:href=\"#C2_0_7cb61b764f\" y=\"78.362381\"/>\r\n    </g>\r\n    <g clip-path=\"url(#pdc20db1739)\">\r\n     <use style=\"fill:#55a868;\" x=\"311.748546\" xlink:href=\"#C2_0_7cb61b764f\" y=\"71.82794\"/>\r\n    </g>\r\n    <g clip-path=\"url(#pdc20db1739)\">\r\n     <use style=\"fill:#55a868;\" x=\"322.854118\" xlink:href=\"#C2_0_7cb61b764f\" y=\"65.2935\"/>\r\n    </g>\r\n    <g clip-path=\"url(#pdc20db1739)\">\r\n     <use style=\"fill:#55a868;\" x=\"326.619344\" xlink:href=\"#C2_0_7cb61b764f\" y=\"81.629602\"/>\r\n    </g>\r\n    <g clip-path=\"url(#pdc20db1739)\">\r\n     <use style=\"fill:#55a868;\" x=\"309.402166\" xlink:href=\"#C2_0_7cb61b764f\" y=\"78.362381\"/>\r\n    </g>\r\n    <g clip-path=\"url(#pdc20db1739)\">\r\n     <use style=\"fill:#55a868;\" x=\"324.104343\" xlink:href=\"#C2_0_7cb61b764f\" y=\"71.82794\"/>\r\n    </g>\r\n    <g clip-path=\"url(#pdc20db1739)\">\r\n     <use style=\"fill:#55a868;\" x=\"327.680669\" xlink:href=\"#C2_0_7cb61b764f\" y=\"65.2935\"/>\r\n    </g>\r\n    <g clip-path=\"url(#pdc20db1739)\">\r\n     <use style=\"fill:#55a868;\" x=\"318.340703\" xlink:href=\"#C2_0_7cb61b764f\" y=\"26.086854\"/>\r\n    </g>\r\n    <g clip-path=\"url(#pdc20db1739)\">\r\n     <use style=\"fill:#55a868;\" x=\"311.638168\" xlink:href=\"#C2_0_7cb61b764f\" y=\"19.552413\"/>\r\n    </g>\r\n    <g clip-path=\"url(#pdc20db1739)\">\r\n     <use style=\"fill:#55a868;\" x=\"308.919338\" xlink:href=\"#C2_0_7cb61b764f\" y=\"81.629602\"/>\r\n    </g>\r\n    <g clip-path=\"url(#pdc20db1739)\">\r\n     <use style=\"fill:#55a868;\" x=\"323.061616\" xlink:href=\"#C2_0_7cb61b764f\" y=\"58.759059\"/>\r\n    </g>\r\n    <g clip-path=\"url(#pdc20db1739)\">\r\n     <use style=\"fill:#55a868;\" x=\"322.889286\" xlink:href=\"#C2_0_7cb61b764f\" y=\"84.896822\"/>\r\n    </g>\r\n    <g clip-path=\"url(#pdc20db1739)\">\r\n     <use style=\"fill:#55a868;\" x=\"315.818243\" xlink:href=\"#C2_0_7cb61b764f\" y=\"26.086854\"/>\r\n    </g>\r\n    <g clip-path=\"url(#pdc20db1739)\">\r\n     <use style=\"fill:#55a868;\" x=\"312.817449\" xlink:href=\"#C2_0_7cb61b764f\" y=\"84.896822\"/>\r\n    </g>\r\n    <g clip-path=\"url(#pdc20db1739)\">\r\n     <use style=\"fill:#55a868;\" x=\"308.565445\" xlink:href=\"#C2_0_7cb61b764f\" y=\"58.759059\"/>\r\n    </g>\r\n    <g clip-path=\"url(#pdc20db1739)\">\r\n     <use style=\"fill:#55a868;\" x=\"310.960585\" xlink:href=\"#C2_0_7cb61b764f\" y=\"48.957397\"/>\r\n    </g>\r\n    <g clip-path=\"url(#pdc20db1739)\">\r\n     <use style=\"fill:#55a868;\" x=\"323.293833\" xlink:href=\"#C2_0_7cb61b764f\" y=\"88.164043\"/>\r\n    </g>\r\n    <g clip-path=\"url(#pdc20db1739)\">\r\n     <use style=\"fill:#55a868;\" x=\"326.879423\" xlink:href=\"#C2_0_7cb61b764f\" y=\"84.896822\"/>\r\n    </g>\r\n    <g clip-path=\"url(#pdc20db1739)\">\r\n     <use style=\"fill:#55a868;\" x=\"318.252165\" xlink:href=\"#C2_0_7cb61b764f\" y=\"62.026279\"/>\r\n    </g>\r\n    <g clip-path=\"url(#pdc20db1739)\">\r\n     <use style=\"fill:#55a868;\" x=\"310.892579\" xlink:href=\"#C2_0_7cb61b764f\" y=\"55.491838\"/>\r\n    </g>\r\n    <g clip-path=\"url(#pdc20db1739)\">\r\n     <use style=\"fill:#55a868;\" x=\"307.924896\" xlink:href=\"#C2_0_7cb61b764f\" y=\"45.690177\"/>\r\n    </g>\r\n    <g clip-path=\"url(#pdc20db1739)\">\r\n     <use style=\"fill:#55a868;\" x=\"319.33651\" xlink:href=\"#C2_0_7cb61b764f\" y=\"35.888516\"/>\r\n    </g>\r\n    <g clip-path=\"url(#pdc20db1739)\">\r\n     <use style=\"fill:#55a868;\" x=\"306.565285\" xlink:href=\"#C2_0_7cb61b764f\" y=\"62.026279\"/>\r\n    </g>\r\n    <g clip-path=\"url(#pdc20db1739)\">\r\n     <use style=\"fill:#55a868;\" x=\"327.276697\" xlink:href=\"#C2_0_7cb61b764f\" y=\"78.362381\"/>\r\n    </g>\r\n    <g clip-path=\"url(#pdc20db1739)\">\r\n     <use style=\"fill:#55a868;\" x=\"326.502968\" xlink:href=\"#C2_0_7cb61b764f\" y=\"62.026279\"/>\r\n    </g>\r\n    <g clip-path=\"url(#pdc20db1739)\">\r\n     <use style=\"fill:#55a868;\" x=\"316.245091\" xlink:href=\"#C2_0_7cb61b764f\" y=\"45.690177\"/>\r\n    </g>\r\n    <g clip-path=\"url(#pdc20db1739)\">\r\n     <use style=\"fill:#55a868;\" x=\"322.934632\" xlink:href=\"#C2_0_7cb61b764f\" y=\"62.026279\"/>\r\n    </g>\r\n    <g clip-path=\"url(#pdc20db1739)\">\r\n     <use style=\"fill:#55a868;\" x=\"309.78706\" xlink:href=\"#C2_0_7cb61b764f\" y=\"65.2935\"/>\r\n    </g>\r\n    <g clip-path=\"url(#pdc20db1739)\">\r\n     <use style=\"fill:#55a868;\" x=\"320.672108\" xlink:href=\"#C2_0_7cb61b764f\" y=\"88.164043\"/>\r\n    </g>\r\n    <g clip-path=\"url(#pdc20db1739)\">\r\n     <use style=\"fill:#55a868;\" x=\"325.123926\" xlink:href=\"#C2_0_7cb61b764f\" y=\"68.56072\"/>\r\n    </g>\r\n    <g clip-path=\"url(#pdc20db1739)\">\r\n     <use style=\"fill:#55a868;\" x=\"317.29285\" xlink:href=\"#C2_0_7cb61b764f\" y=\"62.026279\"/>\r\n    </g>\r\n    <g clip-path=\"url(#pdc20db1739)\">\r\n     <use style=\"fill:#55a868;\" x=\"314.919354\" xlink:href=\"#C2_0_7cb61b764f\" y=\"78.362381\"/>\r\n    </g>\r\n    <g clip-path=\"url(#pdc20db1739)\">\r\n     <use style=\"fill:#55a868;\" x=\"313.602\" xlink:href=\"#C2_0_7cb61b764f\" y=\"78.362381\"/>\r\n    </g>\r\n    <g clip-path=\"url(#pdc20db1739)\">\r\n     <use style=\"fill:#55a868;\" x=\"321.535624\" xlink:href=\"#C2_0_7cb61b764f\" y=\"52.224618\"/>\r\n    </g>\r\n    <g clip-path=\"url(#pdc20db1739)\">\r\n     <use style=\"fill:#55a868;\" x=\"314.669843\" xlink:href=\"#C2_0_7cb61b764f\" y=\"58.759059\"/>\r\n    </g>\r\n    <g clip-path=\"url(#pdc20db1739)\">\r\n     <use style=\"fill:#55a868;\" x=\"318.09293\" xlink:href=\"#C2_0_7cb61b764f\" y=\"75.095161\"/>\r\n    </g>\r\n    <g clip-path=\"url(#pdc20db1739)\">\r\n     <use style=\"fill:#55a868;\" x=\"306.030269\" xlink:href=\"#C2_0_7cb61b764f\" y=\"81.629602\"/>\r\n    </g>\r\n    <g clip-path=\"url(#pdc20db1739)\">\r\n     <use style=\"fill:#55a868;\" x=\"306.48627\" xlink:href=\"#C2_0_7cb61b764f\" y=\"75.095161\"/>\r\n    </g>\r\n    <g clip-path=\"url(#pdc20db1739)\">\r\n     <use style=\"fill:#55a868;\" x=\"316.458033\" xlink:href=\"#C2_0_7cb61b764f\" y=\"68.56072\"/>\r\n    </g>\r\n    <g clip-path=\"url(#pdc20db1739)\">\r\n     <use style=\"fill:#55a868;\" x=\"326.617133\" xlink:href=\"#C2_0_7cb61b764f\" y=\"78.362381\"/>\r\n    </g>\r\n   </g>\r\n  </g>\r\n </g>\r\n <defs>\r\n  <clipPath id=\"pdc20db1739\">\r\n   <rect height=\"217.44\" width=\"334.8\" x=\"37.932031\" y=\"7.2\"/>\r\n  </clipPath>\r\n </defs>\r\n</svg>\r\n"
     },
     "metadata": {}
    }
   ],
   "metadata": {}
  },
  {
   "cell_type": "markdown",
   "source": [
    "# Split the data"
   ],
   "metadata": {}
  },
  {
   "cell_type": "code",
   "execution_count": 6,
   "source": [
    "train_data, test_data, train_label, test_label = train_test_split(x, y, random_state=1, train_size=0.8)"
   ],
   "outputs": [],
   "metadata": {}
  },
  {
   "cell_type": "markdown",
   "source": [
    "# Random Forest model trainning"
   ],
   "metadata": {}
  },
  {
   "cell_type": "code",
   "execution_count": 7,
   "source": [
    "rf = RandomForestClassifier(random_state=0, n_estimators=100)\r\n",
    "scores = cross_val_score(rf, x, y.ravel(), cv=10, scoring=\"accuracy\") \r\n",
    "print(\"RF准确率（交叉验证）:\", scores.mean())"
   ],
   "outputs": [
    {
     "output_type": "stream",
     "name": "stdout",
     "text": [
      "RF准确率（交叉验证）: 0.96\n"
     ]
    }
   ],
   "metadata": {}
  },
  {
   "cell_type": "markdown",
   "source": [
    "# Adjust parameters"
   ],
   "metadata": {}
  },
  {
   "cell_type": "code",
   "execution_count": 8,
   "source": [
    "from sklearn.model_selection import GridSearchCV\r\n",
    "param_grid = [{'n_estimators': [3, 10, 100], 'max_features': [2, 3, 4], 'max_depth': [4, 6, 8]}]\r\n",
    " \r\n",
    "rf = RandomForestClassifier(random_state=0)\r\n",
    "grid_search = GridSearchCV(rf, param_grid, cv=10, scoring='accuracy')\r\n",
    " \r\n",
    "grid_search.fit(x,y)\r\n",
    "print('参数：',grid_search.best_params_)\r\n",
    "print('准确率：',grid_search.best_score_)"
   ],
   "outputs": [
    {
     "output_type": "stream",
     "name": "stdout",
     "text": [
      "参数： {'max_depth': 4, 'max_features': 2, 'n_estimators': 3}\n",
      "准确率： 0.9666666666666666\n"
     ]
    }
   ],
   "metadata": {}
  },
  {
   "cell_type": "markdown",
   "source": [
    "# Feature Selection"
   ],
   "metadata": {}
  },
  {
   "cell_type": "code",
   "execution_count": 9,
   "source": [
    "rf = RandomForestClassifier(random_state=0, n_estimators=100)\r\n",
    "rf.fit(x,y.ravel())\r\n",
    "feature_importance_values_rf = rf.feature_importances_\r\n",
    "feature_importances_rf = pd.DataFrame({'importance': feature_importance_values_rf})\r\n",
    "feature_importances_rf = pd.concat([pd.DataFrame({'Feature':feature}),feature_importances_rf],axis=1)\r\n",
    "feature_importances_rf = feature_importances_rf.sort_values(['importance'], ascending=False)\r\n",
    "feature_importances_rf"
   ],
   "outputs": [
    {
     "output_type": "execute_result",
     "data": {
      "text/plain": [
       "        Feature  importance\n",
       "2  Petal_Length    0.460445\n",
       "3   Petal_Width    0.424116\n",
       "0  Sepal_Length    0.090908\n",
       "1   Sepal_Width    0.024531"
      ],
      "text/html": [
       "<div>\n",
       "<style scoped>\n",
       "    .dataframe tbody tr th:only-of-type {\n",
       "        vertical-align: middle;\n",
       "    }\n",
       "\n",
       "    .dataframe tbody tr th {\n",
       "        vertical-align: top;\n",
       "    }\n",
       "\n",
       "    .dataframe thead th {\n",
       "        text-align: right;\n",
       "    }\n",
       "</style>\n",
       "<table border=\"1\" class=\"dataframe\">\n",
       "  <thead>\n",
       "    <tr style=\"text-align: right;\">\n",
       "      <th></th>\n",
       "      <th>Feature</th>\n",
       "      <th>importance</th>\n",
       "    </tr>\n",
       "  </thead>\n",
       "  <tbody>\n",
       "    <tr>\n",
       "      <td>2</td>\n",
       "      <td>Petal_Length</td>\n",
       "      <td>0.460445</td>\n",
       "    </tr>\n",
       "    <tr>\n",
       "      <td>3</td>\n",
       "      <td>Petal_Width</td>\n",
       "      <td>0.424116</td>\n",
       "    </tr>\n",
       "    <tr>\n",
       "      <td>0</td>\n",
       "      <td>Sepal_Length</td>\n",
       "      <td>0.090908</td>\n",
       "    </tr>\n",
       "    <tr>\n",
       "      <td>1</td>\n",
       "      <td>Sepal_Width</td>\n",
       "      <td>0.024531</td>\n",
       "    </tr>\n",
       "  </tbody>\n",
       "</table>\n",
       "</div>"
      ]
     },
     "metadata": {},
     "execution_count": 9
    }
   ],
   "metadata": {}
  },
  {
   "cell_type": "code",
   "execution_count": 10,
   "source": [
    "rf = RandomForestClassifier(random_state=0, n_estimators=100)\r\n",
    "rf.fit(train_data[:,2:], train_label) \r\n",
    "print(\"训练集：\",rf.score(train_data[:,2:],train_label))\r\n",
    "print(\"测试集：\",rf.score(test_data[:,2:],test_label))"
   ],
   "outputs": [
    {
     "output_type": "stream",
     "name": "stdout",
     "text": [
      "训练集： 0.9916666666666667\n",
      "测试集： 0.9666666666666667\n"
     ]
    }
   ],
   "metadata": {}
  },
  {
   "cell_type": "code",
   "execution_count": null,
   "source": [],
   "outputs": [],
   "metadata": {}
  }
 ],
 "metadata": {
  "file_extension": ".py",
  "kernelspec": {
   "display_name": "'Python Interactive'",
   "language": "python",
   "name": "019881b7-e133-435e-a6a7-531fa3ce8a70"
  },
  "language_info": {
   "codemirror_mode": {
    "name": "ipython",
    "version": 3
   },
   "file_extension": ".py",
   "mimetype": "text/x-python",
   "name": "python",
   "nbconvert_exporter": "python",
   "pygments_lexer": "ipython3",
   "version": "3.7.3"
  },
  "mimetype": "text/x-python",
  "name": "python",
  "npconvert_exporter": "python",
  "pygments_lexer": "ipython3",
  "version": 3
 },
 "nbformat": 4,
 "nbformat_minor": 2
}